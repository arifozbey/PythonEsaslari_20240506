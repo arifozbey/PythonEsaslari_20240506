{
 "cells": [
  {
   "cell_type": "markdown",
   "metadata": {},
   "source": [
    "## Fonksiyonlar\n",
    "![alt text](Fonksiyonlar.png)\n"
   ]
  },
  {
   "cell_type": "markdown",
   "metadata": {},
   "source": [
    "### Fonksiyon Tanımlama ve Help"
   ]
  },
  {
   "cell_type": "code",
   "execution_count": 14,
   "metadata": {},
   "outputs": [
    {
     "data": {
      "text/plain": [
       "'30 C = 86.0 F'"
      ]
     },
     "execution_count": 14,
     "metadata": {},
     "output_type": "execute_result"
    }
   ],
   "source": [
    "# Bu fonksiyonun helpinde görünür.\n",
    "def c2f(c_sicaklik):\n",
    "    \"\"\"\n",
    "        Bu fonksiyon C sıcaklık alır F sıcaklık hesaplar.\n",
    "\n",
    "        Parametreler:\n",
    "        -------------------------\n",
    "        c_sicaklik: int. C cinsinden sıcaklık değeri\n",
    "        return : str. F cinsinden sıcaklık değeri karşılığı\n",
    "    \"\"\"\n",
    "\n",
    "    f_sicaklik = c_sicaklik * 1.8 + 32\n",
    "\n",
    "    return f\"{c_sicaklik} C = {f_sicaklik} F\"\n",
    "\n",
    "#--------\n",
    "c2f #<function __main__.c2f(c_sicaklik)> nesneyi işaret ettik.\n",
    "c2f(20) #() kapatarak fonksiyonu çalıştırdık.\n",
    "\n",
    "#\n",
    "sonuc = c2f(30)\n",
    "sonuc"
   ]
  },
  {
   "cell_type": "code",
   "execution_count": 15,
   "metadata": {},
   "outputs": [
    {
     "name": "stdout",
     "output_type": "stream",
     "text": [
      "Help on function c2f in module __main__:\n",
      "\n",
      "c2f(c_sicaklik)\n",
      "    Bu fonksiyon C sıcaklık alır F sıcaklık hesaplar.\n",
      "    \n",
      "    Parametreler:\n",
      "    -------------------------\n",
      "    c_sicaklik: int. C cinsinden sıcaklık değeri\n",
      "    return : str. F cinsinden sıcaklık değeri karşılığı\n",
      "\n"
     ]
    }
   ],
   "source": [
    "'''\n",
    "3 şekilde help yazabiliriz.:\n",
    "    1. fonksiyon adının üstünde # ile yorum satırı ekleyerek\n",
    "    2. fonksiyon adının alınta yorum satırı veya metin ekleyerek\n",
    "    3. __doc__ ile fonksiyonun docstringini yazdırarak\n",
    "'''\n",
    "\n",
    "help(c2f)"
   ]
  },
  {
   "cell_type": "code",
   "execution_count": 16,
   "metadata": {},
   "outputs": [
    {
     "name": "stdout",
     "output_type": "stream",
     "text": [
      "Help on function c2f in module __main__:\n",
      "\n",
      "c2f(c_sicaklik)\n",
      "            Bu fonksiyon C sıcaklık alır F sıcaklık hesaplar.\n",
      "    \n",
      "            Parametreler:\n",
      "            -------------------------\n",
      "            c_sicaklik: int. C cinsinden sıcaklık değeri\n",
      "            return : str. F cinsinden sıcaklık değeri karşılığı\n",
      "        \n",
      "    Bu metin __doc__ ile eklenmiştir.\n",
      "\n"
     ]
    }
   ],
   "source": [
    "#helpe sonradan bir şey eklemek isterseniz.\n",
    "c2f.__doc__ #help bilgisini verir.\n",
    "\n",
    "#\n",
    "c2f.__doc__+=\"\\nBu metin __doc__ ile eklenmiştir.\"\n",
    "\n",
    "#\n",
    "help(c2f)"
   ]
  },
  {
   "cell_type": "code",
   "execution_count": 22,
   "metadata": {},
   "outputs": [
    {
     "data": {
      "text/plain": [
       "'Orta düzeyde zayıf'"
      ]
     },
     "execution_count": 22,
     "metadata": {},
     "output_type": "execute_result"
    }
   ],
   "source": [
    "#örn:\n",
    "#beden kitle indexi üzerinden obeziste seviyesini hesaplayalım.\n",
    "\n",
    "def obeziteSeviyesi(kilo, boy):\n",
    "    \"\"\"\n",
    "        Beden kitle indexi üzerinden obeziste seviyesini hesaplar.\n",
    "\n",
    "        Parametreler:\n",
    "        --------------------------\n",
    "        kilo : kg cinsinden kilonuz.\n",
    "        boy  : m cinsinden boyunuz \n",
    "    \"\"\"\n",
    "\n",
    "    bki = kilo/boy**2\n",
    "\n",
    "    #\n",
    "    if bki>=40:\n",
    "        return \"3. Dereceden obez\"\n",
    "    elif bki>=35:\n",
    "        return \"2. Dereceden obez\"\n",
    "    elif bki>=30:\n",
    "        return \"1. Dereceden obez\"\n",
    "    elif bki>=25:\n",
    "        return \"Hafif Şişman\"\n",
    "    elif bki>=18.5:\n",
    "        return \"Normal\"\n",
    "    elif bki>=17:\n",
    "        return \"Hafif düzeyde zayıf\"\n",
    "    elif bki>=16:\n",
    "        return \"Orta düzeyde zayıf\"\n",
    "    else:\n",
    "        return \"Ağır düzeyde zayıf\"\n",
    "    \n",
    "#---------------------------------\n",
    "obeziteSeviyesi(70,1.75) #parametre değerleri sırayla gönderilir.\n",
    "obeziteSeviyesi(boy=1.90, kilo=60) #parametre değerleri isimleri ile gönderilir. O zaman sıra gözetmeye gerek yok."
   ]
  },
  {
   "cell_type": "markdown",
   "metadata": {},
   "source": [
    "### Fonksiyon Parametreleri\n",
    "![alt text](FonksiyonParametreleri.png)"
   ]
  },
  {
   "cell_type": "markdown",
   "metadata": {},
   "source": [
    "#### Varsayılan Değerli Parametreler"
   ]
  },
  {
   "cell_type": "code",
   "execution_count": 23,
   "metadata": {},
   "outputs": [],
   "source": [
    "# Paratmetreler = ile varsayılan değer atanabilir.\n",
    "# varsayılan değerli parametreler sonda tanımlanmalıdır.\n",
    "def fnk_varsayilanDegerli(p1, p2=\"Varsayılan Değer\"):\n",
    "    #print(f\"p1 = {p1} \\np2 = {p2}\")\n",
    "    print(f\"{p1 =}\\n{p2 =}\") #f string kullanımıda {p1 = } sonucu p1 = p1degeri şeklinde görünür.  "
   ]
  },
  {
   "cell_type": "code",
   "execution_count": 28,
   "metadata": {},
   "outputs": [
    {
     "name": "stdout",
     "output_type": "stream",
     "text": [
      "p1 ='Ali'\n",
      "p2 ='Varsayılan Değer'\n"
     ]
    }
   ],
   "source": [
    "#fnk_varsayilanDegerli(\"Ali\",\"Veli\")\n",
    "#fnk_varsayilanDegerli(\"Ali\") #p2 değeri varsayılan değer alır.\n",
    "\n",
    "#\n",
    "fnk_varsayilanDegerli(p1=\"Ali\") #parametre ismi kullanılabilir. vardsayılan değer alan parametre sonda tanımlanır."
   ]
  },
  {
   "cell_type": "markdown",
   "metadata": {},
   "source": [
    "#### Sınırsız sayıda değer alan parametreler"
   ]
  },
  {
   "cell_type": "code",
   "execution_count": 32,
   "metadata": {},
   "outputs": [],
   "source": [
    "# * ile tanımlanan parametreye verilen sınırsız sayıda değer. içeride tuple olarak temsil edilr.\n",
    "# ** ile tanmlanan parametreye verilen key =  value şeklinde değerler içeride dict olarak temsil edilir\n",
    "def fnk_sinirsizDegerli(*sinirsizValue , **sinirsizKeyValue):\n",
    "    print(f\"{sinirsizValue =}\")\n",
    "    print(f\"{sinirsizKeyValue =}\")"
   ]
  },
  {
   "cell_type": "code",
   "execution_count": 34,
   "metadata": {},
   "outputs": [
    {
     "name": "stdout",
     "output_type": "stream",
     "text": [
      "sinirsizValue =(1, 2, 3)\n",
      "sinirsizKeyValue ={'ad': 'Ali', 'soyad': 'Uçan'}\n"
     ]
    }
   ],
   "source": [
    "#fnk_sinirsizDegerli(1,2,3,\"Ali\",\"Uçan\") #tüm değerleri *sinirsizValue paremetresine gönderir.\n",
    "fnk_sinirsizDegerli(1,2,3, ad=\"Ali\", soyad=\"Uçan\") #key=value şeklinde gönderilenler **sinirsizKeyValue parmetresine gönderildi."
   ]
  },
  {
   "cell_type": "markdown",
   "metadata": {},
   "source": [
    "#### Parametre tiplerinin beliriilmesi\n",
    "* Bu yöntem kullanıcıyı bilgilendirmek amaçlıdır.\n",
    "* Helpte veya intellisense de kullanıcı ne girmesi gerektiğini görebilir.\n",
    "* Python Dynamic Type özelliğine sahip olduğu için tip kontrolü geliştiriciye aittir.\n",
    "    * type() veya isinstance() ile kontrol yapılabilir. "
   ]
  },
  {
   "cell_type": "code",
   "execution_count": 35,
   "metadata": {},
   "outputs": [],
   "source": [
    "#örn:\n",
    "#dict ve str alsın geriye str dönsün.\n",
    "def fnk_dictKeyVerStrDondur(yourDict : dict , yourKey : str) -> str:\n",
    "    if not(type(yourDict) == dict and type(yourKey) == str):\n",
    "        #raise TypeError(\"Parametrelerin tipleri uygun değil.\")\n",
    "        return \"Hatalı parametre girişi\"\n",
    "    \n",
    "    #---------------------------\n",
    "    \"\"\" if yourKey in yourDict:\n",
    "        return yourDict[yourKey]\n",
    "    else:\n",
    "        return \"Key bulunamadı\" \"\"\"\n",
    "    \n",
    "    if yourDict.get(yourKey): #yoksa None döner bu da False olarak değerlendirilie. Varsa True olarak değerlendirilir.\n",
    "        return yourDict[yourKey]\n",
    "    else:\n",
    "        return \"Key bulunamadı\""
   ]
  },
  {
   "cell_type": "code",
   "execution_count": 39,
   "metadata": {},
   "outputs": [
    {
     "data": {
      "text/plain": [
       "'Hatalı parametre girişi'"
      ]
     },
     "execution_count": 39,
     "metadata": {},
     "output_type": "execute_result"
    }
   ],
   "source": [
    "dict_tel = {\"ev\":\"231-3213\", \"iş\":[\"413-432\",\"43422-432132\"]}\n",
    "\n",
    "#\n",
    "fnk_dictKeyVerStrDondur(dict_tel, \"ev\")\n",
    "\n",
    "#\n",
    "fnk_dictKeyVerStrDondur(dict_tel, \"olmayanKey\")\n",
    "fnk_dictKeyVerStrDondur(\"Ali\", \"ev\") #hatalı parametre girişi. dict ve str göndermedik. str str gönderdik."
   ]
  },
  {
   "cell_type": "markdown",
   "metadata": {},
   "source": [
    "### Q&A"
   ]
  },
  {
   "cell_type": "code",
   "execution_count": 49,
   "metadata": {},
   "outputs": [
    {
     "data": {
      "text/plain": [
       "{'Adet': 1, 'Toplam': 312, 'Ortalama': 312.0, 'TamBolunenler': [312]}"
      ]
     },
     "execution_count": 49,
     "metadata": {},
     "output_type": "execute_result"
    }
   ],
   "source": [
    "#soru:\n",
    "#fonksiyona verilen sayılardan 4'e tam bölünenlerin adedi, toplamını, ortalamasını ve girilen sayıları döndüren fonksiyonu yazınız.\n",
    "def ozelHesaplama(*sayilar):\n",
    "    lst_kalansiz = []\n",
    "\n",
    "    for s in set(sayilar): #gelen sayıları tekilleştirdik\n",
    "        if isinstance(s, int):\n",
    "            if s%4==0:\n",
    "                lst_kalansiz.append(s)\n",
    "    #\n",
    "    return {\n",
    "            \"Adet\":len(lst_kalansiz),\n",
    "            \"Toplam\":sum(lst_kalansiz),\n",
    "            \"Ortalama\":sum(lst_kalansiz)/len(lst_kalansiz),\n",
    "            \"TamBolunenler\":lst_kalansiz\n",
    "    }\n",
    "\n",
    "#---------------------------------\n",
    "ozelHesaplama(1,2,312,54,312,21464)\n",
    "ozelHesaplama(1,2,312,54,312,\"21464\")\n",
    "\n",
    "#dict dönüyordu.\n",
    "#ozelHesaplama(1,2,312,54,312,\"21464\")[\"TamBolunenler\"]"
   ]
  },
  {
   "cell_type": "markdown",
   "metadata": {},
   "source": [
    "### İçe İçe Fonksiyonlar ###\n",
    "* fonksiyonlar içinde fonksiyon tanımlanabilir.\n",
    "* fonksiyonlar geriye fonksiyon döndurebilirler."
   ]
  },
  {
   "cell_type": "code",
   "execution_count": 3,
   "metadata": {},
   "outputs": [],
   "source": [
    "def UyeKayit(ad,yas):\n",
    "    print(\"Kayıt işlemi başlaıtılıyor...\")\n",
    "\n",
    "    def CocukKayit(adet):\n",
    "        print(f\"{adet} çocuk için kayıt alınmıştır.\")\n",
    "    \n",
    "    def YetistikKayit(adet):\n",
    "        print(f\"{adet} yetişkin için kayıt alınmıştır.\")\n",
    "\n",
    "    #---------------------------------\n",
    "    if yas<18:\n",
    "        return CocukKayit #() fonksiyonu çaıştırmak demektir. biz fonksiyonu döndürmek istiyoruz.\n",
    "    else:\n",
    "        return YetistikKayit"
   ]
  },
  {
   "cell_type": "code",
   "execution_count": 8,
   "metadata": {},
   "outputs": [
    {
     "name": "stdout",
     "output_type": "stream",
     "text": [
      "Kayıt işlemi başlaıtılıyor...\n",
      "3 çocuk için kayıt alınmıştır.\n",
      "Kayıt işlemi başlaıtılıyor...\n",
      "2 yetişkin için kayıt alınmıştır.\n"
     ]
    }
   ],
   "source": [
    "#type(UyeKayit(\"Ali\", 10)) #function döner.\n",
    "\n",
    "#\n",
    "fnk = UyeKayit(\"Ali\", 10)\n",
    "fnk(3) #3 çocuk için kayıt alınmıştır.\n",
    "\n",
    "#--------\n",
    "UyeKayit(\"Ali\", 20)(2) #2 yetişkin için kayıt alınmıştır. () ile içeriden gelen fonksiyonu çalıştırdık."
   ]
  },
  {
   "cell_type": "markdown",
   "metadata": {},
   "source": [
    "### Recursive Fonksiyonlar ###\n",
    "* Kendilerini çağıran fonksiyonlardır.\n",
    "* özellikle derinliği belli olmayan hiyerarşilerde gezinmek için tercih edilir."
   ]
  },
  {
   "cell_type": "code",
   "execution_count": 9,
   "metadata": {},
   "outputs": [],
   "source": [
    "# faktöriyel hesaplama\n",
    "# 4! = 4*3*2*1! = 24  \n",
    "# özel durumlar. 0! = 1 ve 1! = 1\n",
    "\n",
    "#örn:\n",
    "def faktoriyel(n):\n",
    "    if n in (0,1): #n==0 or n==1:\n",
    "        return 1 #çıkış koşulu\n",
    "    else:\n",
    "        return n*faktoriyel(n-1) #kendini çağırarak n-1 faktöriyelini hesaplar. döngü kuralı."
   ]
  },
  {
   "cell_type": "code",
   "execution_count": 12,
   "metadata": {},
   "outputs": [
    {
     "data": {
      "text/plain": [
       "'3,628,800'"
      ]
     },
     "execution_count": 12,
     "metadata": {},
     "output_type": "execute_result"
    }
   ],
   "source": [
    "faktoriyel(10)\n",
    "\n",
    "#çıktıyı formatlamak için:\n",
    "format(faktoriyel(10), \",\") #virgül ile binlik ayırma"
   ]
  },
  {
   "cell_type": "markdown",
   "metadata": {},
   "source": [
    "## Scope Kavramı\n",
    "![alt text](FunctionScopeKavrami.png)"
   ]
  },
  {
   "cell_type": "code",
   "execution_count": 19,
   "metadata": {},
   "outputs": [
    {
     "name": "stdout",
     "output_type": "stream",
     "text": [
      "localdeki x: iç\n",
      "fnk ile localdeki x: iç\n",
      "fnk ile globaldeki x: dış\n"
     ]
    },
    {
     "data": {
      "text/plain": [
       "'fnk içinde global keywordu ile tanımlandı.'"
      ]
     },
     "execution_count": 19,
     "metadata": {},
     "output_type": "execute_result"
    }
   ],
   "source": [
    "#global scope\n",
    "x = \"dış\"\n",
    "\n",
    "def fnk():\n",
    "    #local scope\n",
    "    #print(x)\n",
    "    #localde bir x tanımlı değilse globaldeki x i kullanır.\n",
    "    #localde bir x tanımlı ise ancak tanımlandıktan sonra kullanılabilir.\n",
    "\n",
    "    #---------\n",
    "    x = \"iç\"\n",
    "    #print(x)\n",
    "    #---------\n",
    "    \n",
    "    #localdeki ve globaldeki x değerlerine ulaşabiliriz.\n",
    "    print(\"localdeki x:\", x)\n",
    "\n",
    "    #fonksiyonlar yardımıyla\n",
    "    print(\"fnk ile localdeki x:\", locals()[\"x\"])\n",
    "    print(\"fnk ile globaldeki x:\", globals()[\"x\"])\n",
    "\n",
    "    #------------\n",
    "    #localde tanımlı ve globalden erişilebilir bir nesne tanımlamak için global kelimesi kullanılır.\n",
    "    global icerideTanimliGlobaldenErisilebilenDegisken\n",
    "    #tanımladık sonra değer atayabilirz\n",
    "    icerideTanimliGlobaldenErisilebilenDegisken = \"fnk içinde global keywordu ile tanımlandı.\"\n",
    "\n",
    "\n",
    "#---------------\n",
    "fnk()\n",
    "\n",
    "#----------\n",
    "#fonksiyon dışındayız.Ancak fonksiyon içinde global keywordu ile tanımlanan değişkeni kullanabiliriz.\n",
    "icerideTanimliGlobaldenErisilebilenDegisken"
   ]
  },
  {
   "cell_type": "markdown",
   "metadata": {},
   "source": [
    "### lambda fonksiyonları (Anonim fonksiyonlar)\n",
    "![alt text](lambda.png)"
   ]
  },
  {
   "cell_type": "code",
   "execution_count": 22,
   "metadata": {},
   "outputs": [
    {
     "data": {
      "text/plain": [
       "68.0"
      ]
     },
     "execution_count": 22,
     "metadata": {},
     "output_type": "execute_result"
    }
   ],
   "source": [
    "# Klasik fonksiyon tanımlama\n",
    "def c2f(c):\n",
    "    return 1.8*c + 32\n",
    "\n",
    "#lambda fonksiyon tanımlama\n",
    "c2f = lambda c:1.8*c + 32 #isim verilemediği için lambda fonksiyonu bir değişkene atayarak kullanırız.\n",
    "\n",
    "#----\n",
    "c2f(20)\n",
    "\n",
    "#lambda fonksiyonu direk kullanabiliriz.\n",
    "#(lambda c:1.8*c + 32) (20)"
   ]
  }
 ],
 "metadata": {
  "kernelspec": {
   "display_name": "Python 3",
   "language": "python",
   "name": "python3"
  },
  "language_info": {
   "codemirror_mode": {
    "name": "ipython",
    "version": 3
   },
   "file_extension": ".py",
   "mimetype": "text/x-python",
   "name": "python",
   "nbconvert_exporter": "python",
   "pygments_lexer": "ipython3",
   "version": "3.11.3"
  }
 },
 "nbformat": 4,
 "nbformat_minor": 2
}
