{
 "cells": [
  {
   "cell_type": "code",
   "execution_count": 1,
   "metadata": {},
   "outputs": [
    {
     "data": {
      "text/plain": [
       "13"
      ]
     },
     "execution_count": 1,
     "metadata": {},
     "output_type": "execute_result"
    }
   ],
   "source": [
    "# Soru1:\n",
    "'''\n",
    "    Bir metin içerisindeki belirttiğimiz harfi saydıran bir kod parçası yazalım.\n",
    "'''\n",
    "metin = \"Python programlama dili, dünyada eğitim amacıyla en çok kullanılan programlama dillerinden biridir.\"\n",
    "harf = \"a\"\n",
    "\n",
    "#\n",
    "metin.lower().count(harf.lower()) #count fonksiyonnu containerlarda kullanılan bir fonksiyondur. Belirtilen elemandan kaç tane olduğu getirir."
   ]
  },
  {
   "cell_type": "code",
   "execution_count": 13,
   "metadata": {},
   "outputs": [
    {
     "data": {
      "text/plain": [
       "{'toplam': 60, 'adet': 5, 'liste': [4, 8, 12, 16, 20]}"
      ]
     },
     "execution_count": 13,
     "metadata": {},
     "output_type": "execute_result"
    }
   ],
   "source": [
    "# Soru2:\n",
    "'''\n",
    "    Belirtilen sayılardan 3'e (istenen sayıya) tam bölünenlerin adedini, toplamını ve sayıların kendisini döndüren bir fonksiyon yazalım.\n",
    "'''\n",
    "# varsayılan değer almayan parametreler\n",
    "# varsayılan değer alan parametreler\n",
    "# sınırsız sayıda değer alan parametreler şekilden tanımlayabiliriz\n",
    "def fnk_topla(bolen =3, *sayilar):\n",
    "    sayilar = set(sayilar)\n",
    "\n",
    "    #1. list comprehension\n",
    "    tamBolnenler = [s for s in sayilar if s % bolen==0] #filter alternetifidir.\n",
    "\n",
    "    #2.filter ile\n",
    "    tamBolnenler = list(filter(lambda s:s%bolen==0,sayilar)) #fonksiyonu True/False döndormelidir.\n",
    "\n",
    "    #\n",
    "\n",
    "    return {\n",
    "            \"toplam\":sum(tamBolnenler),\n",
    "            \"adet\":len(tamBolnenler),\n",
    "            \"liste\":tamBolnenler\n",
    "        }\n",
    "\n",
    "#-------------------\n",
    "fnk_topla(4, 1,2,3,4,5,6,7,8,9,10,11,12,13,14,15,16,17,18,19,20)"
   ]
  },
  {
   "cell_type": "code",
   "execution_count": 20,
   "metadata": {},
   "outputs": [
    {
     "data": {
      "text/plain": [
       "'78.54'"
      ]
     },
     "execution_count": 20,
     "metadata": {},
     "output_type": "execute_result"
    }
   ],
   "source": [
    "# Soru3:\n",
    "'''\n",
    "    Dışarıdan yarıçapı girilen dairenin alanını hesaplayan bir fonksiyon yazalım.\n",
    "    hata kontrollerini de yapalım.\n",
    "    Dairenin Alanı = pi * r^2\n",
    "'''\n",
    "\n",
    "import math\n",
    "from typing import Union #type hinting. fonksiyonda tip bilgisi vermek kullandık.\n",
    "\n",
    "def daire_alan(r:Union[int,float])-> Union[str,float]:\n",
    "    if not(isinstance(r,(int,float))): #type(r)!=float:\n",
    "        return \"Yarıçap sayısal bir değer olmalıdır.\"\n",
    "    else:\n",
    "        if r<0:\n",
    "            return \"Yarıçap negatif olamaz.\"\n",
    "        else:\n",
    "            return math.pi * r**2\n",
    "\n",
    "#-------------------------------\n",
    "daire_alan(5)\n",
    "\n",
    "#\n",
    "alan = daire_alan(5)\n",
    "\n",
    "#\n",
    "round(alan,2) #numeric\n",
    "\n",
    "#\n",
    "format(alan,\".2f\") #string\n",
    "f\"{alan:.2f}\" #string"
   ]
  },
  {
   "cell_type": "code",
   "execution_count": 23,
   "metadata": {},
   "outputs": [
    {
     "data": {
      "text/plain": [
       "('snalubma', 'ambulans')"
      ]
     },
     "execution_count": 23,
     "metadata": {},
     "output_type": "execute_result"
    }
   ],
   "source": [
    "# Soru4:\n",
    "'''\n",
    "    Verilen metni alfabe dışındaki karekterlerden temizleyelim. Metni düz ve tersten veren bir fonksiyon yazalım\n",
    "'''\n",
    "def fnk_temizle(metin):\n",
    "    #1. list comprehension\n",
    "    temizMetin = [m for m in metin if m.isalpha() or m.isspace()]\n",
    "\n",
    "    #2. filter ile\n",
    "    temizMetin = list(filter(lambda m:m.isalpha() or m.isspace(),metin))\n",
    "\n",
    "    #------------------\n",
    "    temizMetin = \"\".join(temizMetin) #aralarına \"\" ekleyerek birleştirir. listenin tüm elemanları yanyana gelir. metin oluşuyor.\n",
    "\n",
    "    return temizMetin, temizMetin[::-1] #tersten yazdırmak için [::-1] kullanılır.\n",
    "\n",
    "\n",
    "#----------------------------\n",
    "metin = \"sn2a4!l@ub?ma\"\n",
    "\n",
    "fnk_temizle(metin)\n"
   ]
  },
  {
   "cell_type": "code",
   "execution_count": 29,
   "metadata": {},
   "outputs": [
    {
     "data": {
      "text/plain": [
       "'Wednesday'"
      ]
     },
     "execution_count": 29,
     "metadata": {},
     "output_type": "execute_result"
    }
   ],
   "source": [
    "# soru5:\n",
    "'''\n",
    "    Dışarıdan girilen tarih. hangi güne ait.\n",
    "'''\n",
    "#from datetime import datetime #datetime paketi içerisinden datetime modulunu import ettik.\n",
    "import datetime #datetime paketi import edildi. datetime modulu kullanılmak istenirse datetime.datetime şeklinde kullanılır.\n",
    "#paketin içerisindeki __init__.py modulnu import ediyor.\n",
    "\n",
    "#---\n",
    "str_tarih = \"08/05/2024\" #input(\"Tarih giriniz (GG/AA/YYYY): \")\n",
    "\n",
    "# \\ ile anlamlı kod parçası tamamlanmadı alttan devam ediyoruz diyoruz.\n",
    "datetime.datetime \\\n",
    "        .strptime(str_tarih,\"%d/%m/%Y\") \\\n",
    "        .strftime(\"%A\")\n",
    "\n",
    "\n",
    "#veya () ile kodları birleştirebiliriz.\n",
    "(\n",
    "datetime.datetime\n",
    "        .strptime(str_tarih,\"%d/%m/%Y\")\n",
    "        .strftime(\"%A\")\n",
    ")"
   ]
  },
  {
   "cell_type": "code",
   "execution_count": 46,
   "metadata": {},
   "outputs": [
    {
     "data": {
      "text/plain": [
       "'<]_pgg\\\\c'"
      ]
     },
     "execution_count": 46,
     "metadata": {},
     "output_type": "execute_result"
    }
   ],
   "source": [
    "# soru6: Sezar Şifrelemesi\n",
    "'''\n",
    "    chr(97) #ascii kod alır karakteri verir.\n",
    "    ord(\"a\") #karakter alır ascii kodu verir.\n",
    "    \n",
    "    kaydirmaMiktarı (anahtar)\n",
    "    temizMetin\n",
    "    sifreliMetin\n",
    "    \n",
    "    ord(\"a\") #97\n",
    "    ord(\"z\") #122\n",
    "    ord(\"A\") #65\n",
    "    ord(\"Z\") #90\n",
    "\n",
    "'''\n",
    "#alfabedeki harfler\n",
    "#print(\"\".join([chr(s).lower() for s in list(range(65,91))]))\n",
    "\n",
    "#-------------------\n",
    "def fnk_sezar(metin, anahtar=3, sifrelensinMi=True):\n",
    "    sonuc = \"\"\n",
    "\n",
    "    #1.\n",
    "    for m in metin:\n",
    "        sonuc += chr(ord(m)+anahtar) if sifrelensinMi else chr(ord(m)-anahtar)\n",
    "    \n",
    "    #2.\n",
    "    sonuc = \"\".join([chr(ord(m)+anahtar) if sifrelensinMi else chr(ord(m)-anahtar) for m in metin])\n",
    "\n",
    "    #3.\n",
    "    sonuc = \"\".join(map(lambda m:chr(ord(m)+anahtar) if sifrelensinMi else chr(ord(m)-anahtar),metin))\n",
    "\n",
    "\n",
    "    return sonuc\n",
    "\n",
    "#-------------------\n",
    "fnk_sezar(\"Abdullah\")\n",
    "fnk_sezar(\"Degxoodk\",sifrelensinMi=False) #Degxoodk\n",
    "\n",
    "fnk_sezar(\"Abdullah\",5,False)"
   ]
  },
  {
   "cell_type": "code",
   "execution_count": 50,
   "metadata": {},
   "outputs": [
    {
     "data": {
      "text/plain": [
       "'Boy bilgisi sayısal olmalıdır.'"
      ]
     },
     "execution_count": 50,
     "metadata": {},
     "output_type": "execute_result"
    }
   ],
   "source": [
    "# soru7: cm olarak girilen boy bilgisine bakılarak ideal kilo hesabı yapalım.\n",
    "# Boy bilgisini floata dönüşecek mi diye kontrol edelim.\n",
    "#idealkilo  = boy-100-(boy-150)/4\n",
    "\n",
    "def isFloat(s):\n",
    "    try:\n",
    "        float(s)\n",
    "    except:\n",
    "        return False\n",
    "    else:\n",
    "        return True\n",
    "    \n",
    "#-----------------------\n",
    "def fnk_ideal_kilo(cmBoy:int)->float:\n",
    "    \"\"\"\n",
    "        cm cinsinden boy bilgisi alır aşağıdaki formule göre ideal kilo hesabı yapar.\n",
    "\n",
    "        formul: \n",
    "        idealkilo  = boy-100-(boy-150)/4\n",
    "\n",
    "        Parametreler:\n",
    "        -------------------\n",
    "        cmdBoy int: cm cinsinden boy bilgisi\n",
    "        return float: hesaplanan ideal kilo\n",
    "    \"\"\"\n",
    "    if isFloat(cmBoy):\n",
    "        cmBoy = float(cmBoy)\n",
    "\n",
    "        #\n",
    "        if not(50<=cmBoy<=300):\n",
    "            return \"Boy bilgisi 50-300 arasında olmalıdır.\"\n",
    "        \n",
    "        #her şey yoluda ise hesaplama yapabiliriz\n",
    "        idealKilo = cmBoy-100-(cmBoy-150)/4\n",
    "        return idealKilo\n",
    "\n",
    "    else:\n",
    "        #raise TypeError(\"Boy bilgisi sayısal olmalıdır.\")\n",
    "        return \"Boy bilgisi sayısal olmalıdır.\"\n",
    "\n",
    "    \n",
    "\n",
    "#------------------------\n",
    "fnk_ideal_kilo(175)\n",
    "fnk_ideal_kilo(10)\n",
    "fnk_ideal_kilo(\"1.1.1\")"
   ]
  },
  {
   "cell_type": "code",
   "execution_count": 65,
   "metadata": {},
   "outputs": [
    {
     "data": {
      "text/plain": [
       "'Bu plaka mevcut değil.'"
      ]
     },
     "execution_count": 65,
     "metadata": {},
     "output_type": "execute_result"
    }
   ],
   "source": [
    "# soru8:\n",
    "'''\n",
    "    Aşağıdaki metni dict'e çevirelim. plaka kodu verildiğinde ili getiren fonksiyonu yazalım\n",
    "'''\n",
    "\n",
    "plakaKodlar = \"\"\"\n",
    "İstanbul 34\n",
    "Ankara 06\n",
    "\n",
    "Adana 01\n",
    "Çorum 19\n",
    "Sakarya 54\n",
    "\"\"\"\n",
    "\n",
    "plakaKodlar.split() #whitespacee göre parçalama yapar. hem alt satır hem de boşlukları parçalar.\n",
    "plakaKodlar.split(\"\\n\") #satır sonuna göre parçalama yapar.\n",
    "plakaKodlar.splitlines() #newline karakterine göre parçalama yapar. 13 tane var.\n",
    "\n",
    "#-------------------\n",
    "\n",
    "\"\"\" [p for p in plakaKodlar.splitlines() if p] #if p ile boş olanları almaz.\n",
    "list(filter(bool,plakaKodlar.splitlines())) #boş olanları almaz.\n",
    " \"\"\"\n",
    "#\n",
    "\n",
    "#------------------\n",
    "def fnk_plaka_getir(plaka:str)->str:\n",
    "    veriPlaka=[s.split()[::-1] for s in filter(bool,plakaKodlar.splitlines())]\n",
    "    dictPlaka = dict(veriPlaka)\n",
    "\n",
    "    #\n",
    "    return dictPlaka.get(plaka,\"Bu plaka mevcut değil.\")\n",
    "\n",
    "#------------------\n",
    "fnk_plaka_getir(\"34\")\n",
    "fnk_plaka_getir(\"99\")\n"
   ]
  },
  {
   "cell_type": "code",
   "execution_count": 70,
   "metadata": {},
   "outputs": [
    {
     "data": {
      "text/plain": [
       "{2, 9}"
      ]
     },
     "execution_count": 70,
     "metadata": {},
     "output_type": "execute_result"
    }
   ],
   "source": [
    "# Soru 9:\n",
    "# fonksiyona verilen sayılardan sadece tekrar edenleri bulalım.\n",
    "def tekrarliSayilar(*sayilar):\n",
    "    #1.yöntem\n",
    "    \"\"\" tekrarEdenler = []\n",
    "\n",
    "    for s in sayilar:\n",
    "        if sayilar.count(s)>1:\n",
    "            tekrarEdenler.append(s)\n",
    "\n",
    "    return set(tekrarEdenler) \"\"\"\n",
    "    \n",
    "    #2.yöntem\n",
    "    return set(filter(lambda s:sayilar.count(s)>1 ,sayilar))\n",
    "\n",
    "#----------------------\n",
    "tekrarliSayilar(1,2,3,6,7,8,9,11,2,9)"
   ]
  },
  {
   "cell_type": "code",
   "execution_count": 84,
   "metadata": {},
   "outputs": [
    {
     "data": {
      "text/plain": [
       "[5, 6, 7, 8]"
      ]
     },
     "execution_count": 84,
     "metadata": {},
     "output_type": "execute_result"
    }
   ],
   "source": [
    "# Soru 10:\n",
    "# bir listedeki sayılara bakıp, 1-10 arasındaki sayılardan hangileri eksikmiş bulalım.\n",
    "def eksikSayilar(lst:list)->list:\n",
    "    #1. yöntem: list comprehension\n",
    "    #return [r for r in range(1,11) if not(lst.__contains__(r))] #1-10 arasındaki sayılar lst içerisinde yoksa listeye ekler.\n",
    "    \n",
    "    #2. yöntem: filter ile\n",
    "    return list(filter(lambda r: r not in lst,range(1,11)))\n",
    "\n",
    "\n",
    "#--------------\n",
    "eksikSayilar([1,2,3,4,9,10,11,12,13,14,15])"
   ]
  },
  {
   "cell_type": "code",
   "execution_count": 5,
   "metadata": {},
   "outputs": [
    {
     "data": {
      "text/plain": [
       "'programlama'"
      ]
     },
     "execution_count": 5,
     "metadata": {},
     "output_type": "execute_result"
    }
   ],
   "source": [
    "#soru 11:\n",
    "# Bir cümledeki en uzun kelimeyi getiren fonksiyonu yazalım.\n",
    "cumle = \"Python programlama dili oldukça popüler bir dil haline geldi.\"\n",
    "\n",
    "#kelimeleri ayıralım\n",
    "lst_kelimeler = cumle.split()\n",
    "\n",
    "#1. yöntem\n",
    "\"\"\" lst_kelimeler.sort(key=len)\n",
    "print(lst_kelimeler[-1])\n",
    " \"\"\"\n",
    "\n",
    "#2. yöntem\n",
    "from functools import reduce\n",
    "reduce(lambda x,y: x if len(x) > len(y) else y, lst_kelimeler)"
   ]
  }
 ],
 "metadata": {
  "kernelspec": {
   "display_name": "Python 3",
   "language": "python",
   "name": "python3"
  },
  "language_info": {
   "codemirror_mode": {
    "name": "ipython",
    "version": 3
   },
   "file_extension": ".py",
   "mimetype": "text/x-python",
   "name": "python",
   "nbconvert_exporter": "python",
   "pygments_lexer": "ipython3",
   "version": "3.11.3"
  }
 },
 "nbformat": 4,
 "nbformat_minor": 2
}
