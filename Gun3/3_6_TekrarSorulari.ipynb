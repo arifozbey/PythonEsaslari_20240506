{
 "cells": [
  {
   "cell_type": "markdown",
   "metadata": {},
   "source": [
    "## Tekrar için Sorular ve Cevaplar\n"
   ]
  },
  {
   "cell_type": "code",
   "execution_count": null,
   "metadata": {},
   "outputs": [],
   "source": [
    "# Soru1:\n",
    "'''\n",
    "    Bir metin içerisindeki belirttiğimiz harfi saydıran bir kod parçası yazalım.\n",
    "'''"
   ]
  },
  {
   "cell_type": "code",
   "execution_count": null,
   "metadata": {},
   "outputs": [],
   "source": [
    "# Soru2:\n",
    "'''\n",
    "    Belirtilen sayılardan 3'e (istenen sayıya) tam bölünenlerin adedini, toplamını ve sayıların kendisini döndüren bir fonksiyon yazalım.\n",
    "'''"
   ]
  },
  {
   "cell_type": "code",
   "execution_count": null,
   "metadata": {},
   "outputs": [],
   "source": [
    "# Soru3:\n",
    "'''\n",
    "    Dışarıdan yarıçapı girilen dairenin alanını hesaplayan bir fonksiyon yazalım.\n",
    "    hata kontrollerini de yapalım.\n",
    "    Dairenin Alanı = pi * r^2\n",
    "'''"
   ]
  },
  {
   "cell_type": "code",
   "execution_count": null,
   "metadata": {},
   "outputs": [],
   "source": [
    "# Soru4:\n",
    "'''\n",
    "    Verilen metni alfabe dışındaki karekterlerden temizleyelim. Metni düz ve tersten veren bir fonksiyon yazalım\n",
    "'''"
   ]
  },
  {
   "cell_type": "code",
   "execution_count": null,
   "metadata": {},
   "outputs": [],
   "source": [
    "# soru5:\n",
    "'''\n",
    "    Dışarıdan girilen tarih.\n",
    "'''"
   ]
  },
  {
   "cell_type": "code",
   "execution_count": null,
   "metadata": {},
   "outputs": [],
   "source": [
    "# soru6: Sezar Şifrelemesi\n",
    "'''\n",
    "    chr(97) #ascii kod alır karakteri verir.\n",
    "    ord(\"a\") #karakter alır ascii kodu verir.\n",
    "    \n",
    "    kaydirmaMiktarı (anahtar)\n",
    "    temizMetin\n",
    "    sifreliMetin\n",
    "    \n",
    "    ord(\"a\") #97\n",
    "    ord(\"z\") #122\n",
    "    ord(\"A\") #65\n",
    "    ord(\"Z\") #90\n",
    "'''"
   ]
  },
  {
   "cell_type": "code",
   "execution_count": null,
   "metadata": {},
   "outputs": [],
   "source": [
    "# soru7: cm olarak girilen boy bilgisine bakılarak ideal kilo hesabı yapalım.\n",
    "# Boy bilgisini floata dönüşecek mi diye kontrol edelim.\n",
    "#idealkilo  = boy-100-(boy-150)/4"
   ]
  },
  {
   "cell_type": "code",
   "execution_count": null,
   "metadata": {},
   "outputs": [],
   "source": [
    "# soru8:\n",
    "'''\n",
    "    Aşağıdaki metni dict'e çevirelim. plaka kodu verildiğinde ili getiren fonksiyonu yazalım\n",
    "'''\n",
    "\n",
    "plakaKodlar = \"\"\"\n",
    "İstanbul 34\n",
    "Ankara 06\n",
    "\n",
    "Adana 01\n",
    "Çorum 19\n",
    "Sakarya 54\n",
    "\"\"\""
   ]
  },
  {
   "cell_type": "code",
   "execution_count": null,
   "metadata": {},
   "outputs": [],
   "source": [
    "# Soru 9:\n",
    "# fonksiyona verilen sayılardan sadece tekrar edenleri bulalım."
   ]
  },
  {
   "cell_type": "code",
   "execution_count": null,
   "metadata": {},
   "outputs": [],
   "source": [
    "# Soru 10:\n",
    "# bir listedeki sayılara bakıp, 1-10 arasındaki sayılardan hangileri eksikmiş bulalım."
   ]
  },
  {
   "cell_type": "code",
   "execution_count": 5,
   "metadata": {},
   "outputs": [
    {
     "data": {
      "text/plain": [
       "'programlama'"
      ]
     },
     "execution_count": 5,
     "metadata": {},
     "output_type": "execute_result"
    }
   ],
   "source": [
    "#soru 11:\n",
    "# Bir cümledeki en uzun kelimeyi getiren fonksiyonu yazalım.\n",
    "cumle = \"Python programlama dili oldukça popüler bir dil haline geldi.\"\n",
    "\n",
    "lst_kelimeler = cumle.split()\n",
    "\n",
    "#1. yöntem\n",
    "\"\"\" lst_kelimeler.sort(key=len)\n",
    "print(lst_kelimeler[-1])\n",
    " \"\"\"\n",
    "\n",
    "#2. yöntem\n",
    "from functools import reduce\n",
    "reduce(lambda x,y: x if len(x) > len(y) else y, lst_kelimeler)"
   ]
  }
 ],
 "metadata": {
  "kernelspec": {
   "display_name": "Python 3",
   "language": "python",
   "name": "python3"
  },
  "language_info": {
   "codemirror_mode": {
    "name": "ipython",
    "version": 3
   },
   "file_extension": ".py",
   "mimetype": "text/x-python",
   "name": "python",
   "nbconvert_exporter": "python",
   "pygments_lexer": "ipython3",
   "version": "3.11.3"
  }
 },
 "nbformat": 4,
 "nbformat_minor": 2
}
