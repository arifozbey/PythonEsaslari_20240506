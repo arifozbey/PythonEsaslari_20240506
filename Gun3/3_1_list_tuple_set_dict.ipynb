{
 "cells": [
  {
   "cell_type": "markdown",
   "metadata": {},
   "source": [
    "## List ve Tuple\n",
    "* Sequence (str, list, tuple) elemanlarına ulaşmak:\n",
    "    * Index:\n",
    "      * `MySeq[index]`\n",
    "      * index 0'dan başlar\n",
    "      * negatif indeller verilebilir. Tersten sondan anlamına gelir.\n",
    "    * Slicer:\n",
    "      * `MySeq[start:stop:step]`\n",
    "      * Start:stop:step opsiyoneldir. Varsayılan değerlere sahiptir.\n",
    "        * start verilmezse baştan 0\n",
    "        * stop verilmezse sona kadar len(MySeq)\n",
    "        * step verilmezse 1 sonraki elemana geçerek getirir. 1\n",
    "* list\n",
    "  * [] ile tanımlanır. Bu şekilde boş liste oluşutarabiliriz.\n",
    "  * farklı tiplerdeki verileri içerebilir.\n",
    "  * listeler mutabledır. Yani içeriği değiştirilebilir.\n",
    "    * kopyalarken `b = a.copy()` ile b'de yapılan işlemlerden orjinal değişken a etkilenmez.\n",
    "  * `list()` tip dönüşüm fonksiyonudur."
   ]
  },
  {
   "cell_type": "code",
   "execution_count": 2,
   "metadata": {},
   "outputs": [
    {
     "data": {
      "text/plain": [
       "[0, 1, 2, 3, 4, 5, 6, 7, 8, 9]"
      ]
     },
     "execution_count": 2,
     "metadata": {},
     "output_type": "execute_result"
    }
   ],
   "source": [
    "#boş liste\n",
    "[]\n",
    "list()\n",
    "\n",
    "#\n",
    "[1,2,3,\"metin\",False, True, None]\n",
    "\n",
    "#\n",
    "list(\"merhaba\") #str container list container a dönüştürüldü\n",
    "list(range(10)) #range 0-10 arasındaki sayıları barındarına bir containerdır"
   ]
  },
  {
   "cell_type": "code",
   "execution_count": 3,
   "metadata": {},
   "outputs": [
    {
     "data": {
      "text/plain": [
       "[1, 2, 3, 1, 2, 3, 1, 2, 3, 1, 2, 3, 1, 2, 3]"
      ]
     },
     "execution_count": 3,
     "metadata": {},
     "output_type": "execute_result"
    }
   ],
   "source": [
    "# +,-,/ işlemleri listte tanımlı değildir.\n",
    "# * işlemi elemanları çoğaltır\n",
    "[1,2,3,] * 5"
   ]
  },
  {
   "cell_type": "markdown",
   "metadata": {},
   "source": [
    "### Bazı Fonksiyonlar"
   ]
  },
  {
   "cell_type": "code",
   "execution_count": 12,
   "metadata": {},
   "outputs": [
    {
     "data": {
      "text/plain": [
       "True"
      ]
     },
     "execution_count": 12,
     "metadata": {},
     "output_type": "execute_result"
    }
   ],
   "source": [
    "dir(list)\n",
    "\n",
    "#\n",
    "sayilar = [10,20,4,104,21,445]\n",
    "\n",
    "#\n",
    "len(sayilar) #tüm containerlarda eleman sayısın ıgetirir.\n",
    "sayilar.__len__() #magic method\n",
    "\n",
    "#\n",
    "min(sayilar)\n",
    "max(sayilar)\n",
    "sum(sayilar)\n",
    "sum(sayilar)/len(sayilar) #ortama fonksiyonu mevcut değil.\n",
    "\n",
    "#\n",
    "sayilar.count(20) #20 elemanı kaç defa geçiyor\n",
    "\n",
    "#\n",
    "sayilar.index(4) #4 elemanı kaçıncı sırada\n",
    "sayilar[2]\n",
    "sayilar.__getitem__(2) #indexi alır elemanı getirir\n",
    "\n",
    "#\n",
    "20 in sayilar\n",
    "sayilar.__contains__(20) #20 elemanı var mı"
   ]
  },
  {
   "cell_type": "code",
   "execution_count": 27,
   "metadata": {},
   "outputs": [
    {
     "data": {
      "text/plain": [
       "[3, 4, 99, 2000, 2001, 3000]"
      ]
     },
     "execution_count": 27,
     "metadata": {},
     "output_type": "execute_result"
    }
   ],
   "source": [
    "x = [1,2,3,4]\n",
    "\n",
    "#\n",
    "x.append(99) #listenin sonuna eleman ekler.\n",
    "x.append([1000,1001]) #listin sonuna liste ekler. olduğu gibi tek bir eleman olarak ekliyor\n",
    "\n",
    "#\n",
    "x.extend([2000,2001]) #listin sonuna eleman ekler. elemanları tek tek ekler\n",
    "x += [3000,3001] #listin sonuna eleman ekler. elemanları tek tek ekler\n",
    "\n",
    "#\n",
    "x.insert(0,-99) #0. indexe -99 ekle\n",
    "\n",
    "#\n",
    "x.remove(-99)\n",
    "x.remove([1000,1001]) #appendein tersidir. verilen elemanı siler.\n",
    "\n",
    "#\n",
    "x.pop() #son elemanı siler ve geri döndürür\n",
    "x.pop(0) #0. indexdeki elemanı siler ve geri döndürür\n",
    "\n",
    "del x[0] #0. indexdeki elemanı siler\n",
    "\n",
    "#sıralama\n",
    "x.sort(reverse=True) #büyükten küçüğe sıralar\n",
    "x.reverse() #listeyi ters çevirir\n",
    "x[::-1] #listeyi ters çevirir #step -1 tersten getirir\n",
    "\n",
    "#\n",
    "x"
   ]
  }
 ],
 "metadata": {
  "kernelspec": {
   "display_name": "Python 3",
   "language": "python",
   "name": "python3"
  },
  "language_info": {
   "codemirror_mode": {
    "name": "ipython",
    "version": 3
   },
   "file_extension": ".py",
   "mimetype": "text/x-python",
   "name": "python",
   "nbconvert_exporter": "python",
   "pygments_lexer": "ipython3",
   "version": "3.11.3"
  }
 },
 "nbformat": 4,
 "nbformat_minor": 2
}
