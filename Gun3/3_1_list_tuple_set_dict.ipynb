{
 "cells": [
  {
   "cell_type": "markdown",
   "metadata": {},
   "source": [
    "## List ve Tuple\n",
    "* Sequence (str, list, tuple) elemanlarına ulaşmak:\n",
    "    * Index:\n",
    "      * `MySeq[index]`\n",
    "      * index 0'dan başlar\n",
    "      * negatif indeller verilebilir. Tersten sondan anlamına gelir.\n",
    "    * Slicer:\n",
    "      * `MySeq[start:stop:step]`\n",
    "      * Start:stop:step opsiyoneldir. Varsayılan değerlere sahiptir.\n",
    "        * start verilmezse baştan 0\n",
    "        * stop verilmezse sona kadar len(MySeq)\n",
    "        * step verilmezse 1 sonraki elemana geçerek getirir. 1\n",
    "### list\n",
    "  * [] ile tanımlanır. Bu şekilde boş liste oluşutarabiliriz.\n",
    "  * farklı tiplerdeki verileri içerebilir.\n",
    "  * listeler mutabledır. Yani içeriği değiştirilebilir.\n",
    "    * kopyalarken `b = a.copy()` ile b'de yapılan işlemlerden orjinal değişken a etkilenmez.\n",
    "  * `list()` tip dönüşüm fonksiyonudur."
   ]
  },
  {
   "cell_type": "code",
   "execution_count": 2,
   "metadata": {},
   "outputs": [
    {
     "data": {
      "text/plain": [
       "[0, 1, 2, 3, 4, 5, 6, 7, 8, 9]"
      ]
     },
     "execution_count": 2,
     "metadata": {},
     "output_type": "execute_result"
    }
   ],
   "source": [
    "#boş liste\n",
    "[]\n",
    "list()\n",
    "\n",
    "#\n",
    "[1,2,3,\"metin\",False, True, None]\n",
    "\n",
    "#\n",
    "list(\"merhaba\") #str container list container a dönüştürüldü\n",
    "list(range(10)) #range 0-10 arasındaki sayıları barındarına bir containerdır"
   ]
  },
  {
   "cell_type": "code",
   "execution_count": 3,
   "metadata": {},
   "outputs": [
    {
     "data": {
      "text/plain": [
       "[1, 2, 3, 1, 2, 3, 1, 2, 3, 1, 2, 3, 1, 2, 3]"
      ]
     },
     "execution_count": 3,
     "metadata": {},
     "output_type": "execute_result"
    }
   ],
   "source": [
    "# +,-,/ işlemleri listte tanımlı değildir.\n",
    "# * işlemi elemanları çoğaltır\n",
    "[1,2,3,] * 5"
   ]
  },
  {
   "cell_type": "markdown",
   "metadata": {},
   "source": [
    "#### Bazı Fonksiyonlar"
   ]
  },
  {
   "cell_type": "code",
   "execution_count": 12,
   "metadata": {},
   "outputs": [
    {
     "data": {
      "text/plain": [
       "True"
      ]
     },
     "execution_count": 12,
     "metadata": {},
     "output_type": "execute_result"
    }
   ],
   "source": [
    "dir(list)\n",
    "\n",
    "#\n",
    "sayilar = [10,20,4,104,21,445]\n",
    "\n",
    "#\n",
    "len(sayilar) #tüm containerlarda eleman sayısın ıgetirir.\n",
    "sayilar.__len__() #magic method\n",
    "\n",
    "#\n",
    "min(sayilar)\n",
    "max(sayilar)\n",
    "sum(sayilar)\n",
    "sum(sayilar)/len(sayilar) #ortama fonksiyonu mevcut değil.\n",
    "\n",
    "#\n",
    "sayilar.count(20) #20 elemanı kaç defa geçiyor\n",
    "\n",
    "#\n",
    "sayilar.index(4) #4 elemanı kaçıncı sırada\n",
    "sayilar[2]\n",
    "sayilar.__getitem__(2) #indexi alır elemanı getirir\n",
    "\n",
    "#\n",
    "20 in sayilar\n",
    "sayilar.__contains__(20) #20 elemanı var mı"
   ]
  },
  {
   "cell_type": "code",
   "execution_count": 28,
   "metadata": {},
   "outputs": [
    {
     "data": {
      "text/plain": [
       "[]"
      ]
     },
     "execution_count": 28,
     "metadata": {},
     "output_type": "execute_result"
    }
   ],
   "source": [
    "x = [1,2,3,4] #liste atayalım.\n",
    "\n",
    "#\n",
    "x.append(99) #listenin sonuna eleman ekler.\n",
    "x.append([1000,1001]) #listin sonuna liste ekler. olduğu gibi tek bir eleman olarak ekliyor\n",
    "\n",
    "#\n",
    "x.extend([2000,2001]) #listin sonuna eleman ekler. elemanları tek tek ekler\n",
    "x += [3000,3001] #listin sonuna eleman ekler. elemanları tek tek ekler\n",
    "\n",
    "#\n",
    "x.insert(0,-99) #0. indexe -99 ekle\n",
    "\n",
    "#\n",
    "x.remove(-99)\n",
    "x.remove([1000,1001]) #appendein tersidir. verilen elemanı siler.\n",
    "\n",
    "#\n",
    "x.pop() #son elemanı siler ve geri döndürür\n",
    "x.pop(0) #0. indexdeki elemanı siler ve geri döndürür\n",
    "\n",
    "del x[0] #0. indexdeki elemanı siler\n",
    "\n",
    "#sıralama\n",
    "x.sort(reverse=True) #büyükten küçüğe sıralar\n",
    "x.reverse() #listeyi ters çevirir\n",
    "x[::-1] #listeyi ters çevirir #step -1 tersten getirir\n",
    "\n",
    "#\n",
    "x.clear() #listeyi temizler\n",
    "x = [] #boş liste atayabiliriz.\n",
    "\n",
    "#\n",
    "x"
   ]
  },
  {
   "cell_type": "markdown",
   "metadata": {},
   "source": [
    "### tuple   \n",
    "* (,,,) veya ,,,, tanımlanır.\n",
    "* farklı tipteki elementleri içerebilir.\n",
    "* immutable tiptir. Yani içeriği değiştirilemez.\n",
    "  * Bu yönüyle dictlerin keylerinde ve setlerde kullanılabilir.\n",
    "* `tuple()` tip dönüşüm fonksiyonudur."
   ]
  },
  {
   "cell_type": "code",
   "execution_count": 30,
   "metadata": {},
   "outputs": [
    {
     "data": {
      "text/plain": [
       "('m', 'e', 'r', 'h', 'a', 'b', 'a')"
      ]
     },
     "execution_count": 30,
     "metadata": {},
     "output_type": "execute_result"
    }
   ],
   "source": [
    "dir(tuple)\n",
    "\n",
    "# boş tuple\n",
    "()\n",
    "tuple()\n",
    "\n",
    "#\n",
    "(1,2,3,\"metin\",False,None)\n",
    "1,2,3,\"metin\",False,None\n",
    "\n",
    "#\n",
    "tuple(\"merhaba\") #str container"
   ]
  },
  {
   "cell_type": "code",
   "execution_count": 33,
   "metadata": {},
   "outputs": [
    {
     "data": {
      "text/plain": [
       "(0, 1, 2, 3, 'dört', 5, 6, 7)"
      ]
     },
     "execution_count": 33,
     "metadata": {},
     "output_type": "execute_result"
    }
   ],
   "source": [
    "t = 0,1,2,3,\"dört\"\n",
    "\n",
    "t[4]\n",
    "\n",
    "#\n",
    "#t[4] = 4 #HATA!!! tuple değiştirilemez\n",
    "\n",
    "#\n",
    "#NOrmalde eleman eklemek mevcut değil.Fakat magic method ile ekleyebiliriz.\n",
    "t.__add__((5,6,7)) #tupleye eleman ekler"
   ]
  },
  {
   "cell_type": "markdown",
   "metadata": {},
   "source": [
    "### Q&A"
   ]
  },
  {
   "cell_type": "code",
   "execution_count": 36,
   "metadata": {},
   "outputs": [
    {
     "data": {
      "text/plain": [
       "['Veli', 'Fatma', 'Ayşe']"
      ]
     },
     "execution_count": 36,
     "metadata": {},
     "output_type": "execute_result"
    }
   ],
   "source": [
    "#soru:\n",
    "#bir listeden belirtilen indexlerdeki elemanları getiren kod parçasını ayzalım\n",
    "lst = ['Ali',\"Veli\",\"Ayşe\",\"Fatma\",\"XMan\"]\n",
    "istenenIndexler = (1,3,2) #bu indexleri getirelim.\n",
    "\n",
    "#1. yöntem\n",
    "lst_secilenler = []\n",
    "\n",
    "for i in istenenIndexler:\n",
    "    lst_secilenler.append(lst[i])\n",
    "\n",
    "\n",
    "#2. yöntem\n",
    "lst_secilenler = [lst[i] for i in istenenIndexler]\n",
    "\n",
    "#\n",
    "lst_secilenler    "
   ]
  },
  {
   "cell_type": "code",
   "execution_count": 41,
   "metadata": {},
   "outputs": [
    {
     "data": {
      "text/plain": [
       "'Şub'"
      ]
     },
     "execution_count": 41,
     "metadata": {},
     "output_type": "execute_result"
    }
   ],
   "source": [
    "#soru:\n",
    "#sıra numarası verilen ayı getirelim.\n",
    "aylar = 'OcaŞubMarNisMayHazTemAğuEylEkiKasAra'\n",
    "\n",
    "kacinciAy = 2 #Mar dönsün.\n",
    "#-----------------\n",
    "\"\"\" \n",
    "aylar[0:3] #1.\n",
    "aylar[3:6] #2.\n",
    "aylar[6:9] #3. \n",
    "\"\"\"\n",
    "#--------------\n",
    "start = (kacinciAy-1)*3\n",
    "stop = start + 3\n",
    "\n",
    "aylar[start:stop]"
   ]
  },
  {
   "cell_type": "markdown",
   "metadata": {},
   "source": [
    "## Set ve Dict\n",
    "### set\n",
    "* set() ile boş set tanımlanabilir. {} ile boş dict tanımlanabilir.\n",
    "* Elemanları sıralı değildir.\n",
    "* Set mutable dır. Fakat elemanları immutable olmak zorundadır.\n",
    "* Matematikteki kümeler gibi benzersiz eleman tutar ve küme işlemlerini destekler. (Kesişi, bileşim, fark....)\n",
    "* `set()` tip dönüşüm fonksiyonudur."
   ]
  },
  {
   "cell_type": "code",
   "execution_count": 44,
   "metadata": {},
   "outputs": [
    {
     "data": {
      "text/plain": [
       "{'A', 'B', 'I', 'K', 'L'}"
      ]
     },
     "execution_count": 44,
     "metadata": {},
     "output_type": "execute_result"
    }
   ],
   "source": [
    "#boş \n",
    "set()\n",
    "\n",
    "#\n",
    "{0,1,2,3,\"metin\",False,True,None,\"metin\"} #benzersiz tutar. 0,None ve yoklk bildirenler False, diğleri True olarak değerlendirilir.\n",
    "\n",
    "#\n",
    "set(\"KALABALIK\") #sıra garantisi yok. benzersiz tutar."
   ]
  },
  {
   "cell_type": "code",
   "execution_count": 48,
   "metadata": {},
   "outputs": [
    {
     "data": {
      "text/plain": [
       "{1, 2, 3, 4, 5}"
      ]
     },
     "execution_count": 48,
     "metadata": {},
     "output_type": "execute_result"
    }
   ],
   "source": [
    "dir(set)\n",
    "\n",
    "#---\n",
    "a = {1,2,3,\"dört\"}\n",
    "b = {3,4,5,6}\n",
    "\n",
    "#\n",
    "a.add(5)\n",
    "\n",
    "#\n",
    "a.remove(\"dört\")\n",
    "\n",
    "#\n",
    "a.update([4,5]) #listlerdeki extend gibi elemanları tek tek ekler.\n",
    "\n",
    "a"
   ]
  },
  {
   "cell_type": "code",
   "execution_count": 54,
   "metadata": {},
   "outputs": [
    {
     "data": {
      "text/plain": [
       "True"
      ]
     },
     "execution_count": 54,
     "metadata": {},
     "output_type": "execute_result"
    }
   ],
   "source": [
    "#küme işlemleri\n",
    "\n",
    "#birleşim\n",
    "a.union(b) #birleşim\n",
    "a | b\n",
    "\n",
    "\n",
    "#kesişim\n",
    "a.intersection(b)\n",
    "a&b\n",
    "\n",
    "#fark\n",
    "a.difference(b)\n",
    "a-b\n",
    "\n",
    "#----------------\n",
    "c = a&b #kesişim\n",
    "c #{3, 4, 5}\n",
    "#----------------\n",
    "c.issubset(a) #c a'nın alt kümesi mi?\n",
    "c<=a\n",
    "\n",
    "#\n",
    "a.issuperset(c) #a c'nin üst kümesi mi?\n",
    "a>=c"
   ]
  },
  {
   "cell_type": "markdown",
   "metadata": {},
   "source": [
    "### Dict\n",
    "* {} ile boş dict tanımlanır.\n",
    "* {key:value, key:value, ...} şeklinde tanımlanır.\n",
    "* key'ler immutable olmalıdır. (int, float, str, tuple)\n",
    "  * keyler immutable olmaılıdır.\n",
    "* dict mutable dır.\n",
    "* json metinler ie dictler arasında büyük benzerlik vardır. Birbirine json küüttüphanesi ile dönüştürülebilirler.\n",
    "* dict elemanlarına keyler ile erişilebilir.\n",
    "  * `dictNesnesi[key]`\n",
    "  * `dictNesnesi.get(key)`\n",
    "* Tüm keyleri veya value'ları almak için:\n",
    "  * `dictNesnesi.keys()`\n",
    "  * `dictNesnesi.values()`\n",
    "* Key ve Value ikililerinin listesini almak için:\n",
    "  * `dictNesnesi.items()`\n",
    "* `dict()` tip dönüşüm fonksiyonudur."
   ]
  },
  {
   "cell_type": "code",
   "execution_count": 56,
   "metadata": {},
   "outputs": [
    {
     "data": {
      "text/plain": [
       "{'Ad': 'Ali',\n",
       " 'Kardeşler': ('Veli', 'Ayşe', 'Fatma'),\n",
       " 'Ehliyetler': ['A', 'B'],\n",
       " 'Telefonlar': {'Ev': '2131-321', 'İş': ['3214-435', '6543-321']},\n",
       " (2024, 'Maaş'): 4522.49}"
      ]
     },
     "execution_count": 56,
     "metadata": {},
     "output_type": "execute_result"
    }
   ],
   "source": [
    "personel = {\n",
    "            \"Ad\":\"Ali\",\n",
    "            \"Kardeşler\":(\"Veli\",\"Ayşe\",\"Fatma\"),\n",
    "            \"Ehliyetler\":[\"A\",\"B\"],\n",
    "            \"Telefonlar\":{\"Ev\":\"2131-321\", \"İş\":[\"3214-435\",\"6543-321\"]},\n",
    "            (2024,\"Maaş\"):4522.49 #tuple immutable olduğu için keyde kullanılabilr. liste yazılamaz.\n",
    "}\n",
    "\n",
    "personel"
   ]
  },
  {
   "cell_type": "code",
   "execution_count": 59,
   "metadata": {},
   "outputs": [
    {
     "data": {
      "text/plain": [
       "'3214-435'"
      ]
     },
     "execution_count": 59,
     "metadata": {},
     "output_type": "execute_result"
    }
   ],
   "source": [
    "personel[\"Telefonlar\"] #dönen dict\n",
    "personel[\"Telefonlar\"][\"İş\"] #dönen liste\n",
    "personel[\"Telefonlar\"][\"İş\"][0] #ilk iş telefonuna eriştik."
   ]
  },
  {
   "cell_type": "code",
   "execution_count": 62,
   "metadata": {},
   "outputs": [
    {
     "data": {
      "text/plain": [
       "dict_items([('Ad', 'Ali'), ('Kardeşler', ('Veli', 'Ayşe', 'Fatma')), ('Ehliyetler', ['A', 'B']), ('Telefonlar', {'Ev': '2131-321', 'İş': ['3214-435', '6543-321']}), ((2024, 'Maaş'), 4522.49)])"
      ]
     },
     "execution_count": 62,
     "metadata": {},
     "output_type": "execute_result"
    }
   ],
   "source": [
    "personel.keys()\n",
    "personel.values()\n",
    "\n",
    "#\n",
    "personel.items()"
   ]
  },
  {
   "cell_type": "code",
   "execution_count": 69,
   "metadata": {},
   "outputs": [
    {
     "name": "stdout",
     "output_type": "stream",
     "text": [
      "Key: Ad ---> Value: Ali\n",
      "Key: Kardeşler ---> Value: ('Veli', 'Ayşe', 'Fatma')\n",
      "Key: Ehliyetler ---> Value: ['A', 'B']\n",
      "Key: Telefonlar ---> Value: {'Ev': '2131-321', 'İş': ['3214-435', '6543-321']}\n",
      "Key: (2024, 'Maaş') ---> Value: 4522.49\n"
     ]
    }
   ],
   "source": [
    "#personel üzerinden sadece keyler gelir. personel.keys() ile aynı\n",
    "#valuelarda dolaşmak için  personel.values()\n",
    "# (key, value) şeklinde bir liste için  personel.items() kullanılır.\n",
    "\"\"\" for p in personel.items():\n",
    "    #print(p)\n",
    "    print(f\"Key: {p[0]} ---> Value: {p[1]}\") \"\"\"\n",
    "\n",
    "#unpacking\n",
    "for k,v in personel.items():\n",
    "    #print(p)\n",
    "    print(f\"Key: {k} ---> Value: {v}\")"
   ]
  },
  {
   "cell_type": "markdown",
   "metadata": {},
   "source": [
    "#### `get` ile value çağırmak\n",
    "* `dictNesnesi[key]` ile çağırdığımda key yoksa hata alırız.\n",
    "* `dictNesnesi.get(Key)` ile key varsa gelir. yoksa None döner.\n",
    "    * `dictNesnesi.get(Key,default)` ile default değer verilebilir."
   ]
  },
  {
   "cell_type": "code",
   "execution_count": 72,
   "metadata": {},
   "outputs": [
    {
     "data": {
      "text/plain": [
       "'Ali'"
      ]
     },
     "execution_count": 72,
     "metadata": {},
     "output_type": "execute_result"
    }
   ],
   "source": [
    "#personel[\"olmayanKey\"] #Hata\n",
    "\n",
    "#\n",
    "type(personel.get(\"olmayanKey\")) #None döner. NoneType\n",
    "#\n",
    "personel.get(\"Ad\")"
   ]
  },
  {
   "cell_type": "code",
   "execution_count": 78,
   "metadata": {},
   "outputs": [
    {
     "data": {
      "text/plain": [
       "4522.49"
      ]
     },
     "execution_count": 78,
     "metadata": {},
     "output_type": "execute_result"
    }
   ],
   "source": [
    "#soru:\n",
    "#personel nesnesinin son keyine ait value nedir?\n",
    "personel[(2024, 'Maaş')]\n",
    "personel[list(personel.keys())[-1]] #(2024, 'Maaş')"
   ]
  }
 ],
 "metadata": {
  "kernelspec": {
   "display_name": "Python 3",
   "language": "python",
   "name": "python3"
  },
  "language_info": {
   "codemirror_mode": {
    "name": "ipython",
    "version": 3
   },
   "file_extension": ".py",
   "mimetype": "text/x-python",
   "name": "python",
   "nbconvert_exporter": "python",
   "pygments_lexer": "ipython3",
   "version": "3.11.3"
  }
 },
 "nbformat": 4,
 "nbformat_minor": 2
}
