{
 "cells": [
  {
   "cell_type": "markdown",
   "metadata": {},
   "source": [
    "## Farklı Dosyalardaki Nesneler ile Çalışmak\n",
    "### Kodlardan oluşan bir klasor yapısı inşa edelim."
   ]
  },
  {
   "cell_type": "code",
   "execution_count": 1,
   "metadata": {},
   "outputs": [],
   "source": [
    "myFolder = \"kutuphanem\""
   ]
  },
  {
   "cell_type": "code",
   "execution_count": 4,
   "metadata": {},
   "outputs": [],
   "source": [
    "import os\n",
    "\n",
    "os.getcwd()\n",
    "#!cd\n",
    "\n",
    "#\n",
    "os.makedirs(myFolder, exist_ok=True) #exist_ok=True olmazsa hata verir\n",
    "#!mkdir $myFolder"
   ]
  },
  {
   "cell_type": "code",
   "execution_count": 5,
   "metadata": {},
   "outputs": [
    {
     "name": "stdout",
     "output_type": "stream",
     "text": [
      "Writing kutuphanem/nesnelerim.py\n"
     ]
    }
   ],
   "source": [
    "%%writefile $myFolder/nesnelerim.py\n",
    "#yukarıdaki komut bu hücre içeriğini belirtilen yoldaki dosyaya yazdı.\n",
    "#dosya yolu değişkenden gelecekse $ işareti ile değişken yazılır.\n",
    "def c2f(c):\n",
    "    return c * 1.8 + 32"
   ]
  },
  {
   "cell_type": "markdown",
   "metadata": {},
   "source": [
    "### Oluşan dosyadaki nesneleri çalışma ortamına alalım"
   ]
  },
  {
   "cell_type": "code",
   "execution_count": 8,
   "metadata": {},
   "outputs": [
    {
     "data": {
      "text/plain": [
       "'c:\\\\Users\\\\Abdullah\\\\Documents\\\\GitHub\\\\PythonEsaslari_20240506\\\\Gun3'"
      ]
     },
     "execution_count": 8,
     "metadata": {},
     "output_type": "execute_result"
    }
   ],
   "source": [
    "import sys\n",
    "\n",
    "#\n",
    "sys.path #pythonın dikkatre aldığı yolların listesini görürüz.\n",
    "# bu yollara yenileri eklenebilir. sys.path.append(\"yeni yol\")\n",
    "# bu listedeki ilk eleman çalışma yolumuzdur.\n",
    "sys.path[0] #çalışma yolunu da dikkate alır.\n",
    "\n",
    "#buradaki moduller import edilebilir."
   ]
  },
  {
   "cell_type": "code",
   "execution_count": 9,
   "metadata": {},
   "outputs": [],
   "source": [
    "#package = folder  ve module = .py\n",
    "#import kutuphanem\n",
    "# bu şekilde import edildiğinde __init__.py dosyasını arar. böyle bir dosya tanımlamadık.\n",
    "\n",
    "#bu dosya olmadığı için doğrudan dosyayı (module) işaret edelim.\n",
    "#from kutuphanem import nesnelerim\n",
    "#from kutuphanem.nesnelerim import c2f #özellik py dosyası içindeki fonksiyonu import eder.\n",
    "import kutuphanem.nesnelerim as nsn #alias verilebilir."
   ]
  },
  {
   "cell_type": "code",
   "execution_count": 11,
   "metadata": {},
   "outputs": [
    {
     "data": {
      "text/plain": [
       "212.0"
      ]
     },
     "execution_count": 11,
     "metadata": {},
     "output_type": "execute_result"
    }
   ],
   "source": [
    "dir(nsn)\n",
    "\n",
    "#\n",
    "nsn.c2f(100)"
   ]
  },
  {
   "cell_type": "markdown",
   "metadata": {},
   "source": [
    "### Kutuphanede import edildikten sonra değişiklik olursa ne olur? Değişiklik doğrudan yansımaz."
   ]
  },
  {
   "cell_type": "code",
   "execution_count": 12,
   "metadata": {},
   "outputs": [
    {
     "name": "stdout",
     "output_type": "stream",
     "text": [
      "Overwriting kutuphanem/nesnelerim.py\n"
     ]
    }
   ],
   "source": [
    "%%writefile $myFolder/nesnelerim.py\n",
    "#yukarıdaki komut bu hücre içeriğini belirtilen yoldaki dosyaya yazdı.\n",
    "#dosya yolu değişkenden gelecekse $ işareti ile değişken yazılır.\n",
    "def c2f(c):\n",
    "    return c * 1.8 + 32\n",
    "\n",
    "#---------\n",
    "yazar = \"Abdullah Kise\"\n",
    "mail = \"abdullahkise@hotmail.com\""
   ]
  },
  {
   "cell_type": "code",
   "execution_count": 15,
   "metadata": {},
   "outputs": [
    {
     "ename": "AttributeError",
     "evalue": "module 'kutuphanem.nesnelerim' has no attribute 'yazar'",
     "output_type": "error",
     "traceback": [
      "\u001b[1;31m---------------------------------------------------------------------------\u001b[0m",
      "\u001b[1;31mAttributeError\u001b[0m                            Traceback (most recent call last)",
      "Cell \u001b[1;32mIn[15], line 6\u001b[0m\n\u001b[0;32m      4\u001b[0m \u001b[38;5;28;01mimport\u001b[39;00m \u001b[38;5;21;01mkutuphanem\u001b[39;00m\u001b[38;5;21;01m.\u001b[39;00m\u001b[38;5;21;01mnesnelerim\u001b[39;00m \u001b[38;5;28;01mas\u001b[39;00m \u001b[38;5;21;01mnsn\u001b[39;00m\n\u001b[0;32m      5\u001b[0m \u001b[38;5;28mdir\u001b[39m(nsn) \u001b[38;5;66;03m#hala görünmüyor.\u001b[39;00m\n\u001b[1;32m----> 6\u001b[0m \u001b[43mnsn\u001b[49m\u001b[38;5;241;43m.\u001b[39;49m\u001b[43myazar\u001b[49m\n",
      "\u001b[1;31mAttributeError\u001b[0m: module 'kutuphanem.nesnelerim' has no attribute 'yazar'"
     ]
    }
   ],
   "source": [
    "dir(nsn) #yazar ve mail yok.\n",
    "\n",
    "#\n",
    "import kutuphanem.nesnelerim as nsn\n",
    "dir(nsn) #hala görünmüyor.\n",
    "nsn.yazar"
   ]
  },
  {
   "cell_type": "markdown",
   "metadata": {},
   "source": [
    "#### Kütüphanedeki değişiklikleri yansıtmak için `importlib.reload()` fonksiyonu kullanılır."
   ]
  },
  {
   "cell_type": "code",
   "execution_count": 16,
   "metadata": {},
   "outputs": [
    {
     "data": {
      "text/plain": [
       "<module 'kutuphanem.nesnelerim' from 'c:\\\\Users\\\\Abdullah\\\\Documents\\\\GitHub\\\\PythonEsaslari_20240506\\\\Gun3\\\\kutuphanem\\\\nesnelerim.py'>"
      ]
     },
     "execution_count": 16,
     "metadata": {},
     "output_type": "execute_result"
    }
   ],
   "source": [
    "import importlib\n",
    "\n",
    "#\n",
    "importlib.reload(nsn) #nsn kütüphanesini tekrar yükler. güncel halini yükler."
   ]
  },
  {
   "cell_type": "code",
   "execution_count": 17,
   "metadata": {},
   "outputs": [
    {
     "data": {
      "text/plain": [
       "['__builtins__',\n",
       " '__cached__',\n",
       " '__doc__',\n",
       " '__file__',\n",
       " '__loader__',\n",
       " '__name__',\n",
       " '__package__',\n",
       " '__spec__',\n",
       " 'c2f',\n",
       " 'mail',\n",
       " 'yazar']"
      ]
     },
     "execution_count": 17,
     "metadata": {},
     "output_type": "execute_result"
    }
   ],
   "source": [
    "dir(nsn) #yazar ve mail görünür."
   ]
  },
  {
   "cell_type": "code",
   "execution_count": 18,
   "metadata": {},
   "outputs": [
    {
     "data": {
      "text/plain": [
       "'Abdullah Kise'"
      ]
     },
     "execution_count": 18,
     "metadata": {},
     "output_type": "execute_result"
    }
   ],
   "source": [
    "nsn.yazar"
   ]
  }
 ],
 "metadata": {
  "kernelspec": {
   "display_name": "Python 3",
   "language": "python",
   "name": "python3"
  },
  "language_info": {
   "codemirror_mode": {
    "name": "ipython",
    "version": 3
   },
   "file_extension": ".py",
   "mimetype": "text/x-python",
   "name": "python",
   "nbconvert_exporter": "python",
   "pygments_lexer": "ipython3",
   "version": "3.11.3"
  }
 },
 "nbformat": 4,
 "nbformat_minor": 2
}
