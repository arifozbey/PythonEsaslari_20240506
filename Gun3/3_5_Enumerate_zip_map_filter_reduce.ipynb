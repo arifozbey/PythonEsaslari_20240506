{
 "cells": [
  {
   "cell_type": "markdown",
   "metadata": {},
   "source": [
    "## Hayatı Kolaylaştıran Bazı Fonksiyonlar\n",
    "![alt text](KullanisliFonksionlar.png)"
   ]
  },
  {
   "cell_type": "markdown",
   "metadata": {},
   "source": [
    "### Enumerate"
   ]
  },
  {
   "cell_type": "code",
   "execution_count": 5,
   "metadata": {},
   "outputs": [
    {
     "data": {
      "text/plain": [
       "[(1000, 'B'), (1001, 'K'), (1002, 'L'), (1003, 'A'), (1004, 'I')]"
      ]
     },
     "execution_count": 5,
     "metadata": {},
     "output_type": "execute_result"
    }
   ],
   "source": [
    "s = set(\"KALABALIK\")\n",
    "s\n",
    "\n",
    "#\n",
    "enumerate(s, 1000) #s setine 1000'den başlayarak index numaraları verir.\n",
    "#dönen nesne içerisinde (siraNumarası, eleman) şeklinde tuple'lar bulunur.\n",
    "\n",
    "#Container içeriğine kolayla ulaşmak için for ile içinde dönebiliriz veya list tipine çevirebiliriz.\n",
    "list(enumerate(s, 1000))"
   ]
  },
  {
   "cell_type": "code",
   "execution_count": 10,
   "metadata": {},
   "outputs": [
    {
     "data": {
      "text/plain": [
       "'B'"
      ]
     },
     "execution_count": 10,
     "metadata": {},
     "output_type": "execute_result"
    }
   ],
   "source": [
    "#dictleri durumu hatırlayalım.\n",
    "dict([(\"ad\",\"ali\") , (\"yas\",55)]) #dictlere ikililer göndeirlirse. ilki key ilki value olur.\n",
    "\n",
    "#\n",
    "dict(enumerate(s, 1000)) #s setine 1000'den başlayarak index numaraları verir. bu nesneyi dict yaptık.\n",
    "#{1000: 'B', 1001: 'K', 1002: 'L', 1003: 'A', 1004: 'I'}\n",
    "\n",
    "dict(enumerate(s, 1000))[1000] "
   ]
  },
  {
   "cell_type": "markdown",
   "metadata": {},
   "source": [
    "### Zip"
   ]
  },
  {
   "cell_type": "code",
   "execution_count": 22,
   "metadata": {},
   "outputs": [
    {
     "name": "stdout",
     "output_type": "stream",
     "text": [
      "32:22\n",
      "14:18\n",
      "454:44\n",
      "43:413\n",
      "567:68\n"
     ]
    }
   ],
   "source": [
    "gerceklerDegerler = [32,14,454,43,567]\n",
    "tahminDegerler    = [22,18,44,413,68]\n",
    "\n",
    "#soru:\n",
    "# 32 : 22 şeklinde gerçek değer ile tahmin değeri birlikte yazdıralım.\n",
    "\n",
    "#açık for ile yapalım\n",
    "\"\"\" gerceklerDegerler[0]\n",
    "tahminDegerler[0] \"\"\"\n",
    "\n",
    "#\n",
    "\"\"\" for i in range(len(gerceklerDegerler)):\n",
    "    print(gerceklerDegerler[i], \":\", tahminDegerler[i]) \"\"\"\n",
    "\n",
    "#zip ile yapalım\n",
    "#list(zip(gerceklerDegerler,tahminDegerler)) #zip nesnesi döner. içinde tuple'lar bulunur. (iter1_1.elemanı, iter2_1.elemanı), (iter1_2.elemanı, iter2_2.elemanı) şeklinde.\n",
    "\n",
    "#\n",
    "for z in zip(gerceklerDegerler,tahminDegerler):\n",
    "    #print(f\"{z[0]}:{z[1]}\")\n",
    "    #\n",
    "    #print(\"{}:{}\".format(z[0],z[1]))\n",
    "    print(\"{}:{}\".format(*z))   #*z tuple'ı açar. z[0] ve z[1] şeklinde kullanır."
   ]
  },
  {
   "cell_type": "markdown",
   "metadata": {},
   "source": [
    "### Map"
   ]
  },
  {
   "cell_type": "code",
   "execution_count": 34,
   "metadata": {},
   "outputs": [
    {
     "data": {
      "text/plain": [
       "2221.0"
      ]
     },
     "execution_count": 34,
     "metadata": {},
     "output_type": "execute_result"
    }
   ],
   "source": [
    "#örn:\n",
    "#metindeki sayıların toplamını getirelim\n",
    "str_sayilar = \"321;41;456;768;635\"\n",
    "\n",
    "lst_sayilar = str_sayilar.split(\";\") #varsayılan ayraç boşluktur.\n",
    "#1.list comprehension ile yapalım.\n",
    "#metinsel sayıları float'a çevirip toplamını alalım.\n",
    "sum([float(s) for s in lst_sayilar])\n",
    "\n",
    "#2. map ile yapalım.\n",
    "#her bir metinsel sayıyı float fonksiyonuna sokup, float dönmesini sağlar.\n",
    "fmap = map(float,lst_sayilar) #() fonksiyonu çalıştırır. Biz burada function nesnesi olarak veriyoruz.\n",
    "fmap #map nesnesi\n",
    "#list(fmap) #[321.0, 41.0, 456.0, 768.0, 635.0]\n",
    "\n",
    "sum(fmap) #map içerisindeki floata dönüşmüş sayıları toplar."
   ]
  },
  {
   "cell_type": "code",
   "execution_count": 39,
   "metadata": {},
   "outputs": [
    {
     "data": {
      "text/plain": [
       "[120.0, 240.0, 360.0, 480.0, 600.0]"
      ]
     },
     "execution_count": 39,
     "metadata": {},
     "output_type": "execute_result"
    }
   ],
   "source": [
    "#örn:\n",
    "#liste fiyatlarına KDV ekleuelim.\n",
    "fiyatlar = [100,200,300,400,500]\n",
    "\n",
    "#1.20 KDV ekleyelim\n",
    "#fiyatlar * 1.20 #* işlemi listelerde eleman sayısını tekrarlanıtır. 1.20 defa tekralamak bir hata olarak karşımıza çıkar.\n",
    "#not bradcast diye ifade edilen işlemin her bir elemana uygulanması özelliği listelerde yoktur.\n",
    "\n",
    "#1. list comprehension ile yapalım.\n",
    "[f*1.20 for f in fiyatlar] #her bir fiyat 1.20 ile çarptık. list comprehension ile broadcast özelliği sağladık.\n",
    "\n",
    "#2. map ile yapalım.\n",
    "#map çıktısını listeye çevirelim.\n",
    "list(\n",
    "        map(lambda f: f*1.20,fiyatlar) #bu işlemi yapan hazır fonksiyon yoktur. lambda fonksiyonu ile yapabiliriz.\n",
    "    )"
   ]
  },
  {
   "cell_type": "code",
   "execution_count": 44,
   "metadata": {},
   "outputs": [
    {
     "data": {
      "text/plain": [
       "[2, True, 'metin']"
      ]
     },
     "execution_count": 44,
     "metadata": {},
     "output_type": "execute_result"
    }
   ],
   "source": [
    "#soru:\n",
    "#bir listeden istediğimiz indexlerdeki elemanları getiren kod parçası yazalım\n",
    "lst = [1,2,3,\"metin\",False,True] #listemiz\n",
    "indexler = (1,5,3) #istenenler\n",
    "\n",
    "#\n",
    "lst[0]\n",
    "lst.__getitem__(0) #bu şekilde de elemanlara ulaşabiliriz.\n",
    "\n",
    "#\n",
    "list(\n",
    "        #map(lambda i:lst[i], indexler)\n",
    "        map(lst.__getitem__, indexler)\n",
    "    )"
   ]
  },
  {
   "cell_type": "markdown",
   "metadata": {},
   "source": [
    "### Filter"
   ]
  },
  {
   "cell_type": "code",
   "execution_count": 49,
   "metadata": {},
   "outputs": [
    {
     "data": {
      "text/plain": [
       "['abdullahkise@homail.com']"
      ]
     },
     "execution_count": 49,
     "metadata": {},
     "output_type": "execute_result"
    }
   ],
   "source": [
    "lst = [\"metin\",\"abdullahkise@homail.com\", \"metin2\",\"*****\", \"123\"]\n",
    "\n",
    "#örn:\n",
    "#1. harflerden oluşanları getirelim\n",
    "#list comprehension ile yapalım.\n",
    "[l for l in lst if l.isalpha()]\n",
    "\n",
    "#2. filter ile yapalım.\n",
    "list(\n",
    "        filter(str.isalpha,lst) #True üreten lst elemanları getirilir.\n",
    "    )\n",
    "\n",
    "#iöerisinde @ geçenleri getirelim\n",
    "list(\n",
    "        filter(lambda l:\"@\" in l ,lst)\n",
    "    )"
   ]
  },
  {
   "cell_type": "markdown",
   "metadata": {},
   "source": [
    "**Not**\n",
    "* sadece for olan list comprehension yöntemi ile map işlevi sağlanabilir.\n",
    "* if içeren list comprehension ile filter işlevi sağlanabilir."
   ]
  },
  {
   "cell_type": "markdown",
   "metadata": {},
   "source": [
    "### Reduce"
   ]
  },
  {
   "cell_type": "code",
   "execution_count": 51,
   "metadata": {},
   "outputs": [
    {
     "data": {
      "text/plain": [
       "918"
      ]
     },
     "execution_count": 51,
     "metadata": {},
     "output_type": "execute_result"
    }
   ],
   "source": [
    "sayilar = [321,432,76,89]\n",
    "\n",
    "#sistem hazır fonksiyon var.\n",
    "sum(sayilar)\n",
    "\n",
    "#reduce ile fonksiyonu\n",
    "from functools import reduce\n",
    "\n",
    "reduce(lambda x,y: x+y ,sayilar)\n",
    "# ilk adımda 1. eleman x, 2. ye olarak alınır. yani 321 ve 432 toplandı. 753 oldu.\n",
    "# sonrak adımda önceki adımdan elde edilen çıkı x, 3. eleman y olarak alınır. 753 ve 76 toplandı. 829 oldu.\n",
    "# bu şekilde çıtı ile bir sonraki eleman fonksiyona gönderilir.\n",
    "# sonuçta tek bir değer döner."
   ]
  }
 ],
 "metadata": {
  "kernelspec": {
   "display_name": "Python 3",
   "language": "python",
   "name": "python3"
  },
  "language_info": {
   "codemirror_mode": {
    "name": "ipython",
    "version": 3
   },
   "file_extension": ".py",
   "mimetype": "text/x-python",
   "name": "python",
   "nbconvert_exporter": "python",
   "pygments_lexer": "ipython3",
   "version": "3.11.3"
  }
 },
 "nbformat": 4,
 "nbformat_minor": 2
}
