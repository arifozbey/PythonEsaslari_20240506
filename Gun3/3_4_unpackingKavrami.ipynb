{
 "cells": [
  {
   "cell_type": "markdown",
   "metadata": {},
   "source": [
    "## Unpacking Kavramı\n",
    "![alt text](Unpacking.png)"
   ]
  },
  {
   "cell_type": "markdown",
   "metadata": {},
   "source": [
    "### Değişken ile Değer Deseni Aynı İse"
   ]
  },
  {
   "cell_type": "code",
   "execution_count": 2,
   "metadata": {},
   "outputs": [
    {
     "name": "stdout",
     "output_type": "stream",
     "text": [
      "a=1 b=2 c=3\n"
     ]
    }
   ],
   "source": [
    "#klasik atama\n",
    "a = 1\n",
    "\n",
    "#zincir atama\n",
    "a = b = 1\n",
    "\n",
    "#tuple atama\n",
    "t = 1,2,3\n",
    "\n",
    "#unpacking\n",
    "a,b,c = t #(1,2,3) ile a=1, b=2, c=3 olur\n",
    "\n",
    "print(f\"{a=} {b=} {c=}\")"
   ]
  },
  {
   "cell_type": "code",
   "execution_count": 3,
   "metadata": {},
   "outputs": [
    {
     "name": "stdout",
     "output_type": "stream",
     "text": [
      "x='!' y='?' z=';'\n"
     ]
    }
   ],
   "source": [
    "#unpacking containerlarda olan davarnıştır. \n",
    "x,y,z = \"!?;\" #str container olduğu için unpacking yapar\n",
    "print(f\"{x=} {y=} {z=}\")"
   ]
  },
  {
   "cell_type": "code",
   "execution_count": 5,
   "metadata": {},
   "outputs": [
    {
     "name": "stdout",
     "output_type": "stream",
     "text": [
      "ad='Abdullah' ehliyetler=('A', 'B')\n",
      "ad='Abdullah' e1='A' e2='B'\n"
     ]
    }
   ],
   "source": [
    "ad, ehliyetler=[\"Abdullah\", (\"A\",\"B\")] #str ve tuple deseni mevcut\n",
    "print(f\"{ad=} {ehliyetler=}\")\n",
    "\n",
    "#\n",
    "ad,(e1,e2)=[\"Abdullah\", (\"A\",\"B\")]\n",
    "print(f\"{ad=} {e1=} {e2=}\")"
   ]
  },
  {
   "cell_type": "code",
   "execution_count": 9,
   "metadata": {},
   "outputs": [
    {
     "name": "stdout",
     "output_type": "stream",
     "text": [
      "ad='ali' soyad='uçan' yas=30\n"
     ]
    }
   ],
   "source": [
    "#dict özel durumuna bakalım\n",
    "p_dict = {\"adi\":\"ali\", \"soyadi\":\"uçan\", \"yasi\":30}\n",
    "\n",
    "#\n",
    "ad, soyad, yas = p_dict #keys atanır\n",
    "ad, soyad, yas = p_dict.keys()\n",
    "\n",
    "#\n",
    "ad, soyad, yas = p_dict.values() #valular atanır.\n",
    "\n",
    "#\n",
    "print(f\"{ad=} {soyad=} {yas=}\")"
   ]
  },
  {
   "cell_type": "markdown",
   "metadata": {},
   "source": [
    "### Değerler ile Desen Aynı Değilse (Deger sayısı fazla olduğunda)\n",
    "#### Kalan değerleri bir değişkene atayabiliriz."
   ]
  },
  {
   "cell_type": "code",
   "execution_count": 11,
   "metadata": {},
   "outputs": [
    {
     "name": "stdout",
     "output_type": "stream",
     "text": [
      "a=0 b=[1, 2, 3, 4, 5, 6, 7, 8] c=9\n"
     ]
    }
   ],
   "source": [
    "a,*b,c = [0,1,2,3,4,5,6,7,8,9] #range(10)\n",
    "# * ile geri kalan değerleri bir değişkene atayabiliriz.\n",
    "\n",
    "'''\n",
    "    a: ilk eleman\n",
    "    c: son eleman\n",
    "    *b: aradaki elemanlar\n",
    "'''\n",
    "\n",
    "\n",
    "print(f\"{a=} {b=} {c=}\")"
   ]
  },
  {
   "cell_type": "markdown",
   "metadata": {},
   "source": [
    "##### Kalan değerleri göz ardı etmek isteyebiliriz."
   ]
  },
  {
   "cell_type": "code",
   "execution_count": 16,
   "metadata": {},
   "outputs": [
    {
     "name": "stdout",
     "output_type": "stream",
     "text": [
      "x=0 y=2 z=9\n"
     ]
    }
   ],
   "source": [
    "x,_,y,*_,z = range(10) #list(range(10)) #[0, 1, 2, 3, 4, 5, 6, 7, 8, 9]\n",
    "'''\n",
    "    _ ile tek bir değer\n",
    "    *_ birden fazla değer göz ardı edebiliriz.\n",
    "\n",
    "    x: ilk eleman\n",
    "    z: son eleman\n",
    "    _: bir tane atla (2. eleman atlandı)\n",
    "    y: üçüncü eleman\n",
    "    *_: aradakileri göz ardı et\n",
    "'''\n",
    "\n",
    "print(f\"{x=} {y=} {z=}\")"
   ]
  },
  {
   "cell_type": "markdown",
   "metadata": {},
   "source": [
    "### Container elemanlarını olduğu yere unpack edebiliriz"
   ]
  },
  {
   "cell_type": "code",
   "execution_count": 24,
   "metadata": {},
   "outputs": [
    {
     "data": {
      "text/plain": [
       "[1, 2, 3, 4, 5, 6, 7, 8, 9]"
      ]
     },
     "execution_count": 24,
     "metadata": {},
     "output_type": "execute_result"
    }
   ],
   "source": [
    "#örn:\n",
    "k = [1,2,3]\n",
    "l = [4,5,6]\n",
    "m = [7,8,9]\n",
    "\n",
    "#append olduğu gibi ekler.\n",
    "\"\"\" \n",
    "k.append(l) #k listesi [1, 2, 3, [4, 5, 6]] olur\n",
    "k  \n",
    "\"\"\"\n",
    "\n",
    "#extent açarak ekler\n",
    "\"\"\" k.extend(l) #k listesi [1, 2, 3, 4, 5, 6] olur\n",
    "k.extend(m)\n",
    "k \"\"\"\n",
    "\n",
    "#\n",
    "[k,l,m] #[[1, 2, 3], [4, 5, 6], [7, 8, 9]] #append gibi\n",
    "[*k,*l,*m] #[1, 2, 3, 4, 5, 6, 7, 8, 9] #extend gibi "
   ]
  },
  {
   "cell_type": "code",
   "execution_count": 31,
   "metadata": {},
   "outputs": [
    {
     "data": {
      "text/plain": [
       "{'adi': 'ali',\n",
       " 'soyadi': 'uçan',\n",
       " 'yasi': 30,\n",
       " 'meslek': 'yazılımcı',\n",
       " 'maas': 10000}"
      ]
     },
     "execution_count": 31,
     "metadata": {},
     "output_type": "execute_result"
    }
   ],
   "source": [
    "#dict özel durum\n",
    "p_dict #{'adi': 'ali', 'soyadi': 'uçan', 'yasi': 30}\n",
    "\n",
    "#\n",
    "[*p_dict] #['adi', 'soyadi', 'yasi'] şeklinde keyler gelir.\n",
    "{**p_dict} #key value açar. ve bunu dict nesnesi haline getirebiliriz\n",
    "\n",
    "#farklı dictleri birleştirmek için kullanılabilir.\n",
    "p_devam = {\"meslek\":\"yazılımcı\", \"maas\":10000}\n",
    "\n",
    "#p_dict ve p_devam birleştirilir.\n",
    "{**p_dict, **p_devam}"
   ]
  }
 ],
 "metadata": {
  "kernelspec": {
   "display_name": "Python 3",
   "language": "python",
   "name": "python3"
  },
  "language_info": {
   "codemirror_mode": {
    "name": "ipython",
    "version": 3
   },
   "file_extension": ".py",
   "mimetype": "text/x-python",
   "name": "python",
   "nbconvert_exporter": "python",
   "pygments_lexer": "ipython3",
   "version": "3.11.3"
  }
 },
 "nbformat": 4,
 "nbformat_minor": 2
}
