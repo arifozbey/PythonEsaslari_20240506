{
 "cells": [
  {
   "cell_type": "markdown",
   "metadata": {},
   "source": [
    "## Zamansal Veri Tipleri\n",
    "**datetime**: kütüphanesi standart kütüphaneler arasınddır. Zamansal tipleri barındır.\n",
    "* **date**: tarih\n",
    "* **datetime**: tarih ve zaman\n",
    "* **time**: zaman\n",
    "* **timedelta**: iki tarih arasındaki farkı temsil"
   ]
  },
  {
   "cell_type": "code",
   "execution_count": 1,
   "metadata": {},
   "outputs": [],
   "source": [
    "from datetime import date, datetime, time, timedelta"
   ]
  },
  {
   "cell_type": "markdown",
   "metadata": {},
   "source": [
    "### date"
   ]
  },
  {
   "cell_type": "code",
   "execution_count": 7,
   "metadata": {},
   "outputs": [
    {
     "name": "stdout",
     "output_type": "stream",
     "text": [
      "2024-05-07\n"
     ]
    },
    {
     "data": {
      "text/plain": [
       "1"
      ]
     },
     "execution_count": 7,
     "metadata": {},
     "output_type": "execute_result"
    }
   ],
   "source": [
    "dir(date)\n",
    "\n",
    "#\n",
    "bugun = date.today()\n",
    "type(bugun) #datetime.date bir nesne\n",
    "\n",
    "#\n",
    "print(bugun) #__str__ metodundaki formatta yazdırır. varsayılan olarak iso formatında bir metin döner. yıl-ay-gün\n",
    "\n",
    "#attribute\n",
    "bugun.year\n",
    "bugun.month\n",
    "bugun.day\n",
    "\n",
    "#fonksiyon\n",
    "bugun.weekday() #0 pazartesi, 1 salı, 2 çarşamba, 3 perşembe, 4 cuma, 5 cumartesi, 6 pazar"
   ]
  },
  {
   "cell_type": "markdown",
   "metadata": {},
   "source": [
    "### datetime"
   ]
  },
  {
   "cell_type": "code",
   "execution_count": 13,
   "metadata": {},
   "outputs": [
    {
     "name": "stdout",
     "output_type": "stream",
     "text": [
      "2024-05-07 12:12:25.785450\n",
      "<class 'datetime.datetime'>\n"
     ]
    },
    {
     "data": {
      "text/plain": [
       "12"
      ]
     },
     "execution_count": 13,
     "metadata": {},
     "output_type": "execute_result"
    }
   ],
   "source": [
    "dir(datetime)\n",
    "\n",
    "#\n",
    "bugun = datetime.today()\n",
    "bugun = datetime.now()\n",
    "\n",
    "#\n",
    "print(bugun) #iso formatında\n",
    "print(type(bugun)) #<class 'datetime.datetime'>\n",
    "\n",
    "#\n",
    "bugun.date() #yıl odaklı nesneyi elde edelim.\n",
    "bugun.date().year #date olarak ele alıp yılına baktık.\n",
    "bugun.year\n",
    "\n",
    "#\n",
    "bugun.time() #zaman odaklı nesneyi elde edelim.\n",
    "bugun.time().hour #time olarak ele alıp saati aldık.\n",
    "bugun.hour"
   ]
  },
  {
   "cell_type": "markdown",
   "metadata": {},
   "source": [
    "### Tarih Oluşturmak"
   ]
  },
  {
   "cell_type": "code",
   "execution_count": 15,
   "metadata": {},
   "outputs": [
    {
     "name": "stdout",
     "output_type": "stream",
     "text": [
      "<class 'datetime.datetime'>\n",
      "2024-05-06 15:30:45\n"
     ]
    }
   ],
   "source": [
    "#1.yöntem\n",
    "bugun = date(year=2024, month=5, day=6)\n",
    "bugun = datetime(year=2024, month=5, day=6, hour=15, minute=30, second=45)\n",
    "\n",
    "#\n",
    "print(type(bugun)) #<class 'datetime.datetime'>\n",
    "print(bugun) #2024-05-06 15:30:45"
   ]
  },
  {
   "cell_type": "markdown",
   "metadata": {},
   "source": [
    "#### `strptime()` ile giriş formatı beliterek datetime nesnesi oluşturmak\n",
    "* tarihle ilgili parçarları ifade etmek için format kodları mevcut. notlarda mevcut.\n",
    "* mesela %Y yıl, %m ay, %d gün, %H saat, %M dakika, %S saniye\n",
    "* strptime fonksiyonu datetime üzerinden erişilebilir.\n"
   ]
  },
  {
   "cell_type": "code",
   "execution_count": 18,
   "metadata": {},
   "outputs": [
    {
     "name": "stdout",
     "output_type": "stream",
     "text": [
      "<class 'datetime.datetime'>\n",
      "2024-05-06 00:00:00\n"
     ]
    }
   ],
   "source": [
    "#2. yöntem\n",
    "str_tarih = \"06-05-2024\"\n",
    "\n",
    "dt_tarih = datetime.strptime(str_tarih, \"%d-%m-%Y\")\n",
    "\n",
    "#\n",
    "print(type(dt_tarih)) #<class 'datetime.datetime'>\n",
    "print(dt_tarih) #2024-05-06 00:00:00 standart olarak iso formatında yazar"
   ]
  },
  {
   "cell_type": "markdown",
   "metadata": {},
   "source": [
    "#### `strftime` fonksiyonu ile çıktı formatı belirtebiliriz."
   ]
  },
  {
   "cell_type": "code",
   "execution_count": 22,
   "metadata": {},
   "outputs": [
    {
     "data": {
      "text/plain": [
       "'Monday 06. May 2024'"
      ]
     },
     "execution_count": 22,
     "metadata": {},
     "output_type": "execute_result"
    }
   ],
   "source": [
    "dt_tarih.strftime(\"%A %d. %B %Y\")"
   ]
  },
  {
   "cell_type": "markdown",
   "metadata": {},
   "source": [
    "### Tarih `replace` ile Güncelleme"
   ]
  },
  {
   "cell_type": "code",
   "execution_count": 25,
   "metadata": {},
   "outputs": [
    {
     "name": "stdout",
     "output_type": "stream",
     "text": [
      "2024-05-07 15:30:45\n"
     ]
    }
   ],
   "source": [
    "dt_tarih = dt_tarih.replace(day=7,hour=15, minute=30, second=45) #orjinalini etkilemez.\n",
    "print(dt_tarih) #2024-05-06 15:30:45"
   ]
  },
  {
   "cell_type": "markdown",
   "metadata": {},
   "source": [
    "### timedelta"
   ]
  },
  {
   "cell_type": "code",
   "execution_count": 43,
   "metadata": {},
   "outputs": [
    {
     "name": "stdout",
     "output_type": "stream",
     "text": [
      "<class 'datetime.timedelta'>\n",
      "237 days, 11:34:26.864824\n",
      "237\n",
      "41666\n",
      "20518466.864824\n"
     ]
    }
   ],
   "source": [
    "dir(timedelta)\n",
    "\n",
    "#\n",
    "yilSonunaKadarKalanVakit = datetime(2024,12,31) - datetime.now()\n",
    "\n",
    "#\n",
    "print(type(yilSonunaKadarKalanVakit)) #<class 'datetime.timedelta'>\n",
    "print(yilSonunaKadarKalanVakit)\n",
    "\n",
    "#\n",
    "print(yilSonunaKadarKalanVakit.days)\n",
    "print(yilSonunaKadarKalanVakit.seconds)\n",
    "\n",
    "#\n",
    "#yilSonunaKadarKalanVakit.seconds//60//60\n",
    "print(yilSonunaKadarKalanVakit.total_seconds())#/60//60//24)"
   ]
  },
  {
   "cell_type": "code",
   "execution_count": 45,
   "metadata": {},
   "outputs": [
    {
     "data": {
      "text/plain": [
       "datetime.datetime(2024, 5, 28, 12, 26, 44, 307459)"
      ]
     },
     "execution_count": 45,
     "metadata": {},
     "output_type": "execute_result"
    }
   ],
   "source": [
    "#zaman farkları tanımlanabilir. matematiksel olarak bir tarihe eklenip çıkarılabilir.\n",
    "yedi_gun = timedelta(days=7) #7 günlük fark tanımlaladık. - kullanabilirdik.\n",
    "\n",
    "#\n",
    "datetime.now() + yedi_gun * 3 #3 tane 7 günlük fark ekledik."
   ]
  },
  {
   "cell_type": "code",
   "execution_count": 51,
   "metadata": {},
   "outputs": [
    {
     "name": "stdout",
     "output_type": "stream",
     "text": [
      "1980-05-01 00:00:00\n",
      "Thursday\n",
      "Thursday\n"
     ]
    },
    {
     "data": {
      "text/plain": [
       "'Perşembe'"
      ]
     },
     "execution_count": 51,
     "metadata": {},
     "output_type": "execute_result"
    }
   ],
   "source": [
    "#soru:\n",
    "#dışarıdan doğum tarihi girilsin.\n",
    "#kullanıcıya hangi gün doğduğunu söyleyelim.\n",
    "str_tarih =\"01-05-1980\" #input(\"Doğum tarihinizi giriniz (GG-AA-YYYY): \")\n",
    "dt_tarih = datetime.strptime(str_tarih, \"%d-%m-%Y\")\n",
    "\n",
    "#\n",
    "print(dt_tarih) #iso formatında\n",
    "print(dt_tarih.strftime(\"%A\")) #hangi gün doğduğunu söyledik.\n",
    "print(format(dt_tarih, \"%A\"))  #formatlama fonksiyonlarında da bu tarih formatları kullanılabilir.\n",
    "\n",
    "#\n",
    "#calendar modülü ile takvimle ilgili işlem yapabiliriz.\n",
    "#dict yardımıyla gün adlarını eşleştirebiliriz.\n",
    "trgunler = {\"Monday\":\"Pazartesi\", \"Tuesday\":\"Salı\", \"Wednesday\":\"Çarşamba\", \"Thursday\":\"Perşembe\", \"Friday\":\"Cuma\", \"Saturday\":\"Cumartesi\", \"Sunday\":\"Pazar\"}\n",
    "\n",
    "trgunler[dt_tarih.strftime(\"%A\")] #key ile value çekilebilir"
   ]
  },
  {
   "cell_type": "code",
   "execution_count": 56,
   "metadata": {},
   "outputs": [
    {
     "name": "stdout",
     "output_type": "stream",
     "text": [
      "Siz doğalı  16,077 gün, 49,717 saniye geçti.\n",
      "Siz doğalı toplamda 1,389,102,517 saniye geçti.\n"
     ]
    }
   ],
   "source": [
    "#soru:\n",
    "#doğalı kaç gün kaç saniye oldu. toplamda kaç saniye oldu\n",
    "gecen_sure = datetime.now() - dt_tarih\n",
    "\n",
    "#\n",
    "print(f\"Siz doğalı {gecen_sure.days : ,} gün, {gecen_sure.seconds:,} saniye geçti.\")\n",
    "print(f\"Siz doğalı toplamda {gecen_sure.total_seconds():,.0f} saniye geçti.\")"
   ]
  }
 ],
 "metadata": {
  "kernelspec": {
   "display_name": "Python 3",
   "language": "python",
   "name": "python3"
  },
  "language_info": {
   "codemirror_mode": {
    "name": "ipython",
    "version": 3
   },
   "file_extension": ".py",
   "mimetype": "text/x-python",
   "name": "python",
   "nbconvert_exporter": "python",
   "pygments_lexer": "ipython3",
   "version": "3.11.3"
  }
 },
 "nbformat": 4,
 "nbformat_minor": 2
}
