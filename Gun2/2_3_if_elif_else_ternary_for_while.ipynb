{
 "cells": [
  {
   "cell_type": "markdown",
   "metadata": {},
   "source": [
    "## Karar yapıları ve döngüler\n",
    "### Karar Yapıları\n",
    "* if\n",
    "  * if-else\n",
    "  * if-elif-.....-else\n",
    "* ternary"
   ]
  },
  {
   "cell_type": "markdown",
   "metadata": {},
   "source": [
    "### if-elif-elif...-else\n",
    "\n",
    "```python   \n",
    "if koşul1:\n",
    "    # koşul1 sağlanırsa burası çalışır\n",
    "    pass #bu keyword kodlar için yer tutucuudur. işlem yapmaz. Bu blokta kod yok diye hata vermemesi için kullanılır.\n",
    "elif koşul2:\n",
    "    # koşul1 sağlanmazsa ve koşul2 sağlanırsa burası çalışır\n",
    "elif koşul3:\n",
    "    # koşul1 ve koşul2 sağlanmazsa ve koşul3 sağlanırsa burası çalışır\n",
    "else:\n",
    "    # hiçbir koşul sağlanmazsa burası çalışır\n",
    "```"
   ]
  },
  {
   "cell_type": "code",
   "execution_count": 6,
   "metadata": {},
   "outputs": [
    {
     "name": "stdout",
     "output_type": "stream",
     "text": [
      "Belirtilen sayı 2 veya 3'e bölünür.\n"
     ]
    }
   ],
   "source": [
    "x = 6\n",
    "\n",
    "#\n",
    "if x%2==0 or x%3==0:\n",
    "    #pass #kodlar için yer tutucudur. işlem yapmaz.\n",
    "\n",
    "    #\n",
    "    print(\"Belirtilen sayı 2 veya 3'e bölünür.\")\n",
    "else:\n",
    "    print(\"Belirtilen sayı 2 veya 3'e bölünmez.\")"
   ]
  },
  {
   "cell_type": "code",
   "execution_count": 10,
   "metadata": {},
   "outputs": [
    {
     "name": "stdout",
     "output_type": "stream",
     "text": [
      "Belirtilen sayı 2'ye bölünür.\n",
      "Belirtilen sayı 3'e bölünür.\n",
      "Programın sonuna gelindi.\n"
     ]
    }
   ],
   "source": [
    "#if blokları bağımsızdır. Arka arkaya if blokları kullanılabilir. Tüm belirtilen şart kontrol edilir.\n",
    "x = 6\n",
    "\n",
    "#\n",
    "if x%2==0:\n",
    "    print(\"Belirtilen sayı 2'ye bölünür.\")\n",
    "\n",
    "if x%3==0:\n",
    "    print(\"Belirtilen sayı 3'e bölünür.\")\n",
    "\n",
    "#\n",
    "print(\"Programın sonuna gelindi.\")"
   ]
  },
  {
   "cell_type": "code",
   "execution_count": 16,
   "metadata": {},
   "outputs": [
    {
     "name": "stdout",
     "output_type": "stream",
     "text": [
      "Sınava girdiğiniz not: 90 ve harf notunuz: A\n",
      "Programın sonuna gelindi.\n"
     ]
    }
   ],
   "source": [
    "#if-elif...elif-else\n",
    "# belirtilen şartlar arasında bir şart sağlanırsa diğer şartlar kontrol edilmez.\n",
    "#örn:\n",
    "sinavNotu = int(\"90\") #int(input(\"Sınav notunuzu giriniz: \"))\n",
    "harfNotu = \"\"\n",
    "\n",
    "if 0<= sinavNotu <=100: #0<= sinavNotu and sinavNotu<=100:\n",
    "    #pass #yer tutucudur. işlem yapmaz.\n",
    "    if sinavNotu >= 85:\n",
    "        harfNotu = \"A\"\n",
    "    elif sinavNotu >= 70:\n",
    "        harfNotu = \"B\"\n",
    "    elif sinavNotu >= 55:\n",
    "        harfNotu = \"C\"\n",
    "    elif sinavNotu >= 45:\n",
    "        harfNotu = \"D\"\n",
    "    else:\n",
    "        harfNotu = \"F\"\n",
    "\n",
    "    #\n",
    "    print(f\"Sınava girdiğiniz not: {sinavNotu} ve harf notunuz: {harfNotu}\")\n",
    "else:\n",
    "    print(\"Girilen not 0-100 aralığında olmalıdır.\")\n",
    "\n",
    "\n",
    "#\n",
    "print(\"Programın sonuna gelindi.\")"
   ]
  },
  {
   "cell_type": "markdown",
   "metadata": {},
   "source": [
    "#### ternary if\n",
    "```python\n",
    "ŞartTrueUretise if şart else ŞartFalseUretise\n",
    "```"
   ]
  },
  {
   "cell_type": "code",
   "execution_count": 18,
   "metadata": {},
   "outputs": [
    {
     "data": {
      "text/plain": [
       "'Çift Sayıdır'"
      ]
     },
     "execution_count": 18,
     "metadata": {},
     "output_type": "execute_result"
    }
   ],
   "source": [
    "x = 6\n",
    "\n",
    "\"Çift Sayıdır\" if x%2==0 else \"Tek Sayıdır\""
   ]
  },
  {
   "cell_type": "markdown",
   "metadata": {},
   "source": [
    "### Döngüler\n",
    "* for\n",
    "* while\n",
    "\n",
    "**Not:** tüm döngülerde break ve continue keywordleri kullanılabilir. `break` döngüyü sonlandırır. `continue` ise döngüde bir sonraki adıma geçer."
   ]
  },
  {
   "cell_type": "markdown",
   "metadata": {},
   "source": [
    "#### for\n",
    "* iterasyon yapılabilecek nesnelerin (list, tuple, set, range vs.) elemanlarına tek tek ulaşmamızı ve her eleman için işlem yapmamızı sağlar.\n"
   ]
  },
  {
   "cell_type": "code",
   "execution_count": 20,
   "metadata": {},
   "outputs": [
    {
     "name": "stdout",
     "output_type": "stream",
     "text": [
      "M\n",
      "E\n",
      "R\n",
      "H\n",
      "A\n",
      "B\n",
      "A\n"
     ]
    }
   ],
   "source": [
    "metin = \"merhaba\" #str container tiptir. container elemanları karekterlerdir.\n",
    "\n",
    "for m in metin:\n",
    "    print(m.upper()) #her iterasyoda (döngü adımında) sonraski karekteri büyük harfe çevirir."
   ]
  },
  {
   "cell_type": "code",
   "execution_count": 25,
   "metadata": {},
   "outputs": [
    {
     "name": "stdout",
     "output_type": "stream",
     "text": [
      "0 1 2 3 4 5 6 7 8 9 "
     ]
    }
   ],
   "source": [
    "#range(start:stop:step) ile belli bir aralıkta sayı containeri oluşturabilir.\n",
    "range(10) #container oluşturur. 0-10 arasında 10 dahil değil sayılar içerir.\n",
    "range(0,10)\n",
    "range(0,10,1)\n",
    "\n",
    "#container içeriğini görmek için. liste tipine çeviririz veya döngü ile elemanlarına ulaşabiliriz\n",
    "list(range(10))\n",
    "\n",
    "#\n",
    "for i in range(10):\n",
    "    print(i,end=\" \")"
   ]
  },
  {
   "cell_type": "code",
   "execution_count": 26,
   "metadata": {},
   "outputs": [
    {
     "name": "stdout",
     "output_type": "stream",
     "text": [
      "1-10 arasındaki 3'e tam bölünen sayı adedi: 4\n"
     ]
    }
   ],
   "source": [
    "#örn:\n",
    "#1-10 arasındaki 3'e tam bölünen sayıların adedini bulalım.\n",
    "sayilar = range(10) #[0,1,2,3,4,5,6,7,8,9]\n",
    "\n",
    "#\n",
    "tamBolunenSayiAdedi = 0\n",
    "\n",
    "for sayi in sayilar:\n",
    "    if sayi%3==0:\n",
    "        tamBolunenSayiAdedi += 1 #cumulative sum. tamBolunenSayiAdedi = tamBolunenSayiAdedi+1\n",
    "\n",
    "#\n",
    "print(f\"1-10 arasındaki 3'e tam bölünen sayı adedi: {tamBolunenSayiAdedi}\")"
   ]
  },
  {
   "cell_type": "code",
   "execution_count": 36,
   "metadata": {},
   "outputs": [
    {
     "name": "stdout",
     "output_type": "stream",
     "text": [
      "30 karesi 900\n",
      "33 karesi 1089\n",
      "36 karesi 1296\n",
      "39 karesi 1521\n"
     ]
    }
   ],
   "source": [
    "#soru:\n",
    "#30 - 40 araısndaki sayılardan 3'e tam bölünenleri \"30 karesi 900\" şeklinde yazsın.\n",
    "for r in range(30,41):\n",
    "    if r%3==0:\n",
    "        print(f\"{r} karesi {r**2}\")  "
   ]
  },
  {
   "cell_type": "markdown",
   "metadata": {},
   "source": [
    "#### List Comprehension"
   ]
  },
  {
   "cell_type": "code",
   "execution_count": 44,
   "metadata": {},
   "outputs": [
    {
     "data": {
      "text/plain": [
       "['30 karesi 900', '33 karesi 1089', '36 karesi 1296', '39 karesi 1521']"
      ]
     },
     "execution_count": 44,
     "metadata": {},
     "output_type": "execute_result"
    }
   ],
   "source": [
    "#1. yöntem\n",
    "lst = []\n",
    "\n",
    "for r in range(30,41):\n",
    "    if r%3==0:\n",
    "        lst.append(f\"{r} karesi {r**2}\") #append() metodu ile listeye eleman ekler.\n",
    "        \n",
    "\n",
    "\n",
    "#2. yöntem\n",
    "#list,tuple, set içerisnde for kullanılabilir. Filtreleme yapmak istersek if de kullanabiliriz.\n",
    "lst = [f\"{r} karesi {r**2}\" for r in range(30,41) if r%3==0]\n",
    "\n",
    "#-------------\n",
    "lst\n",
    "#lst[0]"
   ]
  },
  {
   "cell_type": "code",
   "execution_count": 52,
   "metadata": {},
   "outputs": [
    {
     "data": {
      "text/plain": [
       "['7x1=7',\n",
       " '7x2=14',\n",
       " '7x3=21',\n",
       " '7x4=28',\n",
       " '7x5=35',\n",
       " '7x6=42',\n",
       " '7x7=49',\n",
       " '7x8=56',\n",
       " '7x9=63',\n",
       " '7x10=70']"
      ]
     },
     "execution_count": 52,
     "metadata": {},
     "output_type": "execute_result"
    }
   ],
   "source": [
    "#örn:\n",
    "#çarpım tablosu\n",
    "#1. yöntem\n",
    "lst_carpimlar = []\n",
    "kaclar = 7\n",
    "\n",
    "for x in range(2,11):\n",
    "    if x==kaclar:\n",
    "        for y in range(1,11):\n",
    "            #print(f\"{x}x{y}={x*y}\")\n",
    "            lst_carpimlar.append(f\"{x}x{y}={x*y}\")\n",
    "    #\n",
    "    #print(\"-\"*20)\n",
    "\n",
    "\n",
    "#2. yöntem: \n",
    "#arka aryaya for kullanmka içi içer for kullanımı ile aynı.\n",
    "lst_carpimlar = [f\"{x}x{y}={x*y}\" for x in range(2,11) for y in range(1,11) if x==kaclar]\n",
    "\n",
    "#------\n",
    "lst_carpimlar"
   ]
  },
  {
   "cell_type": "markdown",
   "metadata": {},
   "source": [
    "### while-else\n",
    "```python\n",
    "while şart:\n",
    "    #şart True üretirse çalışacak kodlar\n",
    "else:\n",
    "    # opsiyonel bu blok sadece şart False ürettiğinde devreye girer.\n",
    "    # break ile döngüden çıkılmış ise bu blok devreye girmez.\n",
    "```"
   ]
  },
  {
   "cell_type": "code",
   "execution_count": 56,
   "metadata": {},
   "outputs": [
    {
     "name": "stdout",
     "output_type": "stream",
     "text": [
      "1\n",
      "3\n",
      "5\n"
     ]
    }
   ],
   "source": [
    "#örn:\n",
    "sayac = 0\n",
    "\n",
    "while sayac<10:\n",
    "    sayac +=1 #her iterasyonda 1 arttıralım\n",
    "\n",
    "    #---------\n",
    "    if sayac == 7:\n",
    "        break #döngüyü sonlandırır. Else bloku devreye girmez.\n",
    "\n",
    "    if sayac%2==0:\n",
    "        continue #çift sayılara denk geldiğinde burada durup sonraki iterasyona geçecek\n",
    "    #\n",
    "    print(sayac)\n",
    "else:\n",
    "    print(f\"Şarta uymayan bir durum ile karşılaşıldı. {sayac = }\") #f stringte {sayac = } sonucu sayac = değeri şeklinde çıktı veri.r"
   ]
  },
  {
   "cell_type": "code",
   "execution_count": 59,
   "metadata": {},
   "outputs": [
    {
     "name": "stdout",
     "output_type": "stream",
     "text": [
      "3 deneme hakkınız kaldı.\n",
      "Hesap bilgilerini giriniz:\n",
      "2 deneme hakkınız kaldı.\n",
      "Hesap bilgilerini giriniz:\n",
      "Hoş geldin admin\n"
     ]
    }
   ],
   "source": [
    "#örn:\n",
    "#kadi = \"admin\" sifre = \"1234\"\n",
    "#giriş yapana kadar bilgileri soralım. 3 deneme hakkı verelim.\n",
    "#başarı giriş yapıldğında hoş geldin admin diyelim.\n",
    "\n",
    "kadi=ksifre=\"\" #zincir atama\n",
    "denemeHakki = 3\n",
    "\n",
    "while not(kadi==\"admin\" and ksifre==\"1234\"): #kadi!=\"admin\" or ksifre!=\"1234\"\n",
    "    print(f\"{denemeHakki} deneme hakkınız kaldı.\")\n",
    "\n",
    "    #\n",
    "    if denemeHakki<=0:\n",
    "        print(\"Deneme hakkınız bitti.\")\n",
    "        break\n",
    "    \n",
    "    #\n",
    "    print(\"Hesap bilgilerini giriniz:\")\n",
    "    kadi = input(\"Kullanıcı adı: \")\n",
    "    ksifre = input(\"Şifre: \")\n",
    "\n",
    "    #\n",
    "    denemeHakki -= 1\n",
    "\n",
    "else:\n",
    "    print(f\"Hoş geldin {kadi}\")"
   ]
  },
  {
   "cell_type": "code",
   "execution_count": 61,
   "metadata": {},
   "outputs": [],
   "source": [
    "#soru:\n",
    "#verilen cümledeki @ işaretinden önceki kısmı temizleyelim ve 0 hariç sayıların adedini hesaplayalım\n",
    "# ab0?d3u5!-lla65h~ki2se@hotmail.com\n",
    "\n",
    "metin = \"ab0?d3u5!-lla65h~ki2se@hotmail.com\""
   ]
  },
  {
   "cell_type": "code",
   "execution_count": 63,
   "metadata": {},
   "outputs": [
    {
     "name": "stdout",
     "output_type": "stream",
     "text": [
      "abdullahkise\n",
      "5\n"
     ]
    }
   ],
   "source": [
    "temiz_metin = \"\"\n",
    "numeric_sayac = 0\n",
    "\n",
    "#\n",
    "for m in metin:\n",
    "    if m==\"@\":\n",
    "        break\n",
    "\n",
    "    #\n",
    "    if m.isnumeric():\n",
    "        # if m!=\"0\":\n",
    "        #     numeric_sayac += 1\n",
    "        if m==\"0\":\n",
    "            continue\n",
    "        numeric_sayac+=1\n",
    "    #\n",
    "    elif m.isalpha() or m.isspace():\n",
    "        temiz_metin += m\n",
    "\n",
    "#------------------\n",
    "print(temiz_metin) \n",
    "print(numeric_sayac)"
   ]
  },
  {
   "cell_type": "code",
   "execution_count": null,
   "metadata": {},
   "outputs": [],
   "source": [
    "#soru:\n",
    "'''\n",
    "    - Bilgisayar rastgele bir sayı tutsun (1-10 arasında)\n",
    "    - bu sayıyı tahmin etmeye çalışalım\n",
    "    - yukarı aşağı diye bizi yönlendirsin.\n",
    "    - kaç denemede bulundu, tutulan sayı nedir sonunda öğrenelim.\n",
    "    - max deneme sayısı da verilebilir. max deneme sayısı aralıktan daha küçük olmalı. 1-10 arasında 9 hak olabilir.\n",
    "'''"
   ]
  },
  {
   "cell_type": "code",
   "execution_count": 80,
   "metadata": {},
   "outputs": [
    {
     "data": {
      "text/plain": [
       "[4, 321, 1, 65, 546, 2, 3]"
      ]
     },
     "execution_count": 80,
     "metadata": {},
     "output_type": "execute_result"
    }
   ],
   "source": [
    "import random\n",
    "\n",
    "#\n",
    "random.randint(1,10) #1-10 arasında rastgele tam sayı \n",
    "random.random() #0-1 arasında sayı üretir.\n",
    "random.choice([\"Ali\",\"Veli\",\"Ayşe\"])\n",
    "\n",
    "#\n",
    "#liste elemanlarını karıştırsın\n",
    "lst = [1,2,3,4,546,65,321]\n",
    "random.shuffle(lst)\n",
    "\n",
    "lst"
   ]
  }
 ],
 "metadata": {
  "kernelspec": {
   "display_name": "Python 3",
   "language": "python",
   "name": "python3"
  },
  "language_info": {
   "codemirror_mode": {
    "name": "ipython",
    "version": 3
   },
   "file_extension": ".py",
   "mimetype": "text/x-python",
   "name": "python",
   "nbconvert_exporter": "python",
   "pygments_lexer": "ipython3",
   "version": "3.11.3"
  }
 },
 "nbformat": 4,
 "nbformat_minor": 2
}
