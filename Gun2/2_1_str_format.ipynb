{
 "cells": [
  {
   "cell_type": "markdown",
   "metadata": {},
   "source": [
    "## Str Tipi ve Bazı Str Fonksiyonları"
   ]
  },
  {
   "cell_type": "code",
   "execution_count": 4,
   "metadata": {},
   "outputs": [
    {
     "data": {
      "text/plain": [
       "'Return a copy of the string converted to uppercase.'"
      ]
     },
     "execution_count": 4,
     "metadata": {},
     "output_type": "execute_result"
    }
   ],
   "source": [
    "dir(str)\n",
    "\n",
    "#\n",
    "#help(str.upper)   \n",
    "str.upper.__doc__ #magic function/attribute Bunlar kalıtılımla alakalı farklı nesneler görünen özel işlemler barındıran fonksiyonlardır/attributelerdir."
   ]
  },
  {
   "cell_type": "code",
   "execution_count": 5,
   "metadata": {},
   "outputs": [],
   "source": [
    "metin = \"mErhAba DünYAlı \" #sonunda space var."
   ]
  },
  {
   "cell_type": "code",
   "execution_count": 12,
   "metadata": {},
   "outputs": [
    {
     "data": {
      "text/plain": [
       "'Merhaba Dünyalı'"
      ]
     },
     "execution_count": 12,
     "metadata": {},
     "output_type": "execute_result"
    }
   ],
   "source": [
    "#Python da fonksiyon kullanımları\n",
    "#1. tip üzerinden\n",
    "str.title(metin) #Baş harfleri büyük yapar.\n",
    "\n",
    "#2. deger üzerinden\n",
    "metin.title()\n",
    "\n",
    "#3. magic function\n",
    "len(metin) #uzunluk. str container tiptir.\n",
    "metin.__len__() #magic function\n",
    "\n",
    "#4. arka arkaya kullanılabilr.\n",
    "metin.strip(\" \") #baştaki ve sondaki karekterleri temizler. varsayılan space karakteridir.\n",
    "metin.strip().title()\n",
    "\n",
    "#5.iç içe kullanım\n",
    "str.title(metin.strip())"
   ]
  },
  {
   "cell_type": "markdown",
   "metadata": {},
   "source": [
    "### Bazı Fonksiyonlar"
   ]
  },
  {
   "cell_type": "code",
   "execution_count": 19,
   "metadata": {},
   "outputs": [
    {
     "data": {
      "text/plain": [
       "'mX DünYAlı '"
      ]
     },
     "execution_count": 19,
     "metadata": {},
     "output_type": "execute_result"
    }
   ],
   "source": [
    "metin.count(\"A\") #belirtilen elemanın adedi\n",
    "metin.lower().count(\"a\") \n",
    "\n",
    "#\n",
    "metin.center(30, '.') #30 karekter içerisine ortaladı. kalan boşluklara belirtilen karekteri bastı.\n",
    "\n",
    "#\n",
    "metin.find(\"A\") #eleman kaçıncı indexte. ilk yakaladığının indexi\n",
    "metin[4]\n",
    "\n",
    "#\n",
    "metin.replace(\"ErhAba\", \"X\") #ilk parametredeki elemanı ikinci parametredeki elemanla değiştirir."
   ]
  },
  {
   "cell_type": "code",
   "execution_count": 21,
   "metadata": {},
   "outputs": [
    {
     "data": {
      "text/plain": [
       "2"
      ]
     },
     "execution_count": 21,
     "metadata": {},
     "output_type": "execute_result"
    }
   ],
   "source": [
    "#soru:\n",
    "#metin içerisindeki kelime sayısını hesaplayalım.\n",
    "metin.strip().count(\" \")+1\n",
    "#rstrip\n",
    "#lstrip"
   ]
  },
  {
   "cell_type": "markdown",
   "metadata": {},
   "source": [
    "### split ve join"
   ]
  },
  {
   "cell_type": "markdown",
   "metadata": {},
   "source": [
    "#### split"
   ]
  },
  {
   "cell_type": "code",
   "execution_count": 24,
   "metadata": {},
   "outputs": [
    {
     "data": {
      "text/plain": [
       "'Merhaba'"
      ]
     },
     "execution_count": 24,
     "metadata": {},
     "output_type": "execute_result"
    }
   ],
   "source": [
    "metin.split() #varsayılan olarak boşluk karakterine göre ayırır. geriye liste döner. Karekte belirtilebilir.\n",
    "\n",
    "# ilk kelimesini yakalayalım. ilk harfini büyük yapaım.\n",
    "metin.split()[0].capitalize() #ilk kelimenin baş harfini büyütür."
   ]
  },
  {
   "cell_type": "code",
   "execution_count": 25,
   "metadata": {},
   "outputs": [
    {
     "data": {
      "text/plain": [
       "'dünyalı'"
      ]
     },
     "execution_count": 25,
     "metadata": {},
     "output_type": "execute_result"
    }
   ],
   "source": [
    "#soru:\n",
    "#Son kelimenin tüm harflerini küçük olacak şekilde getirelim.\n",
    "metin.split()[-1].lower()"
   ]
  },
  {
   "cell_type": "markdown",
   "metadata": {},
   "source": [
    "#### join"
   ]
  },
  {
   "cell_type": "code",
   "execution_count": 28,
   "metadata": {},
   "outputs": [
    {
     "data": {
      "text/plain": [
       "'mErhAba-DünYAlı'"
      ]
     },
     "execution_count": 28,
     "metadata": {},
     "output_type": "execute_result"
    }
   ],
   "source": [
    "#str tipinden aldığı liste elemanlarını belli bir karekterle birleştirir. geriye metin döner.\n",
    "\"-\".join(metin.split())\n",
    "\n",
    "#\n",
    "str.join(\"-\", metin.split())"
   ]
  },
  {
   "cell_type": "markdown",
   "metadata": {},
   "source": [
    "### is... fonksiyonları"
   ]
  },
  {
   "cell_type": "code",
   "execution_count": 35,
   "metadata": {},
   "outputs": [
    {
     "data": {
      "text/plain": [
       "False"
      ]
     },
     "execution_count": 35,
     "metadata": {},
     "output_type": "execute_result"
    }
   ],
   "source": [
    "\"2024\".isdigit() #sadece rakamlardan oluşuyor mu? True\n",
    "\"-2024\".isdigit() #False\n",
    "\n",
    "#karekter bazlı\n",
    "\" \".isspace()\n",
    "\n",
    "#\n",
    "\"2024\".isnumeric() #sayısal mı? (unicode, roman rakamları, ...)\n",
    "\"metin\".isalpha() #sadece harflerden mi oluşuyor?\n",
    "\"one2\".isalnum() #harfler ve numaralardan mı oluşuyor?\n",
    "\n",
    "#\n",
    "\"pil@v\".isalnum() #False @işareti alfabede mevcut değil."
   ]
  },
  {
   "cell_type": "markdown",
   "metadata": {},
   "source": [
    "### Kaçış karekterleri ve özel karekterler"
   ]
  },
  {
   "cell_type": "code",
   "execution_count": 39,
   "metadata": {},
   "outputs": [
    {
     "name": "stdout",
     "output_type": "stream",
     "text": [
      "İstanbul'un 5 günlük hava durumu: 25°C\n",
      "Bir şair: \"İstanbul'un taşı toprağı aldındır.\" der.\n"
     ]
    }
   ],
   "source": [
    "#metinleri tek veya çift tırnak ile oluşturabiliriz. bunları makul şekilde kullanmak gerekir.\n",
    "print(\"İstanbul'un 5 günlük hava durumu: 25°C\") #metinde ayraç oluğu için metni \" ile tanımladık.\n",
    "\n",
    "#her iki tırnak da metin içeriisnde mevcut ise.\n",
    "#print(\"Bir şair: \"İstanbul'un taşı toprağı aldındır.\" der.\") #HATA\n",
    "\n",
    "#çözüm. Kaçış karekteri \\'dır. \\ sağıdaki karektere özel bir anlam yükleme olduğu gibi yaz.\n",
    "print(\"Bir şair: \\\"İstanbul'un taşı toprağı aldındır.\\\" der.\")"
   ]
  },
  {
   "cell_type": "code",
   "execution_count": 43,
   "metadata": {},
   "outputs": [
    {
     "name": "stdout",
     "output_type": "stream",
     "text": [
      "C:\n",
      "albur\n",
      "C:\\nalbur\n",
      "C:\\nalbur\n",
      "'C:\\nalbur'\n"
     ]
    }
   ],
   "source": [
    "#\\n, \\r, \\t,  özel karekterlerdir. özel anlamı var.\n",
    "print(\"C:\\nalbur\") #\\n ile alt satıra geçildi. dosya yolu bozuldu.\n",
    "\n",
    "#nasıl çözeriz\n",
    "print(\"C:\\\\nalbur\")  #\\\\ ile sağdaki \\'ın anlamını yok etmiş olduk.\n",
    "\n",
    "#raw string\n",
    "print(r\"C:\\nalbur\") #metin başındaki r ile raw string ürettik.\n",
    "\n",
    "#repr ile raw string\n",
    "yol = \"C:\\nalbur\"\n",
    "print(repr(yol))"
   ]
  },
  {
   "cell_type": "markdown",
   "metadata": {},
   "source": [
    "### ASCII, UNICODE"
   ]
  },
  {
   "cell_type": "code",
   "execution_count": 49,
   "metadata": {},
   "outputs": [
    {
     "data": {
      "text/plain": [
       "13"
      ]
     },
     "execution_count": 49,
     "metadata": {},
     "output_type": "execute_result"
    }
   ],
   "source": [
    "#karekterlerin ascii kod karşılıklarına bakalım\n",
    "ord(\"A\") #65\n",
    "ord(\"a\") #97\n",
    "\n",
    "#print ettiğimize aynı görünen karekterler white space\n",
    "ord(\" \") #32\n",
    "ord(\"\\n\") #10\n",
    "ord(\"\\t\") #9\n",
    "ord(\"\\r\") #13"
   ]
  },
  {
   "cell_type": "code",
   "execution_count": 50,
   "metadata": {},
   "outputs": [
    {
     "data": {
      "text/plain": [
       "'a'"
      ]
     },
     "execution_count": 50,
     "metadata": {},
     "output_type": "execute_result"
    }
   ],
   "source": [
    "#ascii kodların karakter kaşılığını verir.\n",
    "chr(97)"
   ]
  },
  {
   "cell_type": "code",
   "execution_count": 57,
   "metadata": {},
   "outputs": [
    {
     "data": {
      "text/plain": [
       "'😊'"
      ]
     },
     "execution_count": 57,
     "metadata": {},
     "output_type": "execute_result"
    }
   ],
   "source": [
    "#unicode\n",
    "ord(\"䈍\") #16909\n",
    "chr(16909) #䈍\n",
    "\n",
    "#\n",
    "\"\\u221E\" #sonsuz işareti\n",
    "ord(\"∞\") #8734\n",
    "chr(8734)\n",
    "\n",
    "#\n",
    "\"\\U0001F60A\" #gülümseme işareti"
   ]
  },
  {
   "cell_type": "markdown",
   "metadata": {},
   "source": [
    "### Encode, Decode"
   ]
  },
  {
   "cell_type": "code",
   "execution_count": 61,
   "metadata": {},
   "outputs": [
    {
     "name": "stdout",
     "output_type": "stream",
     "text": [
      "b'krl deerli bir i'\n"
     ]
    },
    {
     "data": {
      "text/plain": [
       "'krl deerli bir i'"
      ]
     },
     "execution_count": 61,
     "metadata": {},
     "output_type": "execute_result"
    }
   ],
   "source": [
    "'''\n",
    "    windows-1252\n",
    "    windows-1254\n",
    "    ANSI\n",
    "    ISO-8859-1\n",
    "    UTF-16\n",
    "    UTF-8\n",
    "    ASCII    \n",
    "'''\n",
    "metin = \"kârlı değerli bir iş\"\n",
    "\n",
    "#\n",
    "#byteStr=metin.encode(\"utf-8\") #byte tipine dönüştürdük.varsayılandır.\n",
    "byteStr = metin.encode(\"ASCII\", errors=\"ignore\") #byte tipine dönüştürdük. ASCII karakter setine dönüştürdük. hata veren karakterleri yok etti.\n",
    "print(byteStr)\n",
    "\n",
    "#\n",
    "byteStr.decode(\"utf-8\") #byte tipini metin tipine dönüştürdük. varsayılan UTF-8'dir.\n",
    "\n",
    "#Doğru şekilde encode ve decode etmeye dikkat edeceğiz."
   ]
  },
  {
   "cell_type": "markdown",
   "metadata": {},
   "source": [
    "### Karekter Bazı DÖnüşüm"
   ]
  },
  {
   "cell_type": "code",
   "execution_count": 63,
   "metadata": {},
   "outputs": [
    {
     "data": {
      "text/plain": [
       "'Merhaba'"
      ]
     },
     "execution_count": 63,
     "metadata": {},
     "output_type": "execute_result"
    }
   ],
   "source": [
    "metin = \"M!r?@b@\"\n",
    "\n",
    "#\n",
    "tbl = str.maketrans(\"!?@\",\"eha\") #! yerine e, ? yerine h, @ işareti yerine a yazdıralım\n",
    "metin.translate(tbl) #dönüşüm tablosu bekler. dict tipinden key:value şeklinde ascii/unicode kullanılarak tanımlanacak."
   ]
  },
  {
   "cell_type": "markdown",
   "metadata": {},
   "source": [
    "### Str Formatlama Yöntemleri"
   ]
  },
  {
   "cell_type": "code",
   "execution_count": 2,
   "metadata": {},
   "outputs": [],
   "source": [
    "ad = \"Abdullah\"\n",
    "maas = 12316.49"
   ]
  },
  {
   "cell_type": "markdown",
   "metadata": {},
   "source": [
    "#### % ve tuple yöntemi (eski)\n",
    "* tip zorunluluğu"
   ]
  },
  {
   "cell_type": "code",
   "execution_count": 5,
   "metadata": {},
   "outputs": [
    {
     "name": "stdout",
     "output_type": "stream",
     "text": [
      "Ad: Abdullah\n",
      "Maaş: 12316.5\n"
     ]
    }
   ],
   "source": [
    "'''\n",
    "    % yer tutucudur.\n",
    "    %s: string\n",
    "    %d: integer\n",
    "    %f: float\n",
    "\n",
    "    %.1f: virgülden sonra 1 basamak al.\n",
    "'''\n",
    "\n",
    "fmt = \"Ad: %s\\nMaaş: %.1f\"%(ad,maas) #% işaretleri yerine sırayla ad, maas gelsin.\n",
    "\n",
    "print(fmt)"
   ]
  },
  {
   "cell_type": "markdown",
   "metadata": {},
   "source": [
    " #### str.format"
   ]
  },
  {
   "cell_type": "code",
   "execution_count": 13,
   "metadata": {},
   "outputs": [
    {
     "name": "stdout",
     "output_type": "stream",
     "text": [
      "Ad: Abd\n",
      "Maaş: ~~~~~~~~~~~12,316.5~~~~~~~~~~~\n"
     ]
    }
   ],
   "source": [
    "'''\n",
    "    {} yer tutucudur.\n",
    "    {indexVeyaAlias : formatString}: \n",
    "\n",
    "    formatString:\n",
    "    s: string\n",
    "    f: float\n",
    "    d: integer\n",
    "    c: karekter\n",
    "\n",
    "    #\n",
    "     hizalamaKalanBosluklaraBasılacakKarakter | hizalama | hizalanacakAlan | binlikAyrac(_,) | .TipVeBasamakSayisi\n",
    "\n",
    "\n",
    "'''\n",
    "\n",
    "fmt =\"Ad: {}\\nMaaş: {}\".format(ad,maas) #{} içerisine sırayla ad, maas gelsin.\n",
    "fmt =\"Ad: {0}\\nMaaş: {1}\".format(ad,maas) #sıra numarası kullanaibliriz\n",
    "fmt =\"Ad: {v_adi}\\nMaaş: {v_maasi}\".format(v_adi=ad,v_maasi=maas) #key-value şeklinde de kullanılabilir. alias kulanabiliriz.\n",
    "\n",
    "#\n",
    "fmt =\"Ad: {:.3s}\\nMaaş: {:.1f}\".format(ad,maas) #.1f kayar kısım 1 basamak. .3s ile ilk 3 karekteri alır.\n",
    "fmt =\"Ad: {:.3s}\\nMaaş: {:,.1f}\".format(ad,maas) #,.1f ile binlik ayraç , oldu. _ 'de kullılanabilir.\n",
    "fmt =\"Ad: {:.3s}\\nMaaş: {:^30,.1f}\".format(ad,maas) #^30 ile 30 karekterlik alanı ortalar. < sola yaslı, > sağa yaslı, ^ ortalamak\n",
    "fmt =\"Ad: {:.3s}\\nMaaş: {:~^30,.1f}\".format(ad,maas) #~^30 ile 30 karekterlik alanı ortalar. kalan boşluklara ~ basar.\n",
    "\n",
    "\n",
    "print(fmt)"
   ]
  },
  {
   "cell_type": "markdown",
   "metadata": {},
   "source": [
    "#### format fonksiyonu"
   ]
  },
  {
   "cell_type": "code",
   "execution_count": 16,
   "metadata": {},
   "outputs": [
    {
     "data": {
      "text/plain": [
       "'~~~~~~~~~~~~~~~~~~~~~~~~~~~1.5'"
      ]
     },
     "execution_count": 16,
     "metadata": {},
     "output_type": "execute_result"
    }
   ],
   "source": [
    "format(1.49,\"~>30.1f\") #format stringer burada da geçerli."
   ]
  },
  {
   "cell_type": "markdown",
   "metadata": {},
   "source": [
    "#### f-string yöntemi"
   ]
  },
  {
   "cell_type": "code",
   "execution_count": 18,
   "metadata": {},
   "outputs": [
    {
     "name": "stdout",
     "output_type": "stream",
     "text": [
      "Ad: Abdullah\n",
      "Maaş: ......................12_316.5\n"
     ]
    }
   ],
   "source": [
    "fmt =f\"Ad: {ad}\\nMaaş: {maas}\"\n",
    "fmt =f\"Ad: {ad}\\nMaaş: {maas:.>30_.1f}\" #format stringeri geçerli.\n",
    "\n",
    "print(fmt)"
   ]
  },
  {
   "cell_type": "markdown",
   "metadata": {},
   "source": [
    "#### str.format_map(dict) Yöntemi\n",
    "* metindeki dict keylerine dict valularını basar."
   ]
  },
  {
   "cell_type": "code",
   "execution_count": 19,
   "metadata": {},
   "outputs": [
    {
     "name": "stdout",
     "output_type": "stream",
     "text": [
      "Abdullah isimli personelin bu yılki 12316.49 12316.49 TL olacaktır.\n"
     ]
    }
   ],
   "source": [
    "dict_personel = {\n",
    "    \"adi\":\"Abdullah\",\n",
    "    \"maas\":12316.49\n",
    "}\n",
    "\n",
    "fmt = \"{adi} isimli personelin bu yılki {maas} 12316.49 TL olacaktır.\".format_map(dict_personel)\n",
    "\n",
    "print(fmt)"
   ]
  },
  {
   "cell_type": "code",
   "execution_count": null,
   "metadata": {},
   "outputs": [],
   "source": [
    "#soru:\n",
    "'''\n",
    "    - metin dışarıdan alınabilsin.\n",
    "    - metni belirtilen karakter içerisine ortalayalım. Mesela 30 karakter.\n",
    "    - kalan boşluklara da - basalım.\n",
    "    \n",
    "------------------------------\n",
    "-------merhaba dünyalı--------\n",
    "------------------------------\n",
    "'''"
   ]
  },
  {
   "cell_type": "code",
   "execution_count": 22,
   "metadata": {},
   "outputs": [
    {
     "data": {
      "text/plain": [
       "'------------------------------'"
      ]
     },
     "execution_count": 22,
     "metadata": {},
     "output_type": "execute_result"
    }
   ],
   "source": [
    "#containerlarda * işlemi elemansayısnı tekrarlatır.\n",
    "[1,2,3]*5 #[1, 2, 3, 1, 2, 3, 1, 2, 3, 1, 2, 3, 1, 2, 3]\n",
    "\n",
    "#str container tiptir.\n",
    "\"merhaba\"*10\n",
    "\"-\"*30"
   ]
  },
  {
   "cell_type": "code",
   "execution_count": 26,
   "metadata": {},
   "outputs": [],
   "source": [
    "metin = \"Merhaba Dünyalı\" #input(\"Metin giriniz:\")\n",
    "cizgiSayisi = int(\"30\") #int(input(\"Çizgi sayısı giriniz:\")) #kullanıcıdan alınan değerler str formatındadır."
   ]
  },
  {
   "cell_type": "code",
   "execution_count": 29,
   "metadata": {},
   "outputs": [
    {
     "name": "stdout",
     "output_type": "stream",
     "text": [
      "------------------------------\n",
      "-------Merhaba Dünyalı--------\n",
      "------------------------------\n"
     ]
    }
   ],
   "source": [
    "#1. yöntem\n",
    "print(\"-\"*cizgiSayisi)\n",
    "print(metin.center(cizgiSayisi, \"-\"))\n",
    "print(\"-\"*cizgiSayisi)"
   ]
  },
  {
   "cell_type": "code",
   "execution_count": 32,
   "metadata": {},
   "outputs": [
    {
     "name": "stdout",
     "output_type": "stream",
     "text": [
      "-------Merhaba Dünyalı--------\n"
     ]
    }
   ],
   "source": [
    "#2.yöntem\n",
    "#fmt = f\"{metin:-^30}\"\n",
    "fmt = f\"{metin:-^{cizgiSayisi}}\" #format string içerisnde {} ile değişken değerlerini okuduk.\n",
    "\n",
    "print(fmt)"
   ]
  },
  {
   "cell_type": "code",
   "execution_count": 35,
   "metadata": {},
   "outputs": [
    {
     "name": "stdout",
     "output_type": "stream",
     "text": [
      "-------Merhaba Dünyalı--------\n"
     ]
    }
   ],
   "source": [
    "#3. yöntem\n",
    "#fmt = \"{:-^30}\".format(metin)\n",
    "fmt = \"{:-^{}}\".format(metin,cizgiSayisi)\n",
    "\n",
    "print(fmt)"
   ]
  },
  {
   "cell_type": "code",
   "execution_count": null,
   "metadata": {},
   "outputs": [],
   "source": [
    "#soru: Yazar kasa fişi oluşturalım\n",
    "'''\n",
    "==============================\n",
    "Item                     Price\n",
    "------------------------------\n",
    "Elma                      0.40\n",
    "Karpus                    0.50\n",
    "Üzüm                      1.92\n",
    "Havuc (16 oz.)            8.00\n",
    "Prasa (4 lbs.)           12.00\n",
    "==============================\n",
    "'''"
   ]
  }
 ],
 "metadata": {
  "kernelspec": {
   "display_name": "Python 3",
   "language": "python",
   "name": "python3"
  },
  "language_info": {
   "codemirror_mode": {
    "name": "ipython",
    "version": 3
   },
   "file_extension": ".py",
   "mimetype": "text/x-python",
   "name": "python",
   "nbconvert_exporter": "python",
   "pygments_lexer": "ipython3",
   "version": "3.11.3"
  }
 },
 "nbformat": 4,
 "nbformat_minor": 2
}
