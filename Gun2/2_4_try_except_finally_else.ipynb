{
 "cells": [
  {
   "cell_type": "markdown",
   "metadata": {},
   "source": [
    "## Hata Tipleri ve Hata Yönetimi\n",
    "![alt text](HataYonetimiveHataTurleri.png)"
   ]
  },
  {
   "cell_type": "code",
   "execution_count": 1,
   "metadata": {},
   "outputs": [],
   "source": [
    "#1. mantık hatası\n",
    "positifTamsati = 5\n",
    "if positifTamsati<0:\n",
    "    print(\"Bu kod mantıksızldır. Positif tam sayılardan 0'dan küçük olamaz.\")"
   ]
  },
  {
   "cell_type": "code",
   "execution_count": 2,
   "metadata": {},
   "outputs": [
    {
     "ename": "SyntaxError",
     "evalue": "cannot assign to expression here. Maybe you meant '==' instead of '='? (528195501.py, line 3)",
     "output_type": "error",
     "traceback": [
      "\u001b[1;36m  Cell \u001b[1;32mIn[2], line 3\u001b[1;36m\u001b[0m\n\u001b[1;33m    if x%2=0:\u001b[0m\n\u001b[1;37m       ^\u001b[0m\n\u001b[1;31mSyntaxError\u001b[0m\u001b[1;31m:\u001b[0m cannot assign to expression here. Maybe you meant '==' instead of '='?\n"
     ]
    }
   ],
   "source": [
    "#2. syntax hatası\n",
    "x = 12\n",
    "if x%2=0: #= operatoru atama operatorudur. Burada karşılaştırma operatoru olan == kullanılıydı.\n",
    "    print(\"Çift sayıdır.\")"
   ]
  },
  {
   "cell_type": "code",
   "execution_count": 21,
   "metadata": {},
   "outputs": [
    {
     "name": "stdout",
     "output_type": "stream",
     "text": [
      "İşlem hatasız şekilde tamamlandı.\n",
      "İşlem tamamlandı. sonuc = 4.0\n"
     ]
    }
   ],
   "source": [
    "#3. run-time hataları\n",
    "x = 12\n",
    "y = 3#\"metin\"\n",
    "\n",
    "'''\n",
    "y = 0 ise ZeroDivisionError hatası alınır. Çünkü bir sayıyı 0'a bölmek matematiksel olarak tanımlı değildir.\n",
    "y = \"metin\" ise TypeError hatası alınır. Çünkü bir sayıyı bir metinle bölmek matematiksel olarak tanımlı değildir.\n",
    "'''\n",
    "\n",
    "sonuc = \"\"\n",
    "try:\n",
    "    sonuc = x/y\n",
    "    \n",
    "    #print(sonuc)\n",
    "#excep blokları istisnai durumlar için kullanılır.\n",
    "except ZeroDivisionError as ex:\n",
    "    print(\"Bölüm sıfır olamaz.\")\n",
    "    print(\"Sistem hata mesajı: \",ex)\n",
    "\n",
    "    #\n",
    "    sonuc = \"\\u221E\"\n",
    "except TypeError as ex:\n",
    "    print(\"Bölme işlemi için sayısal bir değer gerekli.\")\n",
    "    print(\"Sistem hata mesajı: \",ex)\n",
    "\n",
    "    #\n",
    "    sonuc = \"Tip hatası\"\n",
    "except Exception as ex: #except:\n",
    "    print(\"Beklenmedik bir hata ile karşılaşıldı.\")\n",
    "    print(\"Sistem hata mesajı: \",ex)\n",
    "\n",
    "    #\n",
    "    sonuc = \"Beklenmedik hata\"\n",
    "else: #hata olmazsa çalışacak blok\n",
    "    print(\"İşlem hatasız şekilde tamamlandı.\")\n",
    "\n",
    "finally:\n",
    "    #hata olsa da olmasa da çalışcak kodlar buraya\n",
    "    #kaynakları serbest bırakmak, bağlantıları kapatmak için kullanılır.\n",
    "    print(f\"İşlem tamamlandı. {sonuc = }\")"
   ]
  },
  {
   "cell_type": "markdown",
   "metadata": {},
   "source": [
    "### `raise` ile bilinçli şekilde hata (istinsa) üretmek mümküne"
   ]
  },
  {
   "cell_type": "code",
   "execution_count": 24,
   "metadata": {},
   "outputs": [],
   "source": [
    "#sistemdeki gömülü hatalar neler?\n",
    "#[be for be in dir(__builtins__) if \"Error\" in be]"
   ]
  },
  {
   "cell_type": "code",
   "execution_count": 34,
   "metadata": {},
   "outputs": [
    {
     "name": "stdout",
     "output_type": "stream",
     "text": [
      "Sistem hata mesajı:  Negatif sayılar çevrilemez. Buna yetkiniz yok.\n"
     ]
    }
   ],
   "source": [
    "#örn:\n",
    "c_str = \"-30\" #input(\"Sıcaklık giriniz (C): \")\n",
    "\n",
    "try:\n",
    "    C = float(c_str)\n",
    "\n",
    "    #------------------\n",
    "    #özel bir istisna olsun. negatif sayılar çeviremesin.\n",
    "    if C<0:\n",
    "        raise PermissionError(\"Negatif sayılar çevrilemez. Buna yetkiniz yok.\") #yapay hata ürettik.\n",
    "    #------------------\n",
    "\n",
    "    #hata olmazsa bu noktaya kadar gelir.\n",
    "    F = C*1.18 + 32\n",
    "    print(f\"{C} C = {F} F\")\n",
    "except Exception as ex:\n",
    "    print(\"Sistem hata mesajı: \",ex)\n",
    "\n"
   ]
  },
  {
   "cell_type": "markdown",
   "metadata": {},
   "source": [
    "### Kendi hata tipimizi oluşturalım"
   ]
  },
  {
   "cell_type": "code",
   "execution_count": 36,
   "metadata": {},
   "outputs": [],
   "source": [
    "class NegatifHatalariDesteklemiyoruzYetkinizYokError(Exception): #Hata tipini Exception temel tipinden kalıyor. Temel Exception özelliklerini içeririr.\n",
    "    pass #hata vermemsi için yazdık. Kodlar için yer tutuudur. işlem yapmaz."
   ]
  },
  {
   "cell_type": "code",
   "execution_count": 37,
   "metadata": {},
   "outputs": [
    {
     "ename": "NegatifHatalariDesteklemiyoruzYetkinizYokError",
     "evalue": "Negatif sayılar çevrilemez. Buna yetkiniz yok.",
     "output_type": "error",
     "traceback": [
      "\u001b[1;31m---------------------------------------------------------------------------\u001b[0m",
      "\u001b[1;31mNegatifHatalariDesteklemiyoruzYetkinizYokError\u001b[0mTraceback (most recent call last)",
      "Cell \u001b[1;32mIn[37], line 1\u001b[0m\n\u001b[1;32m----> 1\u001b[0m \u001b[38;5;28;01mraise\u001b[39;00m NegatifHatalariDesteklemiyoruzYetkinizYokError(\u001b[38;5;124m\"\u001b[39m\u001b[38;5;124mNegatif sayılar çevrilemez. Buna yetkiniz yok.\u001b[39m\u001b[38;5;124m\"\u001b[39m)\n",
      "\u001b[1;31mNegatifHatalariDesteklemiyoruzYetkinizYokError\u001b[0m: Negatif sayılar çevrilemez. Buna yetkiniz yok."
     ]
    }
   ],
   "source": [
    "raise NegatifHatalariDesteklemiyoruzYetkinizYokError(\"Negatif sayılar çevrilemez. Buna yetkiniz yok.\")"
   ]
  }
 ],
 "metadata": {
  "kernelspec": {
   "display_name": "Python 3",
   "language": "python",
   "name": "python3"
  },
  "language_info": {
   "codemirror_mode": {
    "name": "ipython",
    "version": 3
   },
   "file_extension": ".py",
   "mimetype": "text/x-python",
   "name": "python",
   "nbconvert_exporter": "python",
   "pygments_lexer": "ipython3",
   "version": "3.11.3"
  }
 },
 "nbformat": 4,
 "nbformat_minor": 2
}
