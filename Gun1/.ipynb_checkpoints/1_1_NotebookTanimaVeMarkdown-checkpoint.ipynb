{
 "cells": [
  {
   "cell_type": "markdown",
   "id": "abdd3eed",
   "metadata": {
    "scrolled": true
   },
   "source": [
    "# Python Dili Esasları\n",
    "![PythonLogo](https://www.python.org/static/img/python-logo@2x.png)\n",
    "\n",
    "## Python Ortamının Hazırlanması\n",
    "**Python** ortamını hazırlamak için:\n",
    "1. Öncelikle [python.org](https://www.python.org/) sitesinden engine indirmek gerekli.\n",
    "2. Sonrasında terminal üzerinden veya bir IDE ile çalışabilirsiniz.\n",
    "    * `Jupyter Lab` , `Jupyter Notebook`\n",
    "    * `Visual Studio Code`, `Spyder`, `PyCharm`\n",
    "3. Dilerseniz **Anaconda** dağıtımını kurarak her şeyi derli toplu `Anaconda Navigator` ile yöntebilirsiniz.\n",
    "4. ~Python2~ yerine *python3* kullanmaya dikkat edelim.\n",
    "\n",
    "**Not:** \n",
    "* Yukarıdaki yatık tırnakları (`) <kbd>AltGr</kbd> + <kbd>;</kbd> + <kbd>Space</kbd> ile oluşturuldu.\n",
    "* Markdown dili html kodlarını destekler. <font color='red'>Bu metin ile html ile yazıldı.</font>\n",
    "\n",
    "## Çalışma Modları:\n",
    "1. Interactive Mode\n",
    "2. Script Mode\n",
    "3. Setup Mode\n",
    "\n",
    "## Kullananacağımız Bazı Komutlar\n",
    "### Shell Komutları:\n",
    "\n",
    "```shell\n",
    "py --version\n",
    "py --list\n",
    "py -3.11\n",
    "py3\n",
    "    help()\n",
    "    help(print)\n",
    "    exit()\n",
    "cls\n",
    "```\n",
    "\n",
    "### Python komuları\n",
    "```python\n",
    "print(\"merhaba\", \"dünyalı\", sep=\"-\",end=\"!\")\n",
    "```\n",
    "\n",
    "### SQL Komutları\n",
    "```sql\n",
    "SELECT\n",
    "    kolon1,\n",
    "    kolon2\n",
    "FROM TabloAdi\n",
    "```\n",
    "\n",
    "## Bazı Kısayollar\n",
    "* Hücrelerdeki kodları çalıştırırken.\n",
    "    * <kbd>Shift</kbd> + <kbd>Enter</kbd> : Çalıştırır altta hücre yoksa boş açarsa varsa o hücreye geçer:\n",
    "    * <kbd>Alt</kbd> + <kbd>Enter</kbd>: Çalıştırır alta boş hücre açar\n",
    "    * <kbd>Ctrl</kbd> +<kbd>Enter</kbd>: Çalıştırır aynı hücrede kalır.\n",
    "* Command Mode seçili iken mevcut hücre \n",
    "    * üzerine hücre eklemek için <kbd>A</kbd>, \n",
    "    * altına hücre eklemek için <kbd>B</kbd> \n",
    "    * hücreyi silmek için <kbd>D</kbd>, <kbd>D</kbd>\n",
    "    * Tüm kısa yolları görmek için <kbd>H</kbd> kullanırız.\n",
    "    \n",
    "## Matematiksel Semboller Gösterilebilir\n",
    "* https://rmd4sci.njtierney.com/math\n",
    "* $x^2$\n",
    "* $\\int$\n",
    "* $\\infty$\n",
    "* $\\int_0^\\infty x^{-a}$\n",
    "* $\\frac{1-x}{3-y}$\n",
    "* $\\sum_{i=1}^n$\n",
    "* $\\sqrt{1-p}$\n",
    "\n",
    "## Tablo Oluşturma\n",
    "|Ad| Soyad|\n",
    "|----|-----|\n",
    "|Ali |Uçan|\n",
    "|Veli |Kaçan|"
   ]
  }
 ],
 "metadata": {
  "kernelspec": {
   "display_name": "Python 3 (ipykernel)",
   "language": "python",
   "name": "python3"
  },
  "language_info": {
   "codemirror_mode": {
    "name": "ipython",
    "version": 3
   },
   "file_extension": ".py",
   "mimetype": "text/x-python",
   "name": "python",
   "nbconvert_exporter": "python",
   "pygments_lexer": "ipython3",
   "version": "3.11.3"
  },
  "toc": {
   "base_numbering": 1,
   "nav_menu": {},
   "number_sections": true,
   "sideBar": true,
   "skip_h1_title": false,
   "title_cell": "Table of Contents",
   "title_sidebar": "Contents",
   "toc_cell": false,
   "toc_position": {},
   "toc_section_display": true,
   "toc_window_display": false
  },
  "varInspector": {
   "cols": {
    "lenName": 16,
    "lenType": 16,
    "lenVar": 40
   },
   "kernels_config": {
    "python": {
     "delete_cmd_postfix": "",
     "delete_cmd_prefix": "del ",
     "library": "var_list.py",
     "varRefreshCmd": "print(var_dic_list())"
    },
    "r": {
     "delete_cmd_postfix": ") ",
     "delete_cmd_prefix": "rm(",
     "library": "var_list.r",
     "varRefreshCmd": "cat(var_dic_list()) "
    }
   },
   "types_to_exclude": [
    "module",
    "function",
    "builtin_function_or_method",
    "instance",
    "_Feature"
   ],
   "window_display": false
  }
 },
 "nbformat": 4,
 "nbformat_minor": 5
}
