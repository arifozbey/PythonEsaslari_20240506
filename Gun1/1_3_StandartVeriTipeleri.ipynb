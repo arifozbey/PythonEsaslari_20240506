{
 "cells": [
  {
   "cell_type": "markdown",
   "metadata": {},
   "source": [
    "## Python Standart Veri Tipleri\n",
    "![tipler](PythonVeriTipleri.png)"
   ]
  },
  {
   "cell_type": "markdown",
   "metadata": {},
   "source": [
    "### Değişken Tanımlama"
   ]
  },
  {
   "cell_type": "code",
   "execution_count": 4,
   "metadata": {},
   "outputs": [
    {
     "name": "stdout",
     "output_type": "stream",
     "text": [
      "metin\n"
     ]
    },
    {
     "data": {
      "text/plain": [
       "'metin'"
      ]
     },
     "execution_count": 4,
     "metadata": {},
     "output_type": "execute_result"
    }
   ],
   "source": [
    "degisken  = 1 #atama operatır = dir.\n",
    "#python dynamic type özelliğine sahiptir.\n",
    "degisken = \"metin\"\n",
    "\n",
    "print(degisken)\n",
    "degisken"
   ]
  },
  {
   "cell_type": "code",
   "execution_count": 5,
   "metadata": {},
   "outputs": [
    {
     "data": {
      "text/plain": [
       "str"
      ]
     },
     "execution_count": 5,
     "metadata": {},
     "output_type": "execute_result"
    }
   ],
   "source": [
    "type(degisken) #str tipinden"
   ]
  },
  {
   "cell_type": "code",
   "execution_count": 7,
   "metadata": {},
   "outputs": [
    {
     "data": {
      "text/plain": [
       "False"
      ]
     },
     "execution_count": 7,
     "metadata": {},
     "output_type": "execute_result"
    }
   ],
   "source": [
    "isinstance(degisken, str) #True\n",
    "isinstance(degisken,(int, float)) #degisken int veya float tipinden mi? False"
   ]
  },
  {
   "cell_type": "markdown",
   "metadata": {},
   "source": [
    "#### Primitive tipler"
   ]
  },
  {
   "cell_type": "markdown",
   "metadata": {},
   "source": [
    "##### Numeric"
   ]
  },
  {
   "cell_type": "code",
   "execution_count": 10,
   "metadata": {},
   "outputs": [
    {
     "name": "stdout",
     "output_type": "stream",
     "text": [
      "1\n",
      "1.23\n",
      "(3+4j)\n",
      "<class 'int'>\n",
      "<class 'float'>\n",
      "<class 'complex'>\n"
     ]
    }
   ],
   "source": [
    "i = 1 #int(1)\n",
    "f =1.23 #float(1.23)\n",
    "c = 3+4j #complex(3, 4)\n",
    "\n",
    "#\n",
    "print(i, f, c, sep=\"\\n\") #\\n ile alt alta yazdırır.\n",
    "print(type(i), type(f), type(c), sep=\"\\n\")"
   ]
  },
  {
   "cell_type": "markdown",
   "metadata": {},
   "source": [
    "##### Bool"
   ]
  },
  {
   "cell_type": "code",
   "execution_count": 11,
   "metadata": {},
   "outputs": [
    {
     "data": {
      "text/plain": [
       "bool"
      ]
     },
     "execution_count": 11,
     "metadata": {},
     "output_type": "execute_result"
    }
   ],
   "source": [
    "t = True #bool(True)\n",
    "f = False #bool(False)\n",
    "\n",
    "#\n",
    "type(t) #bool"
   ]
  },
  {
   "cell_type": "markdown",
   "metadata": {},
   "source": [
    "##### Bool tipine özel durumlar\n",
    "* 0, None veya benzer şekilde yokluk ifade eden nesneler (boş list, tuple, set vs.) False olarak değerlendirilir.\n",
    "* Diğer veriler True olarak değerlendirilir."
   ]
  },
  {
   "cell_type": "code",
   "execution_count": 15,
   "metadata": {},
   "outputs": [
    {
     "data": {
      "text/plain": [
       "True"
      ]
     },
     "execution_count": 15,
     "metadata": {},
     "output_type": "execute_result"
    }
   ],
   "source": [
    "# True olanlar:\n",
    "True\n",
    "bool(True)\n",
    "\n",
    "#\n",
    "bool(1)\n",
    "bool(-1)\n",
    "\n",
    "#\n",
    "bool(231321)\n",
    "bool(\"metin\")\n",
    "bool(\" \") #spacekarakteri de True döner."
   ]
  },
  {
   "cell_type": "code",
   "execution_count": 18,
   "metadata": {},
   "outputs": [
    {
     "data": {
      "text/plain": [
       "False"
      ]
     },
     "execution_count": 18,
     "metadata": {},
     "output_type": "execute_result"
    }
   ],
   "source": [
    "# False olanlar:\n",
    "False\n",
    "bool(False)\n",
    "\n",
    "#\n",
    "bool(0)\n",
    "\n",
    "#\n",
    "bool(\"\") #boş string False döner.\n",
    "bool([]) #boş liste False döner."
   ]
  },
  {
   "cell_type": "markdown",
   "metadata": {},
   "source": [
    "#### NoneType"
   ]
  },
  {
   "cell_type": "code",
   "execution_count": 19,
   "metadata": {},
   "outputs": [
    {
     "data": {
      "text/plain": [
       "NoneType"
      ]
     },
     "execution_count": 19,
     "metadata": {},
     "output_type": "execute_result"
    }
   ],
   "source": [
    "type(None) #NoneType #None, NaN, NA"
   ]
  },
  {
   "cell_type": "markdown",
   "metadata": {},
   "source": [
    "### Container Tipler"
   ]
  },
  {
   "cell_type": "markdown",
   "metadata": {},
   "source": [
    "#### Sequence Types ####\n",
    "* Sıralı veri tipleridir.\n",
    "* Sıra numarası ile elemanlara erişilebilir.\n",
    "* Sıra numarası 0'dan başlar."
   ]
  },
  {
   "cell_type": "markdown",
   "metadata": {},
   "source": [
    "##### Str"
   ]
  },
  {
   "cell_type": "code",
   "execution_count": 21,
   "metadata": {},
   "outputs": [
    {
     "name": "stdout",
     "output_type": "stream",
     "text": [
      "\n",
      "SELECT\n",
      "    kolon1,\n",
      "    kolon2\n",
      "FROM tablo \n",
      "\n"
     ]
    },
    {
     "data": {
      "text/plain": [
       "str"
      ]
     },
     "execution_count": 21,
     "metadata": {},
     "output_type": "execute_result"
    }
   ],
   "source": [
    "# tek satırlı metinler yazmak için \" veya ' tek tırnak kullanılır.\n",
    "metin = \"merhaba dünyalı\"\n",
    "\n",
    "# çok satırlı metinler yazmak için \"\"\" veya ''' üç tırnak kullanılır.\n",
    "sqlKomutu = \"\"\"\n",
    "SELECT\n",
    "    kolon1,\n",
    "    kolon2\n",
    "FROM tablo \n",
    "\"\"\"\n",
    "\n",
    "#\n",
    "print(sqlKomutu)\n",
    "type(sqlKomutu)"
   ]
  },
  {
   "cell_type": "markdown",
   "metadata": {},
   "source": [
    "##### tuple\n",
    "* Farklı tiplerdeki verileri içerebilir.\n",
    "* (,,,) veya ,,,, elemanlar belirtilebilir.\n",
    "* immutable tiptir. Yani elemanları güncellenemez. Eleman ekleme, çıkarma, değiştirme işlemleri yapılamaz."
   ]
  },
  {
   "cell_type": "code",
   "execution_count": 23,
   "metadata": {},
   "outputs": [
    {
     "name": "stdout",
     "output_type": "stream",
     "text": [
      "(1, 2, 3, 'metin', False, True, None)\n"
     ]
    },
    {
     "data": {
      "text/plain": [
       "tuple"
      ]
     },
     "execution_count": 23,
     "metadata": {},
     "output_type": "execute_result"
    }
   ],
   "source": [
    "t = (1,2,3,\"metin\", False,True,None)\n",
    "t = 1,2,3,\"metin\", False,True,None\n",
    "\n",
    "#\n",
    "print(t)\n",
    "type(t)"
   ]
  },
  {
   "cell_type": "markdown",
   "metadata": {},
   "source": [
    "##### list\n",
    "* Farklı tiplerdeki verileri içerebilir.\n",
    "* [,,,,] tanımı ile elemanlar belirtilebilir.\n",
    "* mutable tiptir. Yani elemanları güncellenebilir. Eleman ekleme, çıkarma, değiştirme işlemleri yapılabilmektedir."
   ]
  },
  {
   "cell_type": "code",
   "execution_count": 25,
   "metadata": {},
   "outputs": [
    {
     "name": "stdout",
     "output_type": "stream",
     "text": [
      "[1, 2, 3, 'metin', True, False, None]\n"
     ]
    },
    {
     "data": {
      "text/plain": [
       "list"
      ]
     },
     "execution_count": 25,
     "metadata": {},
     "output_type": "execute_result"
    }
   ],
   "source": [
    "l = [1,2,3,\"metin\",True,False,None]\n",
    "\n",
    "#\n",
    "print(l)\n",
    "type(l)"
   ]
  },
  {
   "cell_type": "markdown",
   "metadata": {},
   "source": [
    "##### squence elenmanlarına erişim #####\n",
    "* str, tuple, list\n",
    "* Sıra numarası ile elemanlara erişilebilir. Sıra numarası 0'dan başlar.\n",
    "* Sıra numarası negatif olabilir. -1 sondan başlar. tersten anlamına gelir.\n",
    "* index ile:\n",
    "  * `sqNesne[sıraNumarası]`\n",
    "* slicing ile:\n",
    "  * `sqNesne[start:stop:step]`\n",
    "    * start belitilmemişse varsayılan değeri 0'dır.\n",
    "    * stop belitilmezse varsayılan eleman sayıdır. sona kadar enlamona gelir.\n",
    "    * step belirtilmezse varsayılan değeri 1'dir. Birer birer ilerler."
   ]
  },
  {
   "cell_type": "code",
   "execution_count": 6,
   "metadata": {},
   "outputs": [
    {
     "data": {
      "text/plain": [
       "['Hüseyin', 'Hasan', 'Ahmet', 'Mehmet', 'Veli', 'Ali']"
      ]
     },
     "execution_count": 6,
     "metadata": {},
     "output_type": "execute_result"
    }
   ],
   "source": [
    "lst = [\"Ali\",\"Veli\",\"Mehmet\",\"Ahmet\",\"Hasan\",\"Hüseyin\"]\n",
    "\n",
    "# index\n",
    "lst[0] # Ali\n",
    "\n",
    "#\n",
    "lst[-1] # Hüseyin\n",
    "\n",
    "#----------\n",
    "# slicing\n",
    "lst[0:4:2] # 0'dan 4'e kadar 2'şer atlayarak alır. ['Ali', 'Mehmet'] 4 dahil değil.\n",
    "\n",
    "#step özel\n",
    "lst[::] #tüm ilste.\n",
    "lst[:3] #ilk 3 eleman.\n",
    "lst[::-1] #ters çevirir."
   ]
  },
  {
   "cell_type": "markdown",
   "metadata": {},
   "source": [
    "### Set Types\n",
    "* Elemanlarının sıra numarası yoktur.\n",
    "* Elemanlar unique'dir. Yani aynı eleman birden fazla kez bulunamaz.\n",
    "* Matematikteki kümelere benzerdir. Kesişim, birleşim, fark gibi işlemler yapılabilir."
   ]
  },
  {
   "cell_type": "markdown",
   "metadata": {},
   "source": [
    "##### set\n",
    "* {,,,} tanımı ile elemanlar belirtilebilir.\n",
    "* Kendisi mutable tiptir. FAkat elemanları immutable olmalıdır.\n",
    "    * bu yönüyle set içerisinde set tanımlanamaz. frozenset kullanılabilir.\n",
    "* Elemanları sıralı değildir. Sıra numarası ile erişilemez."
   ]
  },
  {
   "cell_type": "code",
   "execution_count": 9,
   "metadata": {},
   "outputs": [
    {
     "name": "stdout",
     "output_type": "stream",
     "text": [
      "{0, 1, 2, 3, 'metin'}\n"
     ]
    }
   ],
   "source": [
    "s = {0,1,2,3,\"metin\",False,True, \"metin\"}\n",
    "\n",
    "print(s) #benzersiz elemanlar. 0 False olarak, 1 True olarak değerlendilir."
   ]
  },
  {
   "cell_type": "code",
   "execution_count": 11,
   "metadata": {},
   "outputs": [
    {
     "name": "stdout",
     "output_type": "stream",
     "text": [
      "{'I', 'K', 'A', 'L', 'B'}\n"
     ]
    }
   ],
   "source": [
    "m = {\"K\",\"A\",\"L\",\"A\",\"B\",\"A\",\"L\",\"I\",\"K\"}\n",
    "\n",
    "print(m) #benzersiz elemanlar. sıra önemli değil."
   ]
  },
  {
   "cell_type": "code",
   "execution_count": 15,
   "metadata": {},
   "outputs": [
    {
     "data": {
      "text/plain": [
       "{'Ali', 'Veli', frozenset({'Ayşe', 'Fatma'})}"
      ]
     },
     "execution_count": 15,
     "metadata": {},
     "output_type": "execute_result"
    }
   ],
   "source": [
    "kadinlar = {\"Ayşe\",\"Fatma\"}\n",
    "#erkekler = {\"Ali\",\"Veli\",kadinlar} #HATA!!! set mutable olduğu için hata verir. elementler immutable olmalıdır.\n",
    "\n",
    "#\n",
    "erkekler = {\"Ali\",\"Veli\",frozenset(kadinlar)} #doğru kullanım.\n",
    "\n",
    "erkekler"
   ]
  },
  {
   "cell_type": "code",
   "execution_count": null,
   "metadata": {},
   "outputs": [],
   "source": []
  }
 ],
 "metadata": {
  "kernelspec": {
   "display_name": "Python 3",
   "language": "python",
   "name": "python3"
  },
  "language_info": {
   "codemirror_mode": {
    "name": "ipython",
    "version": 3
   },
   "file_extension": ".py",
   "mimetype": "text/x-python",
   "name": "python",
   "nbconvert_exporter": "python",
   "pygments_lexer": "ipython3",
   "version": "3.11.3"
  }
 },
 "nbformat": 4,
 "nbformat_minor": 2
}
