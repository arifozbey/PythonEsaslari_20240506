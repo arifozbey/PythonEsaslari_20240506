{
 "cells": [
  {
   "cell_type": "markdown",
   "metadata": {},
   "source": [
    "## Operatorler\n",
    "![Operatorler.png](Operatorler.png)"
   ]
  },
  {
   "cell_type": "markdown",
   "metadata": {},
   "source": [
    "### Arithmetic Operators\n",
    "* parentez ile işlem önceliği belirlenebilir."
   ]
  },
  {
   "cell_type": "code",
   "execution_count": 2,
   "metadata": {},
   "outputs": [
    {
     "data": {
      "text/plain": [
       "15.0"
      ]
     },
     "execution_count": 2,
     "metadata": {},
     "output_type": "execute_result"
    }
   ],
   "source": [
    "8/2*(2+2)-1\n",
    "\n",
    "#önce parantez içi\n",
    "#çarpma ve bölme arasında öncelik yok. Soldan sağa işlem yapar.\n",
    "#sonrasında toplama ve çıkarma işlemi yapılır."
   ]
  },
  {
   "cell_type": "code",
   "execution_count": 5,
   "metadata": {},
   "outputs": [
    {
     "name": "stdout",
     "output_type": "stream",
     "text": [
      "Hakedişiniz 24500.0 TL'dir.\n"
     ]
    }
   ],
   "source": [
    "#soru:\n",
    "'''\n",
    "    Haftalık çalışma saati verilen bir kişinin hakedişini hesaplayalım.\n",
    "    - min 40 saat çalıştığı varsayılsın.\n",
    "    - 40 saat üzeri çalışırsa saatlik ücretin 1.5 katı ile değerlendirilsin.\n",
    "    - saatlik ücret değiştirilebilir olsun.\n",
    "'''\n",
    "saatlik_ucret = 350\n",
    "toplam_saat = 60\n",
    "\n",
    "#\n",
    "hakedis = 40 * saatlik_ucret + (toplam_saat - 40) * (saatlik_ucret * 1.5)\n",
    "\n",
    "print(\"Hakedişiniz\",hakedis,\"TL'dir.\")\n"
   ]
  },
  {
   "cell_type": "code",
   "execution_count": 7,
   "metadata": {},
   "outputs": [
    {
     "name": "stdout",
     "output_type": "stream",
     "text": [
      "hipotenüs: 17.0\n"
     ]
    }
   ],
   "source": [
    "#soru:\n",
    "'''\n",
    "    iki dik kenarı verilen ücgenin hipotenüsünü hesaplayalım.\n",
    "    h^2 = x^2 + y^2\n",
    "    h = ?\n",
    "'''\n",
    "x = 8\n",
    "y = 15\n",
    "\n",
    "h = (x**2 + y**2)**0.5 #pow, math.pow, math.sqrt\n",
    "\n",
    "print(\"hipotenüs:\",h)"
   ]
  },
  {
   "cell_type": "markdown",
   "metadata": {},
   "source": [
    "* $h^2 = x^2 + y^2$\n",
    "* $h = \\sqrt{x^2 + y^2}$"
   ]
  },
  {
   "cell_type": "code",
   "execution_count": 13,
   "metadata": {},
   "outputs": [
    {
     "name": "stdout",
     "output_type": "stream",
     "text": [
      "56 aylık bebek 4 yıl 8 aydır yaşamaktadır.\n"
     ]
    }
   ],
   "source": [
    "#soru:\n",
    "'''\n",
    "    Ay olarak yaşı verilen bebeğin yıl ve ay olarak yaşınını yazdıralım.\n",
    "    56 aylık bir bebek doğalı 4 yıl 8 ay olmuş.\n",
    "'''\n",
    "kacAylik = 56\n",
    "\n",
    "#\n",
    "yil = kacAylik // 12 #// bölme işleminden sonra tam sayı döner.\n",
    "ay = kacAylik % 12\n",
    "\n",
    "print(kacAylik,\"aylık bebek\",yil,\"yıl\",ay,\"aydır yaşamaktadır.\")"
   ]
  },
  {
   "cell_type": "markdown",
   "metadata": {},
   "source": [
    "### Assigment"
   ]
  },
  {
   "cell_type": "code",
   "execution_count": 15,
   "metadata": {},
   "outputs": [
    {
     "name": "stdout",
     "output_type": "stream",
     "text": [
      "1 2 3\n"
     ]
    }
   ],
   "source": [
    "# klasik atama \n",
    "x = 1\n",
    "\n",
    "#zincir atama\n",
    "x = y = 1\n",
    "\n",
    "#unpacking (değer ile değişken deseni aynı ise değeler sırasıyla atanır.)\n",
    "x,y,z = 1,2,3\n",
    "\n",
    "\n",
    "print(x,y,z)"
   ]
  },
  {
   "cell_type": "code",
   "execution_count": 19,
   "metadata": {},
   "outputs": [
    {
     "data": {
      "text/plain": [
       "6"
      ]
     },
     "execution_count": 19,
     "metadata": {},
     "output_type": "execute_result"
    }
   ],
   "source": [
    "# cumulative atamalar\n",
    "x = 1\n",
    "\n",
    "#\n",
    "#x = x+1 #x'in öncek ideğerine 1 ekledik.\n",
    "x += 1 #x = x + 1\n",
    "\n",
    "#\n",
    "x *= 3 #x = x * 3\n",
    "\n",
    "\n",
    "#\n",
    "x"
   ]
  },
  {
   "cell_type": "markdown",
   "metadata": {},
   "source": [
    "### Comparison \n",
    "* geriye True ya da False döner. "
   ]
  },
  {
   "cell_type": "code",
   "execution_count": 21,
   "metadata": {},
   "outputs": [
    {
     "data": {
      "text/plain": [
       "True"
      ]
     },
     "execution_count": 21,
     "metadata": {},
     "output_type": "execute_result"
    }
   ],
   "source": [
    "#örn: x sayısı çiftmi?\n",
    "x = 12\n",
    "\n",
    "x %2 == 0 #çift ise True, değilse False döner.\n",
    "#== ile eşit midir? diye sorduk. == karşılaştırma, = atama işlemidir."
   ]
  },
  {
   "cell_type": "code",
   "execution_count": 25,
   "metadata": {},
   "outputs": [
    {
     "data": {
      "text/plain": [
       "False"
      ]
     },
     "execution_count": 25,
     "metadata": {},
     "output_type": "execute_result"
    }
   ],
   "source": [
    "degisken =\"metin\"\n",
    "\n",
    "#tipi str mi?\n",
    "type(degisken) == str\n",
    "\n",
    "#\n",
    "isinstance(degisken,str) #True\n",
    "isinstance(degisken,(float,int)) #False"
   ]
  },
  {
   "cell_type": "markdown",
   "metadata": {},
   "source": [
    "### Logical\n",
    "* Geriye True ya da False döner.\n",
    "* `and`: her iki taraftaki değer True üretise sonuç True olur.\n",
    "* `or`: en az bir taraftaki değer True üretise sonuç True olur.\n",
    "* `not(mantiksalŞart)` : mantıksal şartın tersini alır.\n"
   ]
  },
  {
   "cell_type": "code",
   "execution_count": 29,
   "metadata": {},
   "outputs": [
    {
     "data": {
      "text/plain": [
       "True"
      ]
     },
     "execution_count": 29,
     "metadata": {},
     "output_type": "execute_result"
    }
   ],
   "source": [
    "#örn:\n",
    "kadi = \"admin\"\n",
    "sifre = \"1234\"\n",
    "\n",
    "#\n",
    "kadi==\"admin\" and sifre == \"1234\" #True\n",
    "\n",
    "#\n",
    "# bir şeyin tersinin tersi kendisidir. yukarıdakin aynısını yazabilir.\n",
    "not(kadi != \"admin\" or sifre != \"1234\")"
   ]
  },
  {
   "cell_type": "markdown",
   "metadata": {},
   "source": [
    "### Identity\n",
    "* `id()` ile momorydeki adresi elde ederiz.\n",
    "* `is` nesneler aynı mı?\n",
    "* `is not` farklı mı?"
   ]
  },
  {
   "cell_type": "code",
   "execution_count": 32,
   "metadata": {},
   "outputs": [
    {
     "name": "stdout",
     "output_type": "stream",
     "text": [
      "140708605256488 140708605256488\n",
      "140708605256488 140708605256552\n",
      "False\n"
     ]
    }
   ],
   "source": [
    "a = 1\n",
    "b = a\n",
    "\n",
    "print(id(a),id(b))\n",
    "b = 3\n",
    "print(id(a),id(b))\n",
    "\n",
    "#\n",
    "print(a is b) #False"
   ]
  },
  {
   "cell_type": "markdown",
   "metadata": {},
   "source": [
    "### Membership\n",
    "* `in` üyesi mi?\n",
    "* `not in`: üyesi değil mi?"
   ]
  },
  {
   "cell_type": "code",
   "execution_count": 35,
   "metadata": {},
   "outputs": [
    {
     "data": {
      "text/plain": [
       "False"
      ]
     },
     "execution_count": 35,
     "metadata": {},
     "output_type": "execute_result"
    }
   ],
   "source": [
    "\"m\" in \"merhaba\" #str container tiptir. elemanları karakterlerdir. #True\n",
    "\n",
    "#\n",
    "1000 in [1,2,3] #False"
   ]
  },
  {
   "cell_type": "code",
   "execution_count": 38,
   "metadata": {},
   "outputs": [
    {
     "data": {
      "text/plain": [
       "False"
      ]
     },
     "execution_count": 38,
     "metadata": {},
     "output_type": "execute_result"
    }
   ],
   "source": [
    "#soru:\n",
    "'''\n",
    "    sqrt fonksiyonu __builtins__ nesneler içerisinde, yani gömülü nesneler içerisinde var mı?\n",
    "'''\n",
    "\"sqrt\" in dir(__builtins__) #False\n",
    "#math.sqrt var."
   ]
  },
  {
   "cell_type": "markdown",
   "metadata": {},
   "source": [
    "### Tip Dönüşümü\n",
    "![TipDonusu.png](TipDonusu.png)"
   ]
  },
  {
   "cell_type": "code",
   "execution_count": 40,
   "metadata": {},
   "outputs": [
    {
     "data": {
      "text/plain": [
       "2.23"
      ]
     },
     "execution_count": 40,
     "metadata": {},
     "output_type": "execute_result"
    }
   ],
   "source": [
    "#implicit\n",
    "1 + 1.23 #int + float = float"
   ]
  },
  {
   "cell_type": "code",
   "execution_count": 45,
   "metadata": {},
   "outputs": [
    {
     "data": {
      "text/plain": [
       "'1 kişi'"
      ]
     },
     "execution_count": 45,
     "metadata": {},
     "output_type": "execute_result"
    }
   ],
   "source": [
    "#explicit\n",
    "1+1 #+ operatorü sayılarda toplama işlemi yapar.\n",
    "\"bir\" + \"kişi\" #+ operatorü str de birleştirme işlemi yapar.\n",
    "\n",
    "#\n",
    "#1 + \"kişi\" ##HATA!! int ile str arasında + operatörü ile işlem yapılamaz.\n",
    "\n",
    "#\n",
    "#tip dönüşümü\n",
    "str(1) + \" kişi\" #1kişi\n",
    "#str ile 1 sayısını str tipine çevirdik."
   ]
  },
  {
   "cell_type": "markdown",
   "metadata": {},
   "source": [
    "### Container tiplerdeki dönüşüm\n",
    "* container tiplerin elemanı dönüşecek olan container tipin elemanı haline gelir."
   ]
  },
  {
   "cell_type": "code",
   "execution_count": 52,
   "metadata": {},
   "outputs": [
    {
     "data": {
      "text/plain": [
       "{'A', 'B', 'I', 'K', 'L'}"
      ]
     },
     "execution_count": 52,
     "metadata": {},
     "output_type": "execute_result"
    }
   ],
   "source": [
    "\n",
    "metin = \"KALABALIK\" #str container tiptir.\n",
    "\n",
    "\n",
    "#\n",
    "tuple(metin)\n",
    "list(metin)\n",
    "set(metin)\n",
    "#dict(metin)  #key value istediği için ikilier halinde duran bir nesne verilmelidir."
   ]
  },
  {
   "cell_type": "code",
   "execution_count": 55,
   "metadata": {},
   "outputs": [
    {
     "data": {
      "text/plain": [
       "{'ad': 'ali', 'yas': 51}"
      ]
     },
     "execution_count": 55,
     "metadata": {},
     "output_type": "execute_result"
    }
   ],
   "source": [
    "lst = [(\"ad\",\"ali\"),(\"yas\",51)] #liste içerisinde tuplelar var.\n",
    "\n",
    "#lst\n",
    "dict(lst) #ikililerin ilki key, ikincisi valeu olarak kullanlır."
   ]
  },
  {
   "cell_type": "markdown",
   "metadata": {},
   "source": [
    "### Kullanıcıdan Deüer Almak için `input` fonksiyonu kullanılır."
   ]
  }
 ],
 "metadata": {
  "kernelspec": {
   "display_name": "Python 3",
   "language": "python",
   "name": "python3"
  },
  "language_info": {
   "codemirror_mode": {
    "name": "ipython",
    "version": 3
   },
   "file_extension": ".py",
   "mimetype": "text/x-python",
   "name": "python",
   "nbconvert_exporter": "python",
   "pygments_lexer": "ipython3",
   "version": "3.11.3"
  }
 },
 "nbformat": 4,
 "nbformat_minor": 2
}
