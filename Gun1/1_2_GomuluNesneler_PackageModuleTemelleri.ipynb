{
 "cells": [
  {
   "cell_type": "markdown",
   "id": "56247f73",
   "metadata": {},
   "source": [
    "## Package  / Module Kavramı Temelleri\n",
    "* Python kütüphanesi Package adı verilen klasorde py dosyalarında bulunan modullerden oluşmaktadır.\n",
    "* Python engine kurulduğnda standart kütüphaneler bilgisayara yükler. Yeni küyüphaneleri yüklemek için pip aracını kullanırız.\n",
    "* Python'ın dikkate aldığı yollara paketler elle kopyalanabilir.\n",
    "* Paketler yüklemek ve silmek için pip aracı komutları:\n",
    "```shell\n",
    "> pip install paketAdi\n",
    "> pip uninstall paketAdi\n",
    "```\n",
    "* Yüklü paketleri listelemek ve paket hakkında bilgi almak için\n",
    "```shell\n",
    "> pip list\n",
    "> pip show paketAdi\n",
    "```\n",
    "* Bilgisayarda yüklü olan paketleri çalışma ortamına almak için\n",
    "```python\n",
    "import paketAdi\n",
    "import paketAdi1, paketAdi2\n",
    "import paketAdi as takmaAd\n",
    "\n",
    "from paketAdi.module import module.module.nesne\n",
    "```\n",
    "**Not:**\n",
    "* ! ile notebook içerisinde termianl komutları çalıştırabiliriz.\n",
    "* `!pip install paketAdi` ile notebook içerisinden paket yükleyebiliriz ancak tavsiye edilmez.\n",
    "\n",
    "### Gömülü Nesneler\n",
    "* Çalışma ortamına paket import etmeden kullanılabilecek bazı nesneler var. Bunlara built-in (gömülü nesneler) denir."
   ]
  },
  {
   "cell_type": "code",
   "execution_count": 2,
   "id": "05d8345d",
   "metadata": {},
   "outputs": [
    {
     "data": {
      "text/plain": [
       "['ArithmeticError',\n",
       " 'AssertionError',\n",
       " 'AttributeError',\n",
       " 'BaseException',\n",
       " 'BaseExceptionGroup',\n",
       " 'BlockingIOError',\n",
       " 'BrokenPipeError',\n",
       " 'BufferError',\n",
       " 'BytesWarning',\n",
       " 'ChildProcessError',\n",
       " 'ConnectionAbortedError',\n",
       " 'ConnectionError',\n",
       " 'ConnectionRefusedError',\n",
       " 'ConnectionResetError',\n",
       " 'DeprecationWarning',\n",
       " 'EOFError',\n",
       " 'Ellipsis',\n",
       " 'EncodingWarning',\n",
       " 'EnvironmentError',\n",
       " 'Exception',\n",
       " 'ExceptionGroup',\n",
       " 'False',\n",
       " 'FileExistsError',\n",
       " 'FileNotFoundError',\n",
       " 'FloatingPointError',\n",
       " 'FutureWarning',\n",
       " 'GeneratorExit',\n",
       " 'IOError',\n",
       " 'ImportError',\n",
       " 'ImportWarning',\n",
       " 'IndentationError',\n",
       " 'IndexError',\n",
       " 'InterruptedError',\n",
       " 'IsADirectoryError',\n",
       " 'KeyError',\n",
       " 'KeyboardInterrupt',\n",
       " 'LookupError',\n",
       " 'MemoryError',\n",
       " 'ModuleNotFoundError',\n",
       " 'NameError',\n",
       " 'None',\n",
       " 'NotADirectoryError',\n",
       " 'NotImplemented',\n",
       " 'NotImplementedError',\n",
       " 'OSError',\n",
       " 'OverflowError',\n",
       " 'PendingDeprecationWarning',\n",
       " 'PermissionError',\n",
       " 'ProcessLookupError',\n",
       " 'RecursionError',\n",
       " 'ReferenceError',\n",
       " 'ResourceWarning',\n",
       " 'RuntimeError',\n",
       " 'RuntimeWarning',\n",
       " 'StopAsyncIteration',\n",
       " 'StopIteration',\n",
       " 'SyntaxError',\n",
       " 'SyntaxWarning',\n",
       " 'SystemError',\n",
       " 'SystemExit',\n",
       " 'TabError',\n",
       " 'TimeoutError',\n",
       " 'True',\n",
       " 'TypeError',\n",
       " 'UnboundLocalError',\n",
       " 'UnicodeDecodeError',\n",
       " 'UnicodeEncodeError',\n",
       " 'UnicodeError',\n",
       " 'UnicodeTranslateError',\n",
       " 'UnicodeWarning',\n",
       " 'UserWarning',\n",
       " 'ValueError',\n",
       " 'Warning',\n",
       " 'WindowsError',\n",
       " 'ZeroDivisionError',\n",
       " '__IPYTHON__',\n",
       " '__build_class__',\n",
       " '__debug__',\n",
       " '__doc__',\n",
       " '__import__',\n",
       " '__loader__',\n",
       " '__name__',\n",
       " '__package__',\n",
       " '__spec__',\n",
       " 'abs',\n",
       " 'aiter',\n",
       " 'all',\n",
       " 'anext',\n",
       " 'any',\n",
       " 'ascii',\n",
       " 'bin',\n",
       " 'bool',\n",
       " 'breakpoint',\n",
       " 'bytearray',\n",
       " 'bytes',\n",
       " 'callable',\n",
       " 'chr',\n",
       " 'classmethod',\n",
       " 'compile',\n",
       " 'complex',\n",
       " 'copyright',\n",
       " 'credits',\n",
       " 'delattr',\n",
       " 'dict',\n",
       " 'dir',\n",
       " 'display',\n",
       " 'divmod',\n",
       " 'enumerate',\n",
       " 'eval',\n",
       " 'exec',\n",
       " 'execfile',\n",
       " 'filter',\n",
       " 'float',\n",
       " 'format',\n",
       " 'frozenset',\n",
       " 'get_ipython',\n",
       " 'getattr',\n",
       " 'globals',\n",
       " 'hasattr',\n",
       " 'hash',\n",
       " 'help',\n",
       " 'hex',\n",
       " 'id',\n",
       " 'input',\n",
       " 'int',\n",
       " 'isinstance',\n",
       " 'issubclass',\n",
       " 'iter',\n",
       " 'len',\n",
       " 'license',\n",
       " 'list',\n",
       " 'locals',\n",
       " 'map',\n",
       " 'max',\n",
       " 'memoryview',\n",
       " 'min',\n",
       " 'next',\n",
       " 'object',\n",
       " 'oct',\n",
       " 'open',\n",
       " 'ord',\n",
       " 'pow',\n",
       " 'print',\n",
       " 'property',\n",
       " 'range',\n",
       " 'repr',\n",
       " 'reversed',\n",
       " 'round',\n",
       " 'runfile',\n",
       " 'set',\n",
       " 'setattr',\n",
       " 'slice',\n",
       " 'sorted',\n",
       " 'staticmethod',\n",
       " 'str',\n",
       " 'sum',\n",
       " 'super',\n",
       " 'tuple',\n",
       " 'type',\n",
       " 'vars',\n",
       " 'zip']"
      ]
     },
     "execution_count": 2,
     "metadata": {},
     "output_type": "execute_result"
    }
   ],
   "source": [
    "# gömülü nesneler __builtins__ module içerinde yer alır.\n",
    "__builtins__ #module\n",
    "\n",
    "#dir ile bir nesnenin attributelerini listeleriz.\n",
    "dir(__builtins__)\n",
    "\n",
    "# print, dir, help, exit, int, float, bool, str, input, pow vs. gömülü nesnelerdendir."
   ]
  },
  {
   "cell_type": "code",
   "execution_count": 3,
   "id": "023c7261",
   "metadata": {},
   "outputs": [
    {
     "name": "stdout",
     "output_type": "stream",
     "text": [
      "Help on built-in function pow in module builtins:\n",
      "\n",
      "pow(base, exp, mod=None)\n",
      "    Equivalent to base**exp with 2 arguments or base**exp % mod with 3 arguments\n",
      "    \n",
      "    Some types, such as ints, are able to use a more efficient algorithm when\n",
      "    invoked using the three argument form.\n",
      "\n"
     ]
    }
   ],
   "source": [
    "help(pow)"
   ]
  },
  {
   "cell_type": "code",
   "execution_count": 4,
   "id": "e72bfb10",
   "metadata": {
    "scrolled": true
   },
   "outputs": [
    {
     "data": {
      "text/plain": [
       "9"
      ]
     },
     "execution_count": 4,
     "metadata": {},
     "output_type": "execute_result"
    }
   ],
   "source": [
    "pow(3,2)"
   ]
  },
  {
   "cell_type": "markdown",
   "id": "b22a144b",
   "metadata": {},
   "source": [
    "### Bilgiyarda var olan paketi çalışma ortamına alalım"
   ]
  },
  {
   "cell_type": "code",
   "execution_count": 12,
   "id": "24a3d88a",
   "metadata": {},
   "outputs": [
    {
     "data": {
      "text/plain": [
       "9.0"
      ]
     },
     "execution_count": 12,
     "metadata": {},
     "output_type": "execute_result"
    }
   ],
   "source": [
    "#standart kütüphaneler arasındadır.\n",
    "import math\n",
    "\n",
    "#nesneler hakkında bilgi almak dir kullanırız.\n",
    "dir(math)\n",
    "#help(math)\n",
    "#help(math.pow)\n",
    "\n",
    "#\n",
    "math.pi\n",
    "math.pow(3,2) #gömülü nesneler arasında pow, bu math.pow"
   ]
  },
  {
   "cell_type": "code",
   "execution_count": 22,
   "id": "1690864f",
   "metadata": {},
   "outputs": [
    {
     "name": "stderr",
     "output_type": "stream",
     "text": [
      "A subdirectory or file gordugundeSil2 already exists.\n"
     ]
    }
   ],
   "source": [
    "import os #işletim sistemi odaklı işleri barındıran kütüphanedir.\n",
    "\n",
    "#\n",
    "os.makedirs(\"gordugundeSil\", exist_ok=True) #exist_ok=True olduğunda yol varsa hata vermez.\n",
    "\n",
    "#! ile cmd komutları çalıştırılabilir.\n",
    "!mkdir gordugundeSil2 "
   ]
  },
  {
   "cell_type": "code",
   "execution_count": 24,
   "id": "26dd46b4",
   "metadata": {},
   "outputs": [
    {
     "name": "stdout",
     "output_type": "stream",
     "text": [
      "C:\\Users\\Abdullah\\Documents\\GitHub\\PythonEsaslari_20240506\\Gun1\n"
     ]
    }
   ],
   "source": [
    "#çalışma yolu\n",
    "os.getcwdb()\n",
    "\n",
    "#!\n",
    "!cd\n",
    "#pwd #linux"
   ]
  },
  {
   "cell_type": "markdown",
   "id": "df2a588c",
   "metadata": {},
   "source": [
    "### Paket indirmek ve çalışma ortamına almak"
   ]
  },
  {
   "cell_type": "code",
   "execution_count": 25,
   "id": "98ab967e",
   "metadata": {},
   "outputs": [
    {
     "name": "stdout",
     "output_type": "stream",
     "text": [
      "Collecting emoji\n",
      "  Using cached emoji-2.11.1-py2.py3-none-any.whl.metadata (5.3 kB)\n",
      "Using cached emoji-2.11.1-py2.py3-none-any.whl (433 kB)\n",
      "Installing collected packages: emoji\n",
      "Successfully installed emoji-2.11.1\n"
     ]
    }
   ],
   "source": [
    "#öncelikle paketi repositoryden indirip yükleyelim.\n",
    "!pip install emoji #yüklemeleri notebook içerisinde yapmayalım."
   ]
  },
  {
   "cell_type": "code",
   "execution_count": 31,
   "id": "b3df1ad9",
   "metadata": {},
   "outputs": [
    {
     "name": "stdout",
     "output_type": "stream",
     "text": [
      "Python is fun ❤️\n"
     ]
    }
   ],
   "source": [
    "import emoji as em #takma ad.\n",
    "\n",
    "#\n",
    "#dir(emoji) #HATA!!! emoji paketi em olarak kısaltıldı.\n",
    "dir(em)\n",
    "\n",
    "#\n",
    "#help(em)\n",
    "\n",
    "#\n",
    "#help(em.emojize)\n",
    "print(em.emojize(\"Python is fun :red_heart:\", variant=\"emoji_type\"))"
   ]
  }
 ],
 "metadata": {
  "kernelspec": {
   "display_name": "Python 3 (ipykernel)",
   "language": "python",
   "name": "python3"
  },
  "language_info": {
   "codemirror_mode": {
    "name": "ipython",
    "version": 3
   },
   "file_extension": ".py",
   "mimetype": "text/x-python",
   "name": "python",
   "nbconvert_exporter": "python",
   "pygments_lexer": "ipython3",
   "version": "3.11.3"
  },
  "toc": {
   "base_numbering": 1,
   "nav_menu": {},
   "number_sections": true,
   "sideBar": true,
   "skip_h1_title": false,
   "title_cell": "Table of Contents",
   "title_sidebar": "Contents",
   "toc_cell": false,
   "toc_position": {},
   "toc_section_display": true,
   "toc_window_display": false
  },
  "varInspector": {
   "cols": {
    "lenName": 16,
    "lenType": 16,
    "lenVar": 40
   },
   "kernels_config": {
    "python": {
     "delete_cmd_postfix": "",
     "delete_cmd_prefix": "del ",
     "library": "var_list.py",
     "varRefreshCmd": "print(var_dic_list())"
    },
    "r": {
     "delete_cmd_postfix": ") ",
     "delete_cmd_prefix": "rm(",
     "library": "var_list.r",
     "varRefreshCmd": "cat(var_dic_list()) "
    }
   },
   "types_to_exclude": [
    "module",
    "function",
    "builtin_function_or_method",
    "instance",
    "_Feature"
   ],
   "window_display": false
  }
 },
 "nbformat": 4,
 "nbformat_minor": 5
}
