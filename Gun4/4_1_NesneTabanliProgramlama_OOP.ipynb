{
 "cells": [
  {
   "cell_type": "markdown",
   "metadata": {},
   "source": [
    "## Nesne Tabanlı Programlama\n",
    "### Giriş:\n",
    "* Nesne tabanlı programlama (OOP), programlamada kullanılan bir paradigmadır. \n",
    "  * Bu paradigma, programcıların programları oluştururken, programdaki her bir nesneyi tanımlamalarına ve bu nesneler arasındaki ilişkileri belirlemelerine dayanır.\n",
    "* Her şey bir Object (Nesne) olarak düşünülür.\n",
    "  * **Class** (Sınıf) adı verilen bir **şablon** oluşturulur ve bu şablona göre nesneler oluşturulur.\n",
    "  * Mesela Personel adında bir sınıf oluşturulabilir ve bu sınıfa göre birçok personel nesnesi oluşturulabilir. Buna nesne örneği (**instance**) denir.\n",
    "    * Örneğin: Öğretmen, güvenlik görevlisi, sekreter, müdür gibi.\n",
    "    * Personel tipinin özellikleri class içerisinde değişkenlerle tanımlanır. Bunlara **Attribute** ve/veya **Property** denir.\n",
    "    * Personelin yapabileceği işlemler ise class içerisinde fonksiyonlarla tanımlanır. Bunlara **Method** denir.\n",
    "    * Nesnelerin özellik ve işlevleri gizli olabilir.\n",
    "* Nesneler birbirinden **kalıtılabilir**. Yani bazı özellikleri ve işlevleri miras alabilirler.\n",
    "  * **Base Class** (temel sınıf), **Super Class** (üst sınıf)'tan miras aldığı şeyleri aynen kullanabilir veya farklı biçimlerde kullanabilir.\n",
    "  * Bir özelliğin sonraki nesillere geçmemesi için **protected** veya **private** yapılabilir.\n",
    "\n",
    "### OOP Yapı Taşları:\n",
    "* Nesne (Object)\n",
    "* Sınıflar (Class)\n",
    "* Yöntemler-Metotlar-Fonksiyonlar (Methods) \n",
    "* Özellikler (Attributes , Properties)\n",
    "\n",
    "### 4 Temel İlke:\n",
    "1. **Encapsulation (Kapsülleme):**\n",
    "   * Nesnelerin özelliklerini ve işlevlerini bir arada tutma.\n",
    "   * Nesnelerin iç yapısını gizleme.\n",
    "   * Nesnelerin dışarıdan erişilebilir olmasını sağlama.\n",
    "2. **Abstraction (Soyutlama):**\n",
    "    * Karmaşık bir sistemi basitleştirme.\n",
    "    * Sadece gerekli olan özellik ve işlevlerin gösterilmesi.\n",
    "3. **Inheritance (Kalıtım):**\n",
    "    * Bir sınıfın başka bir sınıftan özelliklerini ve işlevlerini miras alması.\n",
    "    * Kod tekrarını önler.\n",
    "4. **Polymorphism (Çok Biçimlilik):**\n",
    "    * Aynı isimde birden fazla fonksiyonun olması.\n",
    "    * Aynı isimdeki fonksiyonların farklı işlevler yapması.\n",
    "\n",
    "**Not:** \n",
    "  * Python nesne tabanlı programlama dili olarak bilinir.\n",
    "  * Fakat diğer programlama dillerinden farklı bazı yaklaşımlarla çalışan OOP araçlarına sahiptir. Mesela:\n",
    "    * Python'da **interface** yapısı yoktur. **abc** modülü kullanılabilir.\n",
    "    * Enum yapısı yoktur. **enum** modülü kullanılabilir.\n",
    "    * **@property** decorator'ı kullanılarak **getter** ve **setter** fonksiyonları tanımlanabilir.\n",
    "    * **@staticmethod** decorator'ı kullanılarak **static** metotlar tanımlanabilir.\n",
    "    * **@classmethod** decorator'ı kullanılarak **class** metotlar tanımlanabilir.\n",
    "    * **@abstractmethod** decorator'ı kullanılarak **abstract** metotlar tanımlanabilir.\n",
    "    * Pythonda private oluşturulamaz. Yapılan tanımlama sadece bir uyarıdır.\n",
    "  \n",
    "### Faydalı Linkler:\n",
    "* [What is object-oriented programming?](https://www.educative.io/blog/object-oriented-programming?eid=5082902844932096&utm_term=&hsa_grp=&hsa_ad=&hsa_tgt=&hsa_kw=&hsa_mt=)\n",
    "* [Object-Oriented Programming (OOP) in Python 3](https://realpython.com/python3-object-oriented-programming/)\n",
    "* [Implementing an Interface in Python](https://realpython.com/python-interface/)\n",
    "* [enum in Python](https://www.geeksforgeeks.org/enum-in-python/)\n",
    "---\n",
    "---\n",
    "\n",
    "### `Class`, `Atribute`, `Method`, `Property` Nesneleri\n",
    "* Dışarıdan erişim bakımından `public` / `private` olarak tanımlanması.\n",
    "  * **public** : Dışarıdan erişilebilir.\n",
    "  * **private** : Dışarıdan erişilemez. Sadece sınıf içerisinden erişilebilir. şu şekilde tanımlanır: `__attributeName` veya `__methodName()` (*iki alt çizgi ile başlar*).\n",
    "  * **protected** : Sadece miras alan sınıflardan erişilebilir. şu şekilde tanımlanır: `_attributeName` veya `_methodName()` (*bir alt çizgi ile başlar*).  \n",
    "* Nesneye veya Örneğine ait olması bakımından `static (class)` ve `dynamic (instance)` olarak tanımlanması.\n",
    "  * **static (class) :** Sınıfın kendisine ait olan özellik ve metotlar. \n",
    "    * `ClassName.MethodName()` şeklinde çağrılır. \n",
    "    * Pythonda staticker örnek üzerinden de çağrılabilir. `ObjectName.MethodName()` şeklinde.\n",
    "    * Static attributeler class içerisinde tanımlanır ve `self` kelimesi kullanılmaz.\n",
    "    * Static metotlar `@staticmethod` decorator ile tanımlanır.\n",
    "  * **dynamic (instance) :** Sınıftan oluşturulan nesneye ait olan özellik ve metotlar. \n",
    "    * `ObjectName.MethodName()` şeklinde çağrılır.\n",
    "    * Dynamic attributeler `__init__` metodu içerisinde tanımlanır ve `self` kelimesi kullanılır.\n",
    "    * Dynamic metotlar class içerisinde tanımlanır ve `self` parametresi alır.\n",
    "    * İstenirse `@classmethod` decorator ile tanımlanabilir.\n",
    "**Not:** \n",
    "  * Pythonda `self` kelimesi, sınıfın kendisini temsil eder.\n",
    "  * Pythonda `super()` fonksiyonu, miras alınan sınıfın metotlarını çağırmak için kullanılır.\n",
    "  * Pythonda `__init__` metodu, sınıfın yapıcı metodu olarak adlandırılır ve sınıf oluşturulduğunda otomatik olarak çalışır.\n",
    "  * Pythonda `__str__` metodu, sınıfın string olarak temsil edilmesini sağlar. `print(ObjectName)` şeklinde çağrılabilir.\n",
    "  * Pythonda `__del__` metodu, sınıfın silinmesi durumunda çalışır.\n",
    "  * Pythonda `__doc__` metodu, sınıfın belgelerini döndürür.\n",
    "  * Private oluşturmak için `_attributeName` veya `_methodName()` şeklinde tanımlanır. Fakat bu sadece bir uyarıdır. Python'da private oluşturulamaz."
   ]
  },
  {
   "cell_type": "markdown",
   "metadata": {},
   "source": [
    "---\n",
    "#### Seviye 1 ####\n",
    "---"
   ]
  },
  {
   "cell_type": "code",
   "execution_count": 7,
   "metadata": {},
   "outputs": [],
   "source": [
    "# araba iskeleli/form/şablon/ tipi tanımlayalım\n",
    "class araba:\n",
    "    #attribute\n",
    "    #public attribute: yani class dışından erişilebilir.\n",
    "    marka = \"Audi\"\n",
    "    model = None\n",
    "    yil   = None"
   ]
  },
  {
   "cell_type": "code",
   "execution_count": 8,
   "metadata": {},
   "outputs": [
    {
     "name": "stdout",
     "output_type": "stream",
     "text": [
      "Marka: Audi\n",
      "Model: A1\n",
      "Yıl: 2019\n",
      "\n"
     ]
    }
   ],
   "source": [
    "#print(type(araba)) #print(type(araba))\n",
    "\n",
    "#a1 nesne örneğidir.\n",
    "a1 = araba() #() yapıcı - constructor methodunu çağırır. Şuan bunla aralaklı bir şey yapmadık. aşağıda yapacağız.\n",
    "\n",
    "#public üyelere erişelim\n",
    "a1.marka #varsayılan değerini kullanalım\n",
    "a1.model = \"A1\"\n",
    "a1.yil = 2019\n",
    "\n",
    "#Tüm bilgileri belli bir şablodan depolayabildik.\n",
    "print(\"Marka: {}\\nModel: {}\\nYıl: {}\\n\".format(a1.marka, a1.model, a1.yil))"
   ]
  },
  {
   "cell_type": "markdown",
   "metadata": {},
   "source": [
    "---\n",
    "#### Seviye 2 ####\n",
    "---"
   ]
  },
  {
   "cell_type": "code",
   "execution_count": 9,
   "metadata": {},
   "outputs": [],
   "source": [
    "# araba iskeleli/form/şablon/ tipi tanımlayalım\n",
    "class araba:\n",
    "    #attribute\n",
    "    #public attribute: yani class dışından erişilebilir.\n",
    "    marka = \"Audi\"\n",
    "    model = None\n",
    "    yil   = None\n",
    "\n",
    "    #----------\n",
    "    #self ifadesi zorunludur. O anki nesne örneğini temsil ediyor.\n",
    "    def sur(self, kilometre):\n",
    "        print(\"{} marka {} model araba {} km için yola çıkıyor.\".format(self.marka, self.model, kilometre))\n",
    "\n",
    "        #yavaşlatalım.\n",
    "        import time\n",
    "\n",
    "        for i in range(kilometre):\n",
    "            time.sleep(0.5) #0.5 sn bekle\n",
    "            print(f\"---> Vı{'n'*i}\")"
   ]
  },
  {
   "cell_type": "code",
   "execution_count": 10,
   "metadata": {},
   "outputs": [
    {
     "name": "stdout",
     "output_type": "stream",
     "text": [
      "Audi marka A2 model araba 5 km için yola çıkıyor.\n",
      "---> Vı\n",
      "---> Vın\n",
      "---> Vınn\n",
      "---> Vınnn\n",
      "---> Vınnnn\n"
     ]
    }
   ],
   "source": [
    "a2 = araba()\n",
    "\n",
    "#\n",
    "a2.marka\n",
    "a2.model = \"A2\"\n",
    "a2.yil = 2020\n",
    "\n",
    "#\n",
    "a2.sur(5)"
   ]
  },
  {
   "cell_type": "markdown",
   "metadata": {},
   "source": [
    "---\n",
    "#### Seviye 3 ####\n",
    "---"
   ]
  },
  {
   "cell_type": "code",
   "execution_count": 11,
   "metadata": {},
   "outputs": [],
   "source": [
    "# araba iskeleli/form/şablon/ tipi tanımlayalım\n",
    "class araba:\n",
    "    \n",
    "    \"\"\" \n",
    "        Üyelere className.Name veya obectName.Name şeklinde erişilebilir. \n",
    "            * static üyeler: class üyeleridir. Pythonda static üyelere her iki şekilde de erişilebilir.\n",
    "                - tanımında self ifadesi geçmez.\n",
    "            * instance üyeler: nesne üyeleridir. Pythonda instance üyelere sadece objectName.Name şeklinde erişilebilir.\n",
    "                - tanımında self ifadesi geçer.\n",
    "    \"\"\"\n",
    "    #--------------------------------------------------------\n",
    "    \"\"\" \n",
    "        Class seviyesinde tanımlanmıştır. Class'a aittir.\n",
    "            static'tir\n",
    "            public'tir \n",
    "    \"\"\"\n",
    "\n",
    "    #attribute\n",
    "    #public attribute: yani class dışından erişilebilir.\n",
    "    marka = \"Audi\"\n",
    "    model = None\n",
    "    yil   = None\n",
    "    #--------------------------------------------------------\n",
    "    \"\"\" \n",
    "        static (class) üye class seviyesinde tanımlanmıştır. Class'a aittir.\n",
    "            static'tir\n",
    "            private'tır \n",
    "    \"\"\"\n",
    "    #private üyeleri tanımlamak için __ kullanırız. private üyeler class içerisinde kullanılmak üzere tanımlanır.\n",
    "    #pythonda aslında her şey publictir. Bu sadece bilgi amaçlıdır.\n",
    "    __uretilenAracSayisi = 0 # amacımız her nesne örneğinde yapıcı fonksiyon yardımıyla bu sayıyı arttırmak.\n",
    "\n",
    "    #----------\n",
    "    #self ifadesi zorunludur. O anki nesne örneğini temsil ediyor.\n",
    "    def sur(self, kilometre):\n",
    "        print(\"{} marka {} model araba {} km için yola çıkıyor.\".format(self.marka, self.model, kilometre))\n",
    "\n",
    "        #yavaşlatalım.\n",
    "        import time\n",
    "\n",
    "        for i in range(kilometre):\n",
    "            time.sleep(0.5) #0.5 sn bekle\n",
    "            print(f\"---> Vı{'n'*i}\")\n",
    "\n",
    "\n",
    "    #--------------------------------------------\n",
    "    #constructor\n",
    "    def __init__(self, Marka=\"Audi\",Model = None, Yil = 2024, Renk=None):\n",
    "        self.marka = Marka\n",
    "        self.model = Model\n",
    "        self.yil = Yil\n",
    "        #------------\n",
    "        \"\"\" \n",
    "         dynamic(Instance) üyeleri tanımlamak için self kullanırız. Nesne örneğine aittir.\n",
    "         \n",
    "        \"\"\"\n",
    "        self.renk = Renk #bu değişken burada tanımlanmıştır. Bu nedenle instance üyesidir.\n",
    "\n",
    "        #private üyeyi arttıralım.\n",
    "        araba.__uretilenAracSayisi += 1 #static (class) ve private üyedir.\n",
    "    \n",
    "    #--------------------------------------------\n",
    "    @staticmethod #decorator sayesinde static method tanımlamış olduk.\n",
    "    def kacAracUretildi():\n",
    "        return araba.__uretilenAracSayisi\n",
    "\n",
    "    #--------------------------------------------------------\n",
    "    def __str__(self) -> str:\n",
    "        return \"{} marka {} model araba {} yılında üretilmiştir.\".format(self.marka, self.model, self.yil)\n",
    "    #--------------------------------------------------------\n",
    "    def __del__(self) -> None:\n",
    "        araba.__uretilenAracSayisi -=1 #her araba nesnesi silindiğinde sayıyı azaltalım.\n"
   ]
  },
  {
   "cell_type": "code",
   "execution_count": 12,
   "metadata": {},
   "outputs": [
    {
     "data": {
      "text/plain": [
       "1"
      ]
     },
     "execution_count": 12,
     "metadata": {},
     "output_type": "execute_result"
    }
   ],
   "source": [
    "a3 = araba(Model = \"A3\", Renk=\"Siyah\")\n",
    "#\n",
    "#a3.sur(3)\n",
    "\n",
    "#\n",
    "#araba.__uretilenAracSayisi #hata!!! private olduğu için erişilemez.\n",
    "araba.kacAracUretildi()\n",
    "a3.kacAracUretildi()\n",
    "#NOT: Pythonda static üyeler aslında class'a aittir. fakat class veya nesne örneği üzerinden erişilebilir."
   ]
  },
  {
   "cell_type": "code",
   "execution_count": 13,
   "metadata": {},
   "outputs": [
    {
     "name": "stdout",
     "output_type": "stream",
     "text": [
      "Audi marka A3 model araba 2024 yılında üretilmiştir.\n"
     ]
    }
   ],
   "source": [
    "#print(a3) #<__main__.araba object at 0x00000258A106F990>\n",
    "\n",
    "#__str__ metodu tanımlayarak nesne örneğini yazdırabiliriz. Neyin yazdırılacağını belirleyebiliriz.\n",
    "print(a3)"
   ]
  },
  {
   "cell_type": "code",
   "execution_count": 14,
   "metadata": {},
   "outputs": [
    {
     "data": {
      "text/plain": [
       "2"
      ]
     },
     "execution_count": 14,
     "metadata": {},
     "output_type": "execute_result"
    }
   ],
   "source": [
    "#__del__ metotunda arac miktarını 1 azalttık.\n",
    "a4 = araba(Model = \"A4\", Renk=\"Beyaz\")\n",
    "\n",
    "#\n",
    "araba.kacAracUretildi()"
   ]
  },
  {
   "cell_type": "markdown",
   "metadata": {},
   "source": [
    "---\n",
    "#### Seviye 4 ####\n",
    "---"
   ]
  },
  {
   "cell_type": "code",
   "execution_count": 26,
   "metadata": {},
   "outputs": [],
   "source": [
    "# araba iskeleli/form/şablon/ tipi tanımlayalım\n",
    "class araba:\n",
    "    \n",
    "    \"\"\" \n",
    "        Üyelere className.Name veya obectName.Name şeklinde erişilebilir. \n",
    "            * static üyeler: class üyeleridir. Pythonda static üyelere her iki şekilde de erişilebilir.\n",
    "                - tanımında self ifadesi geçmez.\n",
    "            * instance üyeler: nesne üyeleridir. Pythonda instance üyelere sadece objectName.Name şeklinde erişilebilir.\n",
    "                - tanımında self ifadesi geçer.\n",
    "    \"\"\"\n",
    "    #--------------------------------------------------------\n",
    "    \"\"\" \n",
    "        Class seviyesinde tanımlanmıştır. Class'a aittir.\n",
    "            static'tir\n",
    "            public'tir \n",
    "    \"\"\"\n",
    "\n",
    "    #attribute\n",
    "    #public attribute: yani class dışından erişilebilir.\n",
    "    marka = \"Audi\"\n",
    "    model = None\n",
    "    yil   = None\n",
    "    #--------------------------------------------------------\n",
    "    \"\"\" \n",
    "        static (class) üye class seviyesinde tanımlanmıştır. Class'a aittir.\n",
    "            static'tir\n",
    "            private'tır \n",
    "    \"\"\"\n",
    "    #private üyeleri tanımlamak için __ kullanırız. private üyeler class içerisinde kullanılmak üzere tanımlanır.\n",
    "    #pythonda aslında her şey publictir. Bu sadece bilgi amaçlıdır.\n",
    "    __uretilenAracSayisi = 0 # amacımız her nesne örneğinde yapıcı fonksiyon yardımıyla bu sayıyı arttırmak.\n",
    "    #--------------------------------------------\n",
    "\n",
    "    #__enerjiSeviyesi=0 #static yaparsak tüm araçları deposu ortak gibi olur. dynamic yapmalıyız. __init__ içine self.__enerjiSeviyesi olarak ekleyelim\n",
    "    __enerjiTipi = \"\"\n",
    "    __enerjiKapasitesi = 0\n",
    "\n",
    "    #--------------------------------------------\n",
    "    #self ifadesi zorunludur. O anki nesne örneğini temsil ediyor.\n",
    "    def sur(self, kilometre):\n",
    "        print(\"{} marka {} model araba {} km için yola çıkıyor.\".format(self.marka, self.model, kilometre))\n",
    "\n",
    "        #yavaşlatalım.\n",
    "        import time\n",
    "\n",
    "        for i in range(kilometre):\n",
    "            time.sleep(0.5) #0.5 sn bekle\n",
    "            print(f\"---> Vı{'n'*i}\")\n",
    "\n",
    "\n",
    "    #--------------------------------------------\n",
    "    #constructor\n",
    "    def __init__(self, Marka=\"Audi\",Model = None, Yil = 2024, Renk=None):\n",
    "        self.marka = Marka\n",
    "        self.model = Model\n",
    "        self.yil = Yil\n",
    "        #\n",
    "        self.__enerjiSeviyesi=0 #private ve dynamic(instance) üyedir.\n",
    "        #------------\n",
    "        \"\"\" \n",
    "         dynamic(Instance) üyeleri tanımlamak için self kullanırız. Nesne örneğine aittir.\n",
    "         \n",
    "        \"\"\"\n",
    "        self.renk = Renk #bu değişken burada tanımlanmıştır. Bu nedenle instance üyesidir.\n",
    "\n",
    "        #private üyeyi arttıralım.\n",
    "        araba.__uretilenAracSayisi += 1 #static (class) ve private üyedir.\n",
    "    \n",
    "    #--------------------------------------------\n",
    "    @staticmethod #decorator sayesinde static method tanımlamış olduk.\n",
    "    def kacAracUretildi():\n",
    "        return araba.__uretilenAracSayisi\n",
    "\n",
    "    #--------------------------------------------------------\n",
    "    def __str__(self) -> str:\n",
    "        return \"{} marka {} model araba {} yılında üretilmiştir.\".format(self.marka, self.model, self.yil)\n",
    "    #--------------------------------------------------------\n",
    "    def __del__(self) -> None:\n",
    "        araba.__uretilenAracSayisi -=1 #her araba nesnesi silindiğinde sayıyı azaltalım.\n",
    "\n",
    "    #--------------------------------------------------------\n",
    "    def enerji(self, **enrj):\n",
    "        self.__enerjiTipi = \"~\" + enrj.get(\"tip\", \"Benzin\")\n",
    "        self.__enerjiKapasitesi = enrj.get(\"kapasite\", 50)\n",
    "\n",
    "    def enerjiDoldur(self, miktar):\n",
    "        print(f\"{self.__enerjiTipi} doluyor...\")\n",
    "\n",
    "        #\n",
    "        import time\n",
    "        time.sleep(3)\n",
    "\n",
    "        #\n",
    "        self.__enerjiSeviyesi += miktar #daha önce tanımlanmayan nesne örneğine ait dynamic üyedir.\n",
    "        \n",
    "        #\n",
    "        if self.__enerjiSeviyesi >= self.__enerjiKapasitesi:\n",
    "            print(f\"{self.__enerjiTipi} Full....\")\n",
    "\n",
    "            self.__enerjiSeviyesi = self.__enerjiKapasitesi\n",
    "\n",
    "        #\n",
    "        print(f\"Dolumn tamamlandı..... {self.__enerjiSeviyesi}/{self.__enerjiKapasitesi}\")"
   ]
  },
  {
   "cell_type": "code",
   "execution_count": 27,
   "metadata": {},
   "outputs": [],
   "source": [
    "a5 = araba(Model = \"A5\", Renk=\"Gri\")\n",
    "a5.enerji(tip=\"Benzin\", kapasite=60)"
   ]
  },
  {
   "cell_type": "code",
   "execution_count": 31,
   "metadata": {},
   "outputs": [
    {
     "name": "stdout",
     "output_type": "stream",
     "text": [
      "~Benzin doluyor...\n",
      "~Benzin Full....\n",
      "Dolumn tamamlandı..... 60/60\n"
     ]
    }
   ],
   "source": [
    "a5.enerjiDoldur(20)"
   ]
  },
  {
   "cell_type": "markdown",
   "metadata": {},
   "source": [
    "---\n",
    "#### Seviye 5 : `Property` ile `get` ve `set` Kontolü ####\n",
    "---"
   ]
  },
  {
   "cell_type": "code",
   "execution_count": 42,
   "metadata": {},
   "outputs": [],
   "source": [
    "# araba iskeleli/form/şablon/ tipi tanımlayalım\n",
    "class araba:\n",
    "    \n",
    "    \"\"\" \n",
    "        Üyelere className.Name veya obectName.Name şeklinde erişilebilir. \n",
    "            * static üyeler: class üyeleridir. Pythonda static üyelere her iki şekilde de erişilebilir.\n",
    "                - tanımında self ifadesi geçmez.\n",
    "            * instance üyeler: nesne üyeleridir. Pythonda instance üyelere sadece objectName.Name şeklinde erişilebilir.\n",
    "                - tanımında self ifadesi geçer.\n",
    "    \"\"\"\n",
    "    #--------------------------------------------------------\n",
    "    \"\"\" \n",
    "        Class seviyesinde tanımlanmıştır. Class'a aittir.\n",
    "            static'tir\n",
    "            public'tir \n",
    "    \"\"\"\n",
    "\n",
    "    #attribute\n",
    "    #public attribute: yani class dışından erişilebilir.\n",
    "    marka = \"Audi\"\n",
    "    model = None\n",
    "    yil   = None\n",
    "    #--------------------------------------------------------\n",
    "    \"\"\" \n",
    "        static (class) üye class seviyesinde tanımlanmıştır. Class'a aittir.\n",
    "            static'tir\n",
    "            private'tır \n",
    "    \"\"\"\n",
    "    #private üyeleri tanımlamak için __ kullanırız. private üyeler class içerisinde kullanılmak üzere tanımlanır.\n",
    "    #pythonda aslında her şey publictir. Bu sadece bilgi amaçlıdır.\n",
    "    __uretilenAracSayisi = 0 # amacımız her nesne örneğinde yapıcı fonksiyon yardımıyla bu sayıyı arttırmak.\n",
    "    #--------------------------------------------\n",
    "\n",
    "    #__enerjiSeviyesi=0 #static yaparsak tüm araçları deposu ortak gibi olur. dynamic yapmalıyız. __init__ içine self.__enerjiSeviyesi olarak ekleyelim\n",
    "    __enerjiTipi = \"\"\n",
    "    __enerjiKapasitesi = 0\n",
    "    #--------------------------------------------\n",
    "    \"\"\" \n",
    "        property tanımlamak\n",
    "        property sayesinde bir attributee değer atama, okuma talebine bir fonksiyon yardımıyla müdehale edebiliriz.\n",
    "        bunun için attributei property(fget, fset, fdel, doc) fonksiyonu ile tanımlayabiliriz. buradaki parametrelerde müdehale için kullanılacak fonksiyondır.\n",
    "     \"\"\"\n",
    "    #fset fonksiyonu tanumlayalım.\n",
    "    def fset_ekOzellikler(self, ozellikler):\n",
    "        self.__ekOzelliklerListesi = [o.upper() for o in ozellikler] #gelen listedeki özelikleri büyük harfe çevirsin.\n",
    "        #self.__ekOzelliklerListesi dynamic ve private attribute __init__ içierisinde tanımlanmalıdır.\n",
    "    def fget_ekOzellikler(self):\n",
    "        return \"->\"+\"\\n->\".join(self.__ekOzelliklerListesi)\n",
    "    \n",
    "    #fget ve fset fonksiyonları ile property oluşturalım\n",
    "    ekOzellik = property(fget=fget_ekOzellikler, fset=fset_ekOzellikler)\n",
    "\n",
    "\n",
    "    #--------------------------------------------\n",
    "    #self ifadesi zorunludur. O anki nesne örneğini temsil ediyor.\n",
    "    def sur(self, kilometre):\n",
    "        print(\"{} marka {} model araba {} km için yola çıkıyor.\".format(self.marka, self.model, kilometre))\n",
    "\n",
    "        #yavaşlatalım.\n",
    "        import time\n",
    "\n",
    "        for i in range(kilometre):\n",
    "            time.sleep(0.5) #0.5 sn bekle\n",
    "            print(f\"---> Vı{'n'*i}\")\n",
    "\n",
    "\n",
    "    #--------------------------------------------\n",
    "    #constructor\n",
    "    def __init__(self, Marka=\"Audi\",Model = None, Yil = 2024, Renk=None):\n",
    "        self.marka = Marka\n",
    "        self.model = Model\n",
    "        self.yil = Yil\n",
    "        #\n",
    "        self.__enerjiSeviyesi=0 #private ve dynamic(instance) üyedir.\n",
    "        #\n",
    "        self.__ekOzelliklerListesi=\"\"\n",
    "\n",
    "        #------------\n",
    "        \"\"\" \n",
    "         dynamic(Instance) üyeleri tanımlamak için self kullanırız. Nesne örneğine aittir.\n",
    "         \n",
    "        \"\"\"\n",
    "        self.renk = Renk #bu değişken burada tanımlanmıştır. Bu nedenle instance üyesidir.\n",
    "\n",
    "        #private üyeyi arttıralım.\n",
    "        araba.__uretilenAracSayisi += 1 #static (class) ve private üyedir.\n",
    "    \n",
    "    #--------------------------------------------\n",
    "    @staticmethod #decorator sayesinde static method tanımlamış olduk.\n",
    "    def kacAracUretildi():\n",
    "        return araba.__uretilenAracSayisi\n",
    "\n",
    "    #--------------------------------------------------------\n",
    "    def __str__(self) -> str:\n",
    "        return \"{} marka {} model araba {} yılında üretilmiştir.\".format(self.marka, self.model, self.yil)\n",
    "    #--------------------------------------------------------\n",
    "    def __del__(self) -> None:\n",
    "        araba.__uretilenAracSayisi -=1 #her araba nesnesi silindiğinde sayıyı azaltalım.\n",
    "\n",
    "    #--------------------------------------------------------\n",
    "    def enerji(self, **enrj):\n",
    "        self.__enerjiTipi = \"~\" + enrj.get(\"tip\", \"Benzin\")\n",
    "        self.__enerjiKapasitesi = enrj.get(\"kapasite\", 50)\n",
    "\n",
    "    def enerjiDoldur(self, miktar):\n",
    "        print(f\"{self.__enerjiTipi} doluyor...\")\n",
    "\n",
    "        #\n",
    "        import time\n",
    "        time.sleep(3)\n",
    "\n",
    "        #\n",
    "        self.__enerjiSeviyesi += miktar #daha önce tanımlanmayan nesne örneğine ait dynamic üyedir.\n",
    "        \n",
    "        #\n",
    "        if self.__enerjiSeviyesi >= self.__enerjiKapasitesi:\n",
    "            print(f\"{self.__enerjiTipi} Full....\")\n",
    "\n",
    "            self.__enerjiSeviyesi = self.__enerjiKapasitesi\n",
    "\n",
    "        #\n",
    "        print(f\"Dolumn tamamlandı..... {self.__enerjiSeviyesi}/{self.__enerjiKapasitesi}\")"
   ]
  },
  {
   "cell_type": "code",
   "execution_count": 43,
   "metadata": {},
   "outputs": [],
   "source": [
    "a6 = araba(Model=\"A6\", Renk=\"Yeşil\")\n",
    "a6.enerji(tip=\"Dizel\", kapasite = 60)\n",
    "\n",
    "#\n",
    "#propertye değer atayalım fset fonksiyonu devreye girer.\n",
    "a6.ekOzellik = [\"Koltuk ısıtma\",\"Sunroof\",\"Navigasyon\"]"
   ]
  },
  {
   "cell_type": "code",
   "execution_count": 44,
   "metadata": {},
   "outputs": [
    {
     "name": "stdout",
     "output_type": "stream",
     "text": [
      "->KOLTUK ISITMA\n",
      "->SUNROOF\n",
      "->NAVIGASYON\n"
     ]
    }
   ],
   "source": [
    "print(a6.ekOzellik) #fget fonksiyonu devreye girecek."
   ]
  },
  {
   "cell_type": "markdown",
   "metadata": {},
   "source": [
    "---\n",
    "#### Seviye 6 : Kalıtım ####\n",
    "---"
   ]
  },
  {
   "cell_type": "code",
   "execution_count": 47,
   "metadata": {},
   "outputs": [],
   "source": [
    "class yerliMilliArac(araba): #(araba)  ile araba sınıfından kalıttık. Yani araba sınıfından her şeyi miras aldık. \n",
    "    #araba sınıfı super sınıf\n",
    "    #yerliMillArac base sınıf olarak isimlendirilir.\n",
    "    uretici = \"Türkiye\"\n",
    "    ekip = \"Mühendislerimiz\"\n",
    "\n",
    "    #super sınıftaki bir fonksiyonun davranışını değiştir. Dokunmasaydık orjinal halişyle çalışacaktı.\n",
    "    def enerji(self, **enrj):\n",
    "        #return super().enerji(**enrj)\n",
    "        return  super().enerji(tip=\"Elektrik\", kapasite=100) #doğuştan elektrikli.\n"
   ]
  },
  {
   "cell_type": "code",
   "execution_count": 49,
   "metadata": {},
   "outputs": [
    {
     "name": "stdout",
     "output_type": "stream",
     "text": [
      "Audi marka T1 model araba 2024 yılında üretilmiştir.\n"
     ]
    }
   ],
   "source": [
    "t1 = yerliMilliArac(Model=\"T1\", Renk=\"Kırmızı\")\n",
    "t1.ekOzellik = [\"Geniş Ekran\", \"Otomatik Sürüş\"]\n",
    "\n",
    "#\n",
    "#t1.enerji(tip=\"Elektrikli\", kapasite=100)\n",
    "t1.enerji()\n",
    "\n",
    "#\n",
    "print(t1)\n"
   ]
  },
  {
   "cell_type": "code",
   "execution_count": 50,
   "metadata": {},
   "outputs": [
    {
     "name": "stdout",
     "output_type": "stream",
     "text": [
      "~Elektrik doluyor...\n",
      "Dolumn tamamlandı..... 20/100\n"
     ]
    }
   ],
   "source": [
    "t1.enerjiDoldur(20)"
   ]
  },
  {
   "cell_type": "markdown",
   "metadata": {},
   "source": [
    "### Nesneler Hakkında Bilgi Alamak ve Sonradan Müdehale Etmek"
   ]
  },
  {
   "cell_type": "code",
   "execution_count": 51,
   "metadata": {},
   "outputs": [
    {
     "data": {
      "text/plain": [
       "True"
      ]
     },
     "execution_count": 51,
     "metadata": {},
     "output_type": "execute_result"
    }
   ],
   "source": [
    "issubclass(yerliMilliArac, araba) #alt sınıf mı? super olan araba, base (sub) olan yerliMilliArac"
   ]
  },
  {
   "cell_type": "code",
   "execution_count": 52,
   "metadata": {},
   "outputs": [
    {
     "data": {
      "text/plain": [
       "True"
      ]
     },
     "execution_count": 52,
     "metadata": {},
     "output_type": "execute_result"
    }
   ],
   "source": [
    "isinstance(t1,yerliMilliArac)  #nesne örneği mi?"
   ]
  }
 ],
 "metadata": {
  "kernelspec": {
   "display_name": "Python 3",
   "language": "python",
   "name": "python3"
  },
  "language_info": {
   "codemirror_mode": {
    "name": "ipython",
    "version": 3
   },
   "file_extension": ".py",
   "mimetype": "text/x-python",
   "name": "python",
   "nbconvert_exporter": "python",
   "pygments_lexer": "ipython3",
   "version": "3.11.3"
  }
 },
 "nbformat": 4,
 "nbformat_minor": 2
}
