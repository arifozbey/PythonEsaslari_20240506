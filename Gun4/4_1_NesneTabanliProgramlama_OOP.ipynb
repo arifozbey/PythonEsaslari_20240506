{
 "cells": [
  {
   "cell_type": "markdown",
   "metadata": {},
   "source": [
    "## Nesne Tabanlı Programlama\n",
    "### Giriş:\n",
    "* Nesne tabanlı programlama (OOP), programlamada kullanılan bir paradigmadır. \n",
    "  * Bu paradigma, programcıların programları oluştururken, programdaki her bir nesneyi tanımlamalarına ve bu nesneler arasındaki ilişkileri belirlemelerine dayanır.\n",
    "* Her şey bir Object (Nesne) olarak düşünülür.\n",
    "  * Class (Sınıf) adı verilen bir şablon oluşturulur ve bu şablona göre nesneler oluşturulur.\n",
    "  * Mesela Personel adında bir sınıf oluşturulabilir ve bu sınıfa göre birçok personel nesnesi oluşturulabilir.\n",
    "    * Örneğin: Öğretmen, güvenlik görevlisi, sekreter, müdür gibi.\n",
    "    * Personel tipinin özellikleri class içerisinde değişkenlerle tanımlanır. Bunlara Attribute ve/veya Property denir.\n",
    "    * Personelin yapabileceği işlemler ise class içerisinde fonksiyonlarla tanımlanır. Bunlara Method denir.\n",
    "    * Nesnelerin özellik ve işlevleri gizli olabilir.\n",
    "* Nesneler birbirinden kalıtılabilir. Yani bazı özellikleri ve işlevleri miras alabilirler.\n",
    "  * Base Class (temel sınıf), Super Class (üst sınıf)'tan miras aldığı şeyleri aynen kullanabilir veya farklı biçimlerde kullanabilir.\n",
    "\n",
    "### OOP Yapı Taşları:\n",
    "* Nesne (Object)\n",
    "* Sınıflar (Class)\n",
    "* Yöntemler-Metotlar-Fonksiyonlar (Methods) \n",
    "* Özellikler (Attributes , Properties)\n",
    "\n",
    "### 4 Temel İlke:\n",
    "1. **Encapsulation (Kapsülleme):**\n",
    "   * Nesnelerin özelliklerini ve işlevlerini bir arada tutma.\n",
    "   * Nesnelerin iç yapısını gizleme.\n",
    "   * Nesnelerin dışarıdan erişilebilir olmasını sağlama.\n",
    "2. **Abstraction (Soyutlama):**\n",
    "    * Karmaşık bir sistemi basitleştirme.\n",
    "    * Sadece gerekli olan özellik ve işlevlerin gösterilmesi.\n",
    "3. **Inheritance (Kalıtım):**\n",
    "    * Bir sınıfın başka bir sınıftan özelliklerini ve işlevlerini miras alması.\n",
    "    * Kod tekrarını önler.\n",
    "4. **Polymorphism (Çok Biçimlilik):**\n",
    "    * Aynı isimde birden fazla fonksiyonun olması.\n",
    "    * Aynı isimdeki fonksiyonların farklı işlevler yapması.\n",
    "\n",
    "### `Class`, `Atribute`, `Method`, `Property` nesnelerinin `public` / `private` olması - `static (class)` ve `dynamic (instance)` olarak tanımlanması"
   ]
  },
  {
   "cell_type": "code",
   "execution_count": null,
   "metadata": {},
   "outputs": [],
   "source": [
    "# araba iskeleli/form/şablon/ tipi tanımlayalım\n",
    "class araba:\n",
    "    #attribute\n",
    "    #public attribute: yani class dışından erişilebilir.\n",
    "    marka = \"Audi\"\n",
    "    model = None\n",
    "    yil   = None"
   ]
  }
 ],
 "metadata": {
  "kernelspec": {
   "display_name": "Python 3",
   "language": "python",
   "name": "python3"
  },
  "language_info": {
   "name": "python",
   "version": "3.11.3"
  }
 },
 "nbformat": 4,
 "nbformat_minor": 2
}
