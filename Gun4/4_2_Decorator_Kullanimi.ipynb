{
 "cells": [
  {
   "cell_type": "markdown",
   "metadata": {},
   "source": [
    "## Decorator Kullanımı\n",
    "* veritabanındaki triggerlara benzetebilir.\n",
    "* Mesela bir fonksiyon çalıştırmak isteyelim.\n",
    "  * Bu fonksiyonun başında ve sonunda bir işlem yapmak isteyelim.\n",
    "  * Fonksiyon yerine bir işlem yapmak isteybiliriz."
   ]
  },
  {
   "cell_type": "code",
   "execution_count": 16,
   "metadata": {},
   "outputs": [],
   "source": [
    "# decorator funtion tanımlayalım. istediğimiz fonksiyonu sarmalayacak.\n",
    "def loglayici_decorator(fnk):\n",
    "\n",
    "    #------\n",
    "    #fnk talep edilen fonksiyondur.\n",
    "    #------\n",
    "    #1.\n",
    "    #asıl fonksiyon çalışşsın.\n",
    "    #return fnk\n",
    "\n",
    "    #2.\n",
    "    #istediğimiz başka bir fonksiyon çalışsın.\n",
    "    #return lambda :\"merhaba ben decoratorden geldim\".upper()\n",
    "    \n",
    "    #---------------------------------------------------\n",
    "    #3.\n",
    "    #Yeni bir fonksiyon tanımlayalım onu döndürelim.\n",
    "    #bu fonksiyon bir kural çerçevesinde orjinal fonksiyonu da çalıştıracak\n",
    "    \n",
    "    def fnk_calismasiIstenen():\n",
    "        #return \"Bu mesaj decorator içerisinde tanımlanan fonkisyondan geldi.\"\n",
    "        \n",
    "        print(\"loglama işlemi başlatılıyor...\")\n",
    "\n",
    "        #--------\n",
    "        #orjinal fonksiyonu da çalıştıralım\n",
    "        fnk() #fnk orjinal fonksiyonu temsil eder. decoraetor parametresinden geldi\n",
    "        #--------\n",
    "\n",
    "        print(\"loglama tamamlandı...\")\n",
    "    #---------------------------------------------------\n",
    "\n",
    "    #gerçek çalışacak olan fonksiyon.\n",
    "    return fnk_calismasiIstenen"
   ]
  },
  {
   "cell_type": "code",
   "execution_count": 17,
   "metadata": {},
   "outputs": [],
   "source": [
    "@loglayici_decorator #decorator fonksiyonu kullanalım.\n",
    "def istenenFonksiyon():\n",
    "    print(\">>>> Merhaba dünyalı <<<<\")"
   ]
  },
  {
   "cell_type": "code",
   "execution_count": 18,
   "metadata": {},
   "outputs": [
    {
     "name": "stdout",
     "output_type": "stream",
     "text": [
      "loglama işlemi başlatılıyor...\n",
      ">>>> Merhaba dünyalı <<<<\n",
      "loglama tamamlandı...\n"
     ]
    }
   ],
   "source": [
    "istenenFonksiyon()"
   ]
  }
 ],
 "metadata": {
  "kernelspec": {
   "display_name": "Python 3",
   "language": "python",
   "name": "python3"
  },
  "language_info": {
   "codemirror_mode": {
    "name": "ipython",
    "version": 3
   },
   "file_extension": ".py",
   "mimetype": "text/x-python",
   "name": "python",
   "nbconvert_exporter": "python",
   "pygments_lexer": "ipython3",
   "version": "3.11.3"
  }
 },
 "nbformat": 4,
 "nbformat_minor": 2
}
