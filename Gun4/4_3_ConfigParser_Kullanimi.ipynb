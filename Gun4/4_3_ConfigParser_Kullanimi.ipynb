{
 "cells": [
  {
   "cell_type": "markdown",
   "metadata": {},
   "source": [
    "## ConfigParser Kullanimi\n",
    "* Dışarıda bir dosyaya bazı config bilgileri yazıp program içerisinde okumak isteyebiliriz.\n",
    "* Bunun farklı yöntemleri mevcut. ConfigParser sık kullanılan bir moduldur."
   ]
  },
  {
   "cell_type": "markdown",
   "metadata": {},
   "source": [
    "### Dosyalara Ham Veri Yazma / Okuma"
   ]
  },
  {
   "cell_type": "code",
   "execution_count": 1,
   "metadata": {},
   "outputs": [],
   "source": [
    "import os\n",
    "\n",
    "#klasor oluşturalım\n",
    "os.makedirs(\"databases\", exist_ok=True) "
   ]
  },
  {
   "cell_type": "code",
   "execution_count": 2,
   "metadata": {},
   "outputs": [],
   "source": [
    "\"\"\" \n",
    "    dosya yolları.\n",
    "    > linux /\n",
    "    > windows \\\\ veya /\n",
    "        > raw string kullanarak \\\\ kullanmaya gerek kalmaz\n",
    "\n",
    "    # dosya yolu verme yöntemleri:\n",
    "    absolute path: linux'da /home/user/Desktop/file.txt veya windows'da C:\\\\Users\\\\user\\\\Desktop\\\\file.txt\n",
    "    relative path: databases/file.txt\n",
    "        > . : bulunduğu dizin\n",
    "        > .. : bir üst dizin\n",
    " \"\"\"\n",
    "#file handle\n",
    "fh = open(file=\"./databases/file.txt\", mode=\"w\", encoding=\"UTF-8\") #w ile write yani ayazmak için açtık. r ile read yani okumak için açarız.\n",
    "#w: write, a: append, r: read, x: create, t: text, b: binary,a+: read and append, w+: read and write, x+: read and create\n",
    "\n",
    "#\n",
    "fh.writelines(\"merhaba dünyalı\")\n",
    "\n",
    "#\n",
    "fh.close() #dosyayı kapatma"
   ]
  },
  {
   "cell_type": "code",
   "execution_count": 3,
   "metadata": {},
   "outputs": [
    {
     "data": {
      "text/plain": [
       "'merhaba dünyalı'"
      ]
     },
     "execution_count": 3,
     "metadata": {},
     "output_type": "execute_result"
    }
   ],
   "source": [
    "fh = open(file=\"./databases/file.txt\", mode=\"r\", encoding=\"UTF-8\") \n",
    "\n",
    "fh.read()\n",
    "\n",
    "#\n",
    "#fh.close() #dosyayı kapatma"
   ]
  },
  {
   "cell_type": "markdown",
   "metadata": {},
   "source": [
    "### ConfigParser Kullanımı\n",
    "* `ayarlar.ini` dosyasında aşağıdaki şekilde bazı configler oluşturabiliriz.\n",
    "\n",
    "```\n",
    "[section]\n",
    "config1 = value1\n",
    "config2 = value2\n",
    "\n",
    "[OnemliSayilar]\n",
    "piSyasisi = 3.14\n",
    "eSayisi = 2.71\n",
    "```"
   ]
  },
  {
   "cell_type": "code",
   "execution_count": 4,
   "metadata": {},
   "outputs": [],
   "source": [
    "from configparser import ConfigParser"
   ]
  },
  {
   "cell_type": "code",
   "execution_count": 5,
   "metadata": {},
   "outputs": [],
   "source": [
    "cp = ConfigParser()"
   ]
  },
  {
   "cell_type": "markdown",
   "metadata": {},
   "source": [
    "#### Config Okuma İşlemi"
   ]
  },
  {
   "cell_type": "code",
   "execution_count": 6,
   "metadata": {},
   "outputs": [
    {
     "data": {
      "text/plain": [
       "['./databases/ayarlar.ini']"
      ]
     },
     "execution_count": 6,
     "metadata": {},
     "output_type": "execute_result"
    }
   ],
   "source": [
    "cp.read(\"./databases/ayarlar.ini\", encoding=\"UTF-8\")"
   ]
  },
  {
   "cell_type": "code",
   "execution_count": 7,
   "metadata": {},
   "outputs": [
    {
     "data": {
      "text/plain": [
       "'3.14'"
      ]
     },
     "execution_count": 7,
     "metadata": {},
     "output_type": "execute_result"
    }
   ],
   "source": [
    "#str olarak okuma\n",
    "cp[\"section\"].get(\"config1\")\n",
    "cp[\"OnemliSayilar\"].get(\"piSayisi\")"
   ]
  },
  {
   "cell_type": "code",
   "execution_count": 8,
   "metadata": {},
   "outputs": [
    {
     "data": {
      "text/plain": [
       "3.14"
      ]
     },
     "execution_count": 8,
     "metadata": {},
     "output_type": "execute_result"
    }
   ],
   "source": [
    "#float olarak okuma\n",
    "cp[\"OnemliSayilar\"].getfloat(\"piSayisi\")"
   ]
  },
  {
   "cell_type": "markdown",
   "metadata": {},
   "source": [
    "#### Config Yazma İşlemi"
   ]
  },
  {
   "cell_type": "code",
   "execution_count": 10,
   "metadata": {},
   "outputs": [],
   "source": [
    "cp[\"sonradanEklenenler\"] = {\n",
    "    \"arkaplanRengi\": \"red\",\n",
    "    \"fontBuyuklugu\": 12\n",
    "}"
   ]
  },
  {
   "cell_type": "code",
   "execution_count": 12,
   "metadata": {},
   "outputs": [],
   "source": [
    "fh = open(\"./databases/ayarlar.ini\", \"w\", encoding=\"UTF-8\")\n",
    "cp.write(fh)\n",
    "\n",
    "#\n",
    "fh.close()"
   ]
  }
 ],
 "metadata": {
  "kernelspec": {
   "display_name": "Python 3",
   "language": "python",
   "name": "python3"
  },
  "language_info": {
   "codemirror_mode": {
    "name": "ipython",
    "version": 3
   },
   "file_extension": ".py",
   "mimetype": "text/x-python",
   "name": "python",
   "nbconvert_exporter": "python",
   "pygments_lexer": "ipython3",
   "version": "3.11.3"
  }
 },
 "nbformat": 4,
 "nbformat_minor": 2
}
